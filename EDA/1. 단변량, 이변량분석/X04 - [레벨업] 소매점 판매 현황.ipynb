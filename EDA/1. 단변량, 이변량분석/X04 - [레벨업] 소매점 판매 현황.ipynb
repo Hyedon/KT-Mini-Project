{
 "cells": [
  {
   "cell_type": "markdown",
   "metadata": {
    "id": "BFhIXgdYoYGp"
   },
   "source": [
    "<center><img src='https://raw.githubusercontent.com/Jangrae/img/master/title.png' width=500/></center>"
   ]
  },
  {
   "cell_type": "markdown",
   "metadata": {
    "id": "d6jVPeiR2MK_"
   },
   "source": [
    "<center><img src='https://raw.githubusercontent.com/Jangrae/img/master/practice3.png' width=300/></center>"
   ]
  },
  {
   "cell_type": "markdown",
   "metadata": {
    "id": "ZogNxmpZgBMp"
   },
   "source": [
    "# 소매점 판매 현황"
   ]
  },
  {
   "cell_type": "markdown",
   "metadata": {
    "id": "0IUReT56gBMq"
   },
   "source": [
    "<img src='https://raw.githubusercontent.com/Jangrae/img/master/retail.png' width=\"650\" align=\"left\">"
   ]
  },
  {
   "cell_type": "markdown",
   "metadata": {
    "id": "qb1iLyXwGlnw"
   },
   "source": [
    "## 1.환경 설정\n",
    "\n",
    "- 데이터 탐색과 전처리를 하기 전 라이브러리와 파일을 읽어옵니다.\n",
    "- 시각화에 한글이 포함된 경우 이에 대한 설정을 진행합니다."
   ]
  },
  {
   "cell_type": "markdown",
   "metadata": {
    "id": "4Xz2TqMRgBMr"
   },
   "source": [
    "**1) 한글 설정**\n",
    "\n",
    "- Jupyter Notebook 시각화에 한글이 표시되게 설정합니다."
   ]
  },
  {
   "cell_type": "code",
   "execution_count": 1,
   "metadata": {
    "id": "CjQJWPwmgBMr"
   },
   "outputs": [],
   "source": [
    "# 라이브러리 불러오기\n",
    "import matplotlib \n",
    "import matplotlib.pyplot as plt\n",
    "\n",
    "# 폰트설정\n",
    "matplotlib.font_manager._rebuild()\n",
    "plt.rc('font', family='Malgun Gothic')\n",
    "plt.rcParams['axes.unicode_minus'] = False"
   ]
  },
  {
   "cell_type": "markdown",
   "metadata": {
    "id": "0uNXxebRGrd8"
   },
   "source": [
    "**2) 라이브러리 불러오기**\n",
    "\n",
    "- 사용할 라이브러리를 불러옵니다."
   ]
  },
  {
   "cell_type": "code",
   "execution_count": 2,
   "metadata": {
    "id": "zFm_DPTaUdqQ"
   },
   "outputs": [],
   "source": [
    "# 라이브러리 불러오기\n",
    "import numpy as np\n",
    "import pandas as pd\n",
    "\n",
    "%config InlineBackend.figure_format = 'retina'"
   ]
  },
  {
   "cell_type": "markdown",
   "metadata": {
    "id": "PcLUjkq0wxpF"
   },
   "source": [
    "**3) 데이터 읽어오기**\n",
    "\n",
    "- 다음 경로의 파일을 읽어와 customers, products, orders 데이터프레임을 만듭니다.\n",
    "- 파일 경로1: 'https://raw.githubusercontent.com/Jangrae/csv/master/customers.csv'    \n",
    "- 파일 경로2: 'https://raw.githubusercontent.com/Jangrae/csv/master/products.csv'\n",
    "- 파일 경로3: 'https://raw.githubusercontent.com/Jangrae/csv/master/orders.csv'\n",
    "- 단축 경로1: 'https://bit.ly/CustomersFile'    \n",
    "- 단축 경로2: 'https://bit.ly/ProductsFile'  \n",
    "- 단축 경로3: 'https://bit.ly/OrdersFile'  "
   ]
  },
  {
   "cell_type": "code",
   "execution_count": 3,
   "metadata": {
    "id": "91c9vKQ0E1A4"
   },
   "outputs": [
    {
     "data": {
      "text/html": [
       "<div>\n",
       "<style scoped>\n",
       "    .dataframe tbody tr th:only-of-type {\n",
       "        vertical-align: middle;\n",
       "    }\n",
       "\n",
       "    .dataframe tbody tr th {\n",
       "        vertical-align: top;\n",
       "    }\n",
       "\n",
       "    .dataframe thead th {\n",
       "        text-align: right;\n",
       "    }\n",
       "</style>\n",
       "<table border=\"1\" class=\"dataframe\">\n",
       "  <thead>\n",
       "    <tr style=\"text-align: right;\">\n",
       "      <th></th>\n",
       "      <th>CustomerID</th>\n",
       "      <th>RegisterDate</th>\n",
       "      <th>Address</th>\n",
       "      <th>Gender</th>\n",
       "      <th>BirthYear</th>\n",
       "      <th>Addr1</th>\n",
       "      <th>Addr2</th>\n",
       "    </tr>\n",
       "  </thead>\n",
       "  <tbody>\n",
       "    <tr>\n",
       "      <th>0</th>\n",
       "      <td>c017487</td>\n",
       "      <td>2002-07-31</td>\n",
       "      <td>경기 성남시 중원구 둔촌대로190번길</td>\n",
       "      <td>F</td>\n",
       "      <td>1968</td>\n",
       "      <td>경기도</td>\n",
       "      <td>성남시</td>\n",
       "    </tr>\n",
       "    <tr>\n",
       "      <th>1</th>\n",
       "      <td>c017503</td>\n",
       "      <td>2002-07-31</td>\n",
       "      <td>서울 마포구 새터산12길</td>\n",
       "      <td>F</td>\n",
       "      <td>1971</td>\n",
       "      <td>서울특별시</td>\n",
       "      <td>마포구</td>\n",
       "    </tr>\n",
       "    <tr>\n",
       "      <th>2</th>\n",
       "      <td>c017517</td>\n",
       "      <td>2002-07-31</td>\n",
       "      <td>경기도 남양주시 와부읍 덕소로</td>\n",
       "      <td>M</td>\n",
       "      <td>1967</td>\n",
       "      <td>경기도</td>\n",
       "      <td>남양주시</td>\n",
       "    </tr>\n",
       "    <tr>\n",
       "      <th>3</th>\n",
       "      <td>c017522</td>\n",
       "      <td>2002-07-31</td>\n",
       "      <td>강원도 원주시 단구로</td>\n",
       "      <td>F</td>\n",
       "      <td>1965</td>\n",
       "      <td>강원도</td>\n",
       "      <td>원주시</td>\n",
       "    </tr>\n",
       "    <tr>\n",
       "      <th>4</th>\n",
       "      <td>c017526</td>\n",
       "      <td>2002-07-31</td>\n",
       "      <td>경기도 부천시 오정구 소사로730번길</td>\n",
       "      <td>F</td>\n",
       "      <td>1960</td>\n",
       "      <td>경기도</td>\n",
       "      <td>부천시</td>\n",
       "    </tr>\n",
       "  </tbody>\n",
       "</table>\n",
       "</div>"
      ],
      "text/plain": [
       "  CustomerID RegisterDate               Address Gender  BirthYear  Addr1 Addr2\n",
       "0    c017487   2002-07-31  경기 성남시 중원구 둔촌대로190번길      F       1968    경기도   성남시\n",
       "1    c017503   2002-07-31         서울 마포구 새터산12길      F       1971  서울특별시   마포구\n",
       "2    c017517   2002-07-31      경기도 남양주시 와부읍 덕소로      M       1967    경기도  남양주시\n",
       "3    c017522   2002-07-31           강원도 원주시 단구로      F       1965    강원도   원주시\n",
       "4    c017526   2002-07-31  경기도 부천시 오정구 소사로730번길      F       1960    경기도   부천시"
      ]
     },
     "execution_count": 3,
     "metadata": {},
     "output_type": "execute_result"
    }
   ],
   "source": [
    "# 고객 데이터 불러오기\n",
    "path = 'https://bit.ly/CustomersFile'\n",
    "customers = pd.read_csv(path)\n",
    "customers.head()"
   ]
  },
  {
   "cell_type": "code",
   "execution_count": 4,
   "metadata": {
    "id": "QSedynVWEp3W"
   },
   "outputs": [
    {
     "data": {
      "text/html": [
       "<div>\n",
       "<style scoped>\n",
       "    .dataframe tbody tr th:only-of-type {\n",
       "        vertical-align: middle;\n",
       "    }\n",
       "\n",
       "    .dataframe tbody tr th {\n",
       "        vertical-align: top;\n",
       "    }\n",
       "\n",
       "    .dataframe thead th {\n",
       "        text-align: right;\n",
       "    }\n",
       "</style>\n",
       "<table border=\"1\" class=\"dataframe\">\n",
       "  <thead>\n",
       "    <tr style=\"text-align: right;\">\n",
       "      <th></th>\n",
       "      <th>ProductID</th>\n",
       "      <th>ProductName</th>\n",
       "      <th>Category</th>\n",
       "      <th>SubCategory</th>\n",
       "      <th>CategoryOrd</th>\n",
       "    </tr>\n",
       "  </thead>\n",
       "  <tbody>\n",
       "    <tr>\n",
       "      <th>0</th>\n",
       "      <td>p1001771</td>\n",
       "      <td>마늘</td>\n",
       "      <td>채소</td>\n",
       "      <td>뿌리채소</td>\n",
       "      <td>5</td>\n",
       "    </tr>\n",
       "    <tr>\n",
       "      <th>1</th>\n",
       "      <td>p1002841</td>\n",
       "      <td>딸기_대</td>\n",
       "      <td>과일</td>\n",
       "      <td>과채</td>\n",
       "      <td>2</td>\n",
       "    </tr>\n",
       "    <tr>\n",
       "      <th>2</th>\n",
       "      <td>p1005621</td>\n",
       "      <td>숙주나물</td>\n",
       "      <td>반찬류</td>\n",
       "      <td>나물류</td>\n",
       "      <td>1</td>\n",
       "    </tr>\n",
       "    <tr>\n",
       "      <th>3</th>\n",
       "      <td>p1005771</td>\n",
       "      <td>두부_소</td>\n",
       "      <td>반찬류</td>\n",
       "      <td>두부</td>\n",
       "      <td>1</td>\n",
       "    </tr>\n",
       "    <tr>\n",
       "      <th>4</th>\n",
       "      <td>p1005891</td>\n",
       "      <td>두부_대</td>\n",
       "      <td>반찬류</td>\n",
       "      <td>두부</td>\n",
       "      <td>1</td>\n",
       "    </tr>\n",
       "  </tbody>\n",
       "</table>\n",
       "</div>"
      ],
      "text/plain": [
       "  ProductID ProductName Category SubCategory  CategoryOrd\n",
       "0  p1001771          마늘       채소        뿌리채소            5\n",
       "1  p1002841        딸기_대       과일          과채            2\n",
       "2  p1005621        숙주나물      반찬류         나물류            1\n",
       "3  p1005771        두부_소      반찬류          두부            1\n",
       "4  p1005891        두부_대      반찬류          두부            1"
      ]
     },
     "execution_count": 4,
     "metadata": {},
     "output_type": "execute_result"
    }
   ],
   "source": [
    "# 상품 데이터 불러오기\n",
    "path = 'https://bit.ly/ProductsFile'\n",
    "products = pd.read_csv(path)\n",
    "products.head()"
   ]
  },
  {
   "cell_type": "code",
   "execution_count": 5,
   "metadata": {
    "id": "OPfgGedaEqnw"
   },
   "outputs": [
    {
     "data": {
      "text/html": [
       "<div>\n",
       "<style scoped>\n",
       "    .dataframe tbody tr th:only-of-type {\n",
       "        vertical-align: middle;\n",
       "    }\n",
       "\n",
       "    .dataframe tbody tr th {\n",
       "        vertical-align: top;\n",
       "    }\n",
       "\n",
       "    .dataframe thead th {\n",
       "        text-align: right;\n",
       "    }\n",
       "</style>\n",
       "<table border=\"1\" class=\"dataframe\">\n",
       "  <thead>\n",
       "    <tr style=\"text-align: right;\">\n",
       "      <th></th>\n",
       "      <th>OrderID</th>\n",
       "      <th>Seq</th>\n",
       "      <th>OrderDate</th>\n",
       "      <th>ProductID</th>\n",
       "      <th>Qty</th>\n",
       "      <th>Amt</th>\n",
       "      <th>CustomerID</th>\n",
       "    </tr>\n",
       "  </thead>\n",
       "  <tbody>\n",
       "    <tr>\n",
       "      <th>0</th>\n",
       "      <td>1</td>\n",
       "      <td>1</td>\n",
       "      <td>2016-01-02</td>\n",
       "      <td>p1030071</td>\n",
       "      <td>2</td>\n",
       "      <td>7900</td>\n",
       "      <td>c107853</td>\n",
       "    </tr>\n",
       "    <tr>\n",
       "      <th>1</th>\n",
       "      <td>2</td>\n",
       "      <td>1</td>\n",
       "      <td>2016-01-02</td>\n",
       "      <td>p1012761</td>\n",
       "      <td>1</td>\n",
       "      <td>1700</td>\n",
       "      <td>c110521</td>\n",
       "    </tr>\n",
       "    <tr>\n",
       "      <th>2</th>\n",
       "      <td>2</td>\n",
       "      <td>2</td>\n",
       "      <td>2016-01-02</td>\n",
       "      <td>p1012581</td>\n",
       "      <td>1</td>\n",
       "      <td>1000</td>\n",
       "      <td>c110521</td>\n",
       "    </tr>\n",
       "    <tr>\n",
       "      <th>3</th>\n",
       "      <td>2</td>\n",
       "      <td>3</td>\n",
       "      <td>2016-01-02</td>\n",
       "      <td>p1175481</td>\n",
       "      <td>1</td>\n",
       "      <td>1300</td>\n",
       "      <td>c110521</td>\n",
       "    </tr>\n",
       "    <tr>\n",
       "      <th>4</th>\n",
       "      <td>2</td>\n",
       "      <td>4</td>\n",
       "      <td>2016-01-02</td>\n",
       "      <td>p1178011</td>\n",
       "      <td>1</td>\n",
       "      <td>8800</td>\n",
       "      <td>c110521</td>\n",
       "    </tr>\n",
       "  </tbody>\n",
       "</table>\n",
       "</div>"
      ],
      "text/plain": [
       "   OrderID  Seq   OrderDate ProductID  Qty   Amt CustomerID\n",
       "0        1    1  2016-01-02  p1030071    2  7900    c107853\n",
       "1        2    1  2016-01-02  p1012761    1  1700    c110521\n",
       "2        2    2  2016-01-02  p1012581    1  1000    c110521\n",
       "3        2    3  2016-01-02  p1175481    1  1300    c110521\n",
       "4        2    4  2016-01-02  p1178011    1  8800    c110521"
      ]
     },
     "execution_count": 5,
     "metadata": {},
     "output_type": "execute_result"
    }
   ],
   "source": [
    "path = 'https://bit.ly/OrdersFile'\n",
    "orders = pd.read_csv(path)\n",
    "orders.head()"
   ]
  },
  {
   "cell_type": "markdown",
   "metadata": {
    "id": "H4KWZGI8HBIA"
   },
   "source": [
    "## 2.데이터 탐색\n",
    "\n",
    "다음과 같은 정보 확인을 통해 처리할 대상 데이터를 이해합니다.\n",
    "- 상/하위 데이터 확인\n",
    "- 데이터프레임 크기 확인\n",
    "- 열 이름, 데이터 형식, 값 개수 등 확인\n",
    "- 기초 통계정보 확인\n",
    "- 결측치 확인\n",
    "- 범주형 데이터 확인\n",
    "- 개별 열 값 상세 확인 등"
   ]
  },
  {
   "cell_type": "markdown",
   "metadata": {
    "id": "X7I-KgAjJ60t"
   },
   "source": [
    "**1) 고객 정보(customers)**\n",
    "\n",
    "- customers 데이터프레임을 충분히 탐색합니다.\n",
    "- 간단한 집계를 수행해 보는 것도 좋은 방법입니다."
   ]
  },
  {
   "cell_type": "code",
   "execution_count": 6,
   "metadata": {
    "id": "SBDudJlmHDOi"
   },
   "outputs": [
    {
     "data": {
      "text/html": [
       "<div>\n",
       "<style scoped>\n",
       "    .dataframe tbody tr th:only-of-type {\n",
       "        vertical-align: middle;\n",
       "    }\n",
       "\n",
       "    .dataframe tbody tr th {\n",
       "        vertical-align: top;\n",
       "    }\n",
       "\n",
       "    .dataframe thead th {\n",
       "        text-align: right;\n",
       "    }\n",
       "</style>\n",
       "<table border=\"1\" class=\"dataframe\">\n",
       "  <thead>\n",
       "    <tr style=\"text-align: right;\">\n",
       "      <th></th>\n",
       "      <th>CustomerID</th>\n",
       "      <th>RegisterDate</th>\n",
       "      <th>Address</th>\n",
       "      <th>Gender</th>\n",
       "      <th>BirthYear</th>\n",
       "      <th>Addr1</th>\n",
       "      <th>Addr2</th>\n",
       "    </tr>\n",
       "  </thead>\n",
       "  <tbody>\n",
       "    <tr>\n",
       "      <th>0</th>\n",
       "      <td>c017487</td>\n",
       "      <td>2002-07-31</td>\n",
       "      <td>경기 성남시 중원구 둔촌대로190번길</td>\n",
       "      <td>F</td>\n",
       "      <td>1968</td>\n",
       "      <td>경기도</td>\n",
       "      <td>성남시</td>\n",
       "    </tr>\n",
       "    <tr>\n",
       "      <th>1</th>\n",
       "      <td>c017503</td>\n",
       "      <td>2002-07-31</td>\n",
       "      <td>서울 마포구 새터산12길</td>\n",
       "      <td>F</td>\n",
       "      <td>1971</td>\n",
       "      <td>서울특별시</td>\n",
       "      <td>마포구</td>\n",
       "    </tr>\n",
       "    <tr>\n",
       "      <th>2</th>\n",
       "      <td>c017517</td>\n",
       "      <td>2002-07-31</td>\n",
       "      <td>경기도 남양주시 와부읍 덕소로</td>\n",
       "      <td>M</td>\n",
       "      <td>1967</td>\n",
       "      <td>경기도</td>\n",
       "      <td>남양주시</td>\n",
       "    </tr>\n",
       "    <tr>\n",
       "      <th>3</th>\n",
       "      <td>c017522</td>\n",
       "      <td>2002-07-31</td>\n",
       "      <td>강원도 원주시 단구로</td>\n",
       "      <td>F</td>\n",
       "      <td>1965</td>\n",
       "      <td>강원도</td>\n",
       "      <td>원주시</td>\n",
       "    </tr>\n",
       "    <tr>\n",
       "      <th>4</th>\n",
       "      <td>c017526</td>\n",
       "      <td>2002-07-31</td>\n",
       "      <td>경기도 부천시 오정구 소사로730번길</td>\n",
       "      <td>F</td>\n",
       "      <td>1960</td>\n",
       "      <td>경기도</td>\n",
       "      <td>부천시</td>\n",
       "    </tr>\n",
       "    <tr>\n",
       "      <th>5</th>\n",
       "      <td>c017531</td>\n",
       "      <td>2002-07-31</td>\n",
       "      <td>인천광역시 서구 완정로64번길</td>\n",
       "      <td>F</td>\n",
       "      <td>1970</td>\n",
       "      <td>인천광역시</td>\n",
       "      <td>서구</td>\n",
       "    </tr>\n",
       "    <tr>\n",
       "      <th>6</th>\n",
       "      <td>c017538</td>\n",
       "      <td>2002-07-31</td>\n",
       "      <td>경기도 과천시 관문로</td>\n",
       "      <td>F</td>\n",
       "      <td>1964</td>\n",
       "      <td>경기도</td>\n",
       "      <td>과천시</td>\n",
       "    </tr>\n",
       "    <tr>\n",
       "      <th>7</th>\n",
       "      <td>c017544</td>\n",
       "      <td>2002-07-31</td>\n",
       "      <td>경기도 고양시 일산동구 고풍로</td>\n",
       "      <td>M</td>\n",
       "      <td>1965</td>\n",
       "      <td>경기도</td>\n",
       "      <td>고양시</td>\n",
       "    </tr>\n",
       "    <tr>\n",
       "      <th>8</th>\n",
       "      <td>c017546</td>\n",
       "      <td>2002-07-31</td>\n",
       "      <td>경기도 부천시 원미구 중동로</td>\n",
       "      <td>F</td>\n",
       "      <td>1966</td>\n",
       "      <td>경기도</td>\n",
       "      <td>부천시</td>\n",
       "    </tr>\n",
       "    <tr>\n",
       "      <th>9</th>\n",
       "      <td>c017551</td>\n",
       "      <td>2002-07-31</td>\n",
       "      <td>경기도 안성시 현수2길</td>\n",
       "      <td>F</td>\n",
       "      <td>1962</td>\n",
       "      <td>경기도</td>\n",
       "      <td>안성시</td>\n",
       "    </tr>\n",
       "  </tbody>\n",
       "</table>\n",
       "</div>"
      ],
      "text/plain": [
       "  CustomerID RegisterDate               Address Gender  BirthYear  Addr1 Addr2\n",
       "0    c017487   2002-07-31  경기 성남시 중원구 둔촌대로190번길      F       1968    경기도   성남시\n",
       "1    c017503   2002-07-31         서울 마포구 새터산12길      F       1971  서울특별시   마포구\n",
       "2    c017517   2002-07-31      경기도 남양주시 와부읍 덕소로      M       1967    경기도  남양주시\n",
       "3    c017522   2002-07-31           강원도 원주시 단구로      F       1965    강원도   원주시\n",
       "4    c017526   2002-07-31  경기도 부천시 오정구 소사로730번길      F       1960    경기도   부천시\n",
       "5    c017531   2002-07-31      인천광역시 서구 완정로64번길      F       1970  인천광역시    서구\n",
       "6    c017538   2002-07-31           경기도 과천시 관문로      F       1964    경기도   과천시\n",
       "7    c017544   2002-07-31      경기도 고양시 일산동구 고풍로      M       1965    경기도   고양시\n",
       "8    c017546   2002-07-31       경기도 부천시 원미구 중동로      F       1966    경기도   부천시\n",
       "9    c017551   2002-07-31          경기도 안성시 현수2길      F       1962    경기도   안성시"
      ]
     },
     "execution_count": 6,
     "metadata": {},
     "output_type": "execute_result"
    }
   ],
   "source": [
    "# 상위 10개의 데이터\n",
    "customers.head(10)\n"
   ]
  },
  {
   "cell_type": "code",
   "execution_count": 7,
   "metadata": {
    "id": "x9_8MKEwtWFZ"
   },
   "outputs": [
    {
     "data": {
      "text/html": [
       "<div>\n",
       "<style scoped>\n",
       "    .dataframe tbody tr th:only-of-type {\n",
       "        vertical-align: middle;\n",
       "    }\n",
       "\n",
       "    .dataframe tbody tr th {\n",
       "        vertical-align: top;\n",
       "    }\n",
       "\n",
       "    .dataframe thead th {\n",
       "        text-align: right;\n",
       "    }\n",
       "</style>\n",
       "<table border=\"1\" class=\"dataframe\">\n",
       "  <thead>\n",
       "    <tr style=\"text-align: right;\">\n",
       "      <th></th>\n",
       "      <th>CustomerID</th>\n",
       "      <th>RegisterDate</th>\n",
       "      <th>Address</th>\n",
       "      <th>Gender</th>\n",
       "      <th>BirthYear</th>\n",
       "      <th>Addr1</th>\n",
       "      <th>Addr2</th>\n",
       "    </tr>\n",
       "  </thead>\n",
       "  <tbody>\n",
       "    <tr>\n",
       "      <th>2233</th>\n",
       "      <td>c400312</td>\n",
       "      <td>2017-03-03</td>\n",
       "      <td>인천 동구 송미로</td>\n",
       "      <td>F</td>\n",
       "      <td>1975</td>\n",
       "      <td>인천광역시</td>\n",
       "      <td>동구</td>\n",
       "    </tr>\n",
       "    <tr>\n",
       "      <th>2234</th>\n",
       "      <td>c400470</td>\n",
       "      <td>2017-03-06</td>\n",
       "      <td>경기도 용인시 수지구 수풍로</td>\n",
       "      <td>F</td>\n",
       "      <td>1979</td>\n",
       "      <td>경기도</td>\n",
       "      <td>용인시</td>\n",
       "    </tr>\n",
       "    <tr>\n",
       "      <th>2235</th>\n",
       "      <td>c400665</td>\n",
       "      <td>2017-03-08</td>\n",
       "      <td>인천광역시 계양구 장제로</td>\n",
       "      <td>F</td>\n",
       "      <td>1964</td>\n",
       "      <td>인천광역시</td>\n",
       "      <td>계양구</td>\n",
       "    </tr>\n",
       "    <tr>\n",
       "      <th>2236</th>\n",
       "      <td>c400706</td>\n",
       "      <td>2017-03-09</td>\n",
       "      <td>서울 마포구 백범로</td>\n",
       "      <td>F</td>\n",
       "      <td>1981</td>\n",
       "      <td>서울특별시</td>\n",
       "      <td>마포구</td>\n",
       "    </tr>\n",
       "    <tr>\n",
       "      <th>2237</th>\n",
       "      <td>c400735</td>\n",
       "      <td>2017-03-09</td>\n",
       "      <td>경기도 남양주시 와부읍 덕소로</td>\n",
       "      <td>F</td>\n",
       "      <td>1970</td>\n",
       "      <td>경기도</td>\n",
       "      <td>남양주시</td>\n",
       "    </tr>\n",
       "    <tr>\n",
       "      <th>2238</th>\n",
       "      <td>c400937</td>\n",
       "      <td>2017-03-12</td>\n",
       "      <td>인천광역시 계양구 주부토로</td>\n",
       "      <td>F</td>\n",
       "      <td>1980</td>\n",
       "      <td>인천광역시</td>\n",
       "      <td>계양구</td>\n",
       "    </tr>\n",
       "    <tr>\n",
       "      <th>2239</th>\n",
       "      <td>c401555</td>\n",
       "      <td>2017-03-20</td>\n",
       "      <td>경기도 남양주시 별내면 청학로68번길</td>\n",
       "      <td>F</td>\n",
       "      <td>1981</td>\n",
       "      <td>경기도</td>\n",
       "      <td>남양주시</td>\n",
       "    </tr>\n",
       "    <tr>\n",
       "      <th>2240</th>\n",
       "      <td>c401584</td>\n",
       "      <td>2017-03-20</td>\n",
       "      <td>경기도 성남시 분당구 불정로</td>\n",
       "      <td>F</td>\n",
       "      <td>1979</td>\n",
       "      <td>경기도</td>\n",
       "      <td>성남시</td>\n",
       "    </tr>\n",
       "    <tr>\n",
       "      <th>2241</th>\n",
       "      <td>c402010</td>\n",
       "      <td>2017-03-25</td>\n",
       "      <td>경기도 성남시 분당구 판교원로82번길</td>\n",
       "      <td>F</td>\n",
       "      <td>1969</td>\n",
       "      <td>경기도</td>\n",
       "      <td>성남시</td>\n",
       "    </tr>\n",
       "    <tr>\n",
       "      <th>2242</th>\n",
       "      <td>c402634</td>\n",
       "      <td>2017-03-30</td>\n",
       "      <td>경기도 용인시 수지구 죽전로</td>\n",
       "      <td>F</td>\n",
       "      <td>1960</td>\n",
       "      <td>경기도</td>\n",
       "      <td>용인시</td>\n",
       "    </tr>\n",
       "  </tbody>\n",
       "</table>\n",
       "</div>"
      ],
      "text/plain": [
       "     CustomerID RegisterDate               Address Gender  BirthYear  Addr1  \\\n",
       "2233    c400312   2017-03-03             인천 동구 송미로      F       1975  인천광역시   \n",
       "2234    c400470   2017-03-06       경기도 용인시 수지구 수풍로      F       1979    경기도   \n",
       "2235    c400665   2017-03-08         인천광역시 계양구 장제로      F       1964  인천광역시   \n",
       "2236    c400706   2017-03-09            서울 마포구 백범로      F       1981  서울특별시   \n",
       "2237    c400735   2017-03-09      경기도 남양주시 와부읍 덕소로      F       1970    경기도   \n",
       "2238    c400937   2017-03-12        인천광역시 계양구 주부토로      F       1980  인천광역시   \n",
       "2239    c401555   2017-03-20  경기도 남양주시 별내면 청학로68번길      F       1981    경기도   \n",
       "2240    c401584   2017-03-20       경기도 성남시 분당구 불정로      F       1979    경기도   \n",
       "2241    c402010   2017-03-25  경기도 성남시 분당구 판교원로82번길      F       1969    경기도   \n",
       "2242    c402634   2017-03-30       경기도 용인시 수지구 죽전로      F       1960    경기도   \n",
       "\n",
       "     Addr2  \n",
       "2233    동구  \n",
       "2234   용인시  \n",
       "2235   계양구  \n",
       "2236   마포구  \n",
       "2237  남양주시  \n",
       "2238   계양구  \n",
       "2239  남양주시  \n",
       "2240   성남시  \n",
       "2241   성남시  \n",
       "2242   용인시  "
      ]
     },
     "execution_count": 7,
     "metadata": {},
     "output_type": "execute_result"
    }
   ],
   "source": [
    "# 하위 10개의 데이터\n",
    "customers.tail(10)\n"
   ]
  },
  {
   "cell_type": "code",
   "execution_count": 8,
   "metadata": {
    "id": "3BTuZtbRs4HO"
   },
   "outputs": [
    {
     "name": "stdout",
     "output_type": "stream",
     "text": [
      "<class 'pandas.core.frame.DataFrame'>\n",
      "RangeIndex: 2243 entries, 0 to 2242\n",
      "Data columns (total 7 columns):\n",
      " #   Column        Non-Null Count  Dtype \n",
      "---  ------        --------------  ----- \n",
      " 0   CustomerID    2243 non-null   object\n",
      " 1   RegisterDate  2243 non-null   object\n",
      " 2   Address       2243 non-null   object\n",
      " 3   Gender        2243 non-null   object\n",
      " 4   BirthYear     2243 non-null   int64 \n",
      " 5   Addr1         2243 non-null   object\n",
      " 6   Addr2         2243 non-null   object\n",
      "dtypes: int64(1), object(6)\n",
      "memory usage: 122.8+ KB\n"
     ]
    }
   ],
   "source": [
    "#열 정보 확인\n",
    "customers.info()\n"
   ]
  },
  {
   "cell_type": "code",
   "execution_count": 9,
   "metadata": {},
   "outputs": [
    {
     "data": {
      "text/plain": [
       "CustomerID      0\n",
       "RegisterDate    0\n",
       "Address         0\n",
       "Gender          0\n",
       "BirthYear       0\n",
       "Addr1           0\n",
       "Addr2           0\n",
       "dtype: int64"
      ]
     },
     "execution_count": 9,
     "metadata": {},
     "output_type": "execute_result"
    }
   ],
   "source": [
    "# 결측치 확인\n",
    "customers.isna().sum()"
   ]
  },
  {
   "cell_type": "code",
   "execution_count": 10,
   "metadata": {
    "id": "vAZLgCLXKCMB"
   },
   "outputs": [
    {
     "data": {
      "text/plain": [
       "F    2060\n",
       "M     183\n",
       "Name: Gender, dtype: int64"
      ]
     },
     "execution_count": 10,
     "metadata": {},
     "output_type": "execute_result"
    }
   ],
   "source": [
    "# 범주형 데이터 고객 성별 분포 확인\n",
    "customers['Gender'].value_counts()"
   ]
  },
  {
   "cell_type": "code",
   "execution_count": 11,
   "metadata": {
    "id": "SYVsLxh6KguC"
   },
   "outputs": [
    {
     "data": {
      "text/plain": [
       "경기도      1260\n",
       "서울특별시     564\n",
       "인천광역시     325\n",
       "강원도        62\n",
       "대구광역시       8\n",
       "충청북도        8\n",
       "충청남도        6\n",
       "전라남도        3\n",
       "광주광역시       3\n",
       "경상북도        2\n",
       "경상남도        1\n",
       "전라북도        1\n",
       "Name: Addr1, dtype: int64"
      ]
     },
     "execution_count": 11,
     "metadata": {},
     "output_type": "execute_result"
    }
   ],
   "source": [
    "# 범주형 데이터 특별시,도별 고객 분포 확인\n",
    "customers['Addr1'].value_counts()\n"
   ]
  },
  {
   "cell_type": "code",
   "execution_count": 12,
   "metadata": {
    "id": "RlaiQ6xOGNvx"
   },
   "outputs": [
    {
     "data": {
      "text/plain": [
       "안성시                 210\n",
       "부천시                 147\n",
       "용인시                 142\n",
       "고양시                 117\n",
       "성남시                 109\n",
       "                   ... \n",
       "이천시                   1\n",
       "경주시                   1\n",
       "은평구진관20상림마을은평뉴타운      1\n",
       "의정부시                  1\n",
       "동두천시                  1\n",
       "Name: Addr2, Length: 78, dtype: int64"
      ]
     },
     "execution_count": 12,
     "metadata": {},
     "output_type": "execute_result"
    }
   ],
   "source": [
    "# 범주형 데이터 시, 군별 고객 분포 확인\n",
    "customers['Addr2'].value_counts()\n"
   ]
  },
  {
   "cell_type": "code",
   "execution_count": 13,
   "metadata": {
    "id": "z8eUFVYTGNvy"
   },
   "outputs": [
    {
     "data": {
      "text/plain": [
       "1973    122\n",
       "1971    116\n",
       "1974    107\n",
       "1979    105\n",
       "1970    104\n",
       "       ... \n",
       "1939      2\n",
       "1936      1\n",
       "1994      1\n",
       "1995      1\n",
       "1999      1\n",
       "Name: BirthYear, Length: 62, dtype: int64"
      ]
     },
     "execution_count": 13,
     "metadata": {},
     "output_type": "execute_result"
    }
   ],
   "source": [
    "#범주형 데이터 생년 고객분포\n",
    "customers['BirthYear'].value_counts()\n"
   ]
  },
  {
   "cell_type": "markdown",
   "metadata": {
    "id": "ktmISAkXgBM0"
   },
   "source": [
    "**2) 상품 정보(products)**\n",
    "\n",
    "- products 데이터프레임을 충분히 탐색합니다.\n",
    "- 간단한 집계를 수행해 보는 것도 좋은 방법입니다."
   ]
  },
  {
   "cell_type": "code",
   "execution_count": 14,
   "metadata": {
    "id": "xmhzfhVlgBM0"
   },
   "outputs": [
    {
     "data": {
      "text/html": [
       "<div>\n",
       "<style scoped>\n",
       "    .dataframe tbody tr th:only-of-type {\n",
       "        vertical-align: middle;\n",
       "    }\n",
       "\n",
       "    .dataframe tbody tr th {\n",
       "        vertical-align: top;\n",
       "    }\n",
       "\n",
       "    .dataframe thead th {\n",
       "        text-align: right;\n",
       "    }\n",
       "</style>\n",
       "<table border=\"1\" class=\"dataframe\">\n",
       "  <thead>\n",
       "    <tr style=\"text-align: right;\">\n",
       "      <th></th>\n",
       "      <th>ProductID</th>\n",
       "      <th>ProductName</th>\n",
       "      <th>Category</th>\n",
       "      <th>SubCategory</th>\n",
       "      <th>CategoryOrd</th>\n",
       "    </tr>\n",
       "  </thead>\n",
       "  <tbody>\n",
       "    <tr>\n",
       "      <th>0</th>\n",
       "      <td>p1001771</td>\n",
       "      <td>마늘</td>\n",
       "      <td>채소</td>\n",
       "      <td>뿌리채소</td>\n",
       "      <td>5</td>\n",
       "    </tr>\n",
       "    <tr>\n",
       "      <th>1</th>\n",
       "      <td>p1002841</td>\n",
       "      <td>딸기_대</td>\n",
       "      <td>과일</td>\n",
       "      <td>과채</td>\n",
       "      <td>2</td>\n",
       "    </tr>\n",
       "    <tr>\n",
       "      <th>2</th>\n",
       "      <td>p1005621</td>\n",
       "      <td>숙주나물</td>\n",
       "      <td>반찬류</td>\n",
       "      <td>나물류</td>\n",
       "      <td>1</td>\n",
       "    </tr>\n",
       "    <tr>\n",
       "      <th>3</th>\n",
       "      <td>p1005771</td>\n",
       "      <td>두부_소</td>\n",
       "      <td>반찬류</td>\n",
       "      <td>두부</td>\n",
       "      <td>1</td>\n",
       "    </tr>\n",
       "    <tr>\n",
       "      <th>4</th>\n",
       "      <td>p1005891</td>\n",
       "      <td>두부_대</td>\n",
       "      <td>반찬류</td>\n",
       "      <td>두부</td>\n",
       "      <td>1</td>\n",
       "    </tr>\n",
       "    <tr>\n",
       "      <th>5</th>\n",
       "      <td>p1006281</td>\n",
       "      <td>소보루빵</td>\n",
       "      <td>간식</td>\n",
       "      <td>빵</td>\n",
       "      <td>3</td>\n",
       "    </tr>\n",
       "    <tr>\n",
       "      <th>6</th>\n",
       "      <td>p1006411</td>\n",
       "      <td>통단팥빵</td>\n",
       "      <td>간식</td>\n",
       "      <td>빵</td>\n",
       "      <td>3</td>\n",
       "    </tr>\n",
       "    <tr>\n",
       "      <th>7</th>\n",
       "      <td>p1011291</td>\n",
       "      <td>낱개캔디</td>\n",
       "      <td>간식</td>\n",
       "      <td>사탕류</td>\n",
       "      <td>3</td>\n",
       "    </tr>\n",
       "    <tr>\n",
       "      <th>8</th>\n",
       "      <td>p1012581</td>\n",
       "      <td>깻잎</td>\n",
       "      <td>채소</td>\n",
       "      <td>잎채소</td>\n",
       "      <td>5</td>\n",
       "    </tr>\n",
       "    <tr>\n",
       "      <th>9</th>\n",
       "      <td>p1012641</td>\n",
       "      <td>상추</td>\n",
       "      <td>채소</td>\n",
       "      <td>잎채소</td>\n",
       "      <td>5</td>\n",
       "    </tr>\n",
       "  </tbody>\n",
       "</table>\n",
       "</div>"
      ],
      "text/plain": [
       "  ProductID ProductName Category SubCategory  CategoryOrd\n",
       "0  p1001771          마늘       채소        뿌리채소            5\n",
       "1  p1002841        딸기_대       과일          과채            2\n",
       "2  p1005621        숙주나물      반찬류         나물류            1\n",
       "3  p1005771        두부_소      반찬류          두부            1\n",
       "4  p1005891        두부_대      반찬류          두부            1\n",
       "5  p1006281        소보루빵       간식           빵            3\n",
       "6  p1006411        통단팥빵       간식           빵            3\n",
       "7  p1011291        낱개캔디       간식         사탕류            3\n",
       "8  p1012581          깻잎       채소         잎채소            5\n",
       "9  p1012641          상추       채소         잎채소            5"
      ]
     },
     "execution_count": 14,
     "metadata": {},
     "output_type": "execute_result"
    }
   ],
   "source": [
    "# 상위 10개 데이터\n",
    "products.head(10)\n"
   ]
  },
  {
   "cell_type": "code",
   "execution_count": 15,
   "metadata": {
    "id": "C_IRCYhStTmn"
   },
   "outputs": [
    {
     "data": {
      "text/html": [
       "<div>\n",
       "<style scoped>\n",
       "    .dataframe tbody tr th:only-of-type {\n",
       "        vertical-align: middle;\n",
       "    }\n",
       "\n",
       "    .dataframe tbody tr th {\n",
       "        vertical-align: top;\n",
       "    }\n",
       "\n",
       "    .dataframe thead th {\n",
       "        text-align: right;\n",
       "    }\n",
       "</style>\n",
       "<table border=\"1\" class=\"dataframe\">\n",
       "  <thead>\n",
       "    <tr style=\"text-align: right;\">\n",
       "      <th></th>\n",
       "      <th>ProductID</th>\n",
       "      <th>ProductName</th>\n",
       "      <th>Category</th>\n",
       "      <th>SubCategory</th>\n",
       "      <th>CategoryOrd</th>\n",
       "    </tr>\n",
       "  </thead>\n",
       "  <tbody>\n",
       "    <tr>\n",
       "      <th>52</th>\n",
       "      <td>p1231011</td>\n",
       "      <td>초코아이스크림</td>\n",
       "      <td>유제품</td>\n",
       "      <td>아이스크림</td>\n",
       "      <td>4</td>\n",
       "    </tr>\n",
       "    <tr>\n",
       "      <th>53</th>\n",
       "      <td>p1233511</td>\n",
       "      <td>피망</td>\n",
       "      <td>채소</td>\n",
       "      <td>뿌리채소</td>\n",
       "      <td>5</td>\n",
       "    </tr>\n",
       "    <tr>\n",
       "      <th>54</th>\n",
       "      <td>p1234751</td>\n",
       "      <td>초코콘</td>\n",
       "      <td>유제품</td>\n",
       "      <td>아이스크림</td>\n",
       "      <td>4</td>\n",
       "    </tr>\n",
       "    <tr>\n",
       "      <th>55</th>\n",
       "      <td>p1235451</td>\n",
       "      <td>콘칩</td>\n",
       "      <td>간식</td>\n",
       "      <td>과자</td>\n",
       "      <td>3</td>\n",
       "    </tr>\n",
       "    <tr>\n",
       "      <th>56</th>\n",
       "      <td>p1237811</td>\n",
       "      <td>사과_대</td>\n",
       "      <td>과일</td>\n",
       "      <td>과수</td>\n",
       "      <td>2</td>\n",
       "    </tr>\n",
       "    <tr>\n",
       "      <th>57</th>\n",
       "      <td>p1246581</td>\n",
       "      <td>초코우유</td>\n",
       "      <td>유제품</td>\n",
       "      <td>우유</td>\n",
       "      <td>4</td>\n",
       "    </tr>\n",
       "    <tr>\n",
       "      <th>58</th>\n",
       "      <td>p1255281</td>\n",
       "      <td>딸기요거트</td>\n",
       "      <td>유제품</td>\n",
       "      <td>요거트</td>\n",
       "      <td>4</td>\n",
       "    </tr>\n",
       "    <tr>\n",
       "      <th>59</th>\n",
       "      <td>p1256521</td>\n",
       "      <td>부침용두부</td>\n",
       "      <td>반찬류</td>\n",
       "      <td>두부</td>\n",
       "      <td>1</td>\n",
       "    </tr>\n",
       "    <tr>\n",
       "      <th>60</th>\n",
       "      <td>p1284851</td>\n",
       "      <td>유기농우유</td>\n",
       "      <td>유제품</td>\n",
       "      <td>우유</td>\n",
       "      <td>4</td>\n",
       "    </tr>\n",
       "    <tr>\n",
       "      <th>61</th>\n",
       "      <td>p1299491</td>\n",
       "      <td>당근</td>\n",
       "      <td>채소</td>\n",
       "      <td>뿌리채소</td>\n",
       "      <td>5</td>\n",
       "    </tr>\n",
       "  </tbody>\n",
       "</table>\n",
       "</div>"
      ],
      "text/plain": [
       "   ProductID ProductName Category SubCategory  CategoryOrd\n",
       "52  p1231011     초코아이스크림      유제품       아이스크림            4\n",
       "53  p1233511          피망       채소        뿌리채소            5\n",
       "54  p1234751         초코콘      유제품       아이스크림            4\n",
       "55  p1235451          콘칩       간식          과자            3\n",
       "56  p1237811        사과_대       과일          과수            2\n",
       "57  p1246581        초코우유      유제품          우유            4\n",
       "58  p1255281       딸기요거트      유제품         요거트            4\n",
       "59  p1256521       부침용두부      반찬류          두부            1\n",
       "60  p1284851       유기농우유      유제품          우유            4\n",
       "61  p1299491          당근       채소        뿌리채소            5"
      ]
     },
     "execution_count": 15,
     "metadata": {},
     "output_type": "execute_result"
    }
   ],
   "source": [
    "# 하위 10개 데이터\n",
    "products.tail(10)\n"
   ]
  },
  {
   "cell_type": "code",
   "execution_count": 16,
   "metadata": {
    "id": "2UORrtJftFR2"
   },
   "outputs": [
    {
     "name": "stdout",
     "output_type": "stream",
     "text": [
      "<class 'pandas.core.frame.DataFrame'>\n",
      "RangeIndex: 62 entries, 0 to 61\n",
      "Data columns (total 5 columns):\n",
      " #   Column       Non-Null Count  Dtype \n",
      "---  ------       --------------  ----- \n",
      " 0   ProductID    62 non-null     object\n",
      " 1   ProductName  62 non-null     object\n",
      " 2   Category     62 non-null     object\n",
      " 3   SubCategory  62 non-null     object\n",
      " 4   CategoryOrd  62 non-null     int64 \n",
      "dtypes: int64(1), object(4)\n",
      "memory usage: 2.5+ KB\n"
     ]
    }
   ],
   "source": [
    "# 열 정보 확인\n",
    "products.info()\n"
   ]
  },
  {
   "cell_type": "code",
   "execution_count": 17,
   "metadata": {
    "id": "tNMknvcbgBM0"
   },
   "outputs": [
    {
     "data": {
      "text/plain": [
       "ProductID      0\n",
       "ProductName    0\n",
       "Category       0\n",
       "SubCategory    0\n",
       "CategoryOrd    0\n",
       "dtype: int64"
      ]
     },
     "execution_count": 17,
     "metadata": {},
     "output_type": "execute_result"
    }
   ],
   "source": [
    "# 결측치 확인\n",
    "products.isna().sum()\n"
   ]
  },
  {
   "cell_type": "code",
   "execution_count": 18,
   "metadata": {
    "id": "NhIVId_ngBM0"
   },
   "outputs": [
    {
     "data": {
      "text/plain": [
       "당근         3\n",
       "감자칩        2\n",
       "통단팥빵       1\n",
       "콩나물        1\n",
       "유기농우유      1\n",
       "참외         1\n",
       "사과_대       1\n",
       "쌈모음        1\n",
       "느타리버섯      1\n",
       "브로컬리       1\n",
       "부침용두부      1\n",
       "새우깡        1\n",
       "숙주나물       1\n",
       "유부         1\n",
       "백오이        1\n",
       "우유1000     1\n",
       "피망         1\n",
       "초코아이스크림    1\n",
       "두부_대       1\n",
       "딸기요거트      1\n",
       "고구마스틱      1\n",
       "연두부        1\n",
       "플레인요거트     1\n",
       "팽이버섯       1\n",
       "토마토        1\n",
       "낱개캔디       1\n",
       "팥아이스크림     1\n",
       "콘칩         1\n",
       "열무         1\n",
       "두부_소       1\n",
       "상추         1\n",
       "순두부        1\n",
       "포토아이스크림    1\n",
       "청오이        1\n",
       "양배출        1\n",
       "사과아이스크림    1\n",
       "시금치        1\n",
       "무농약시금치     1\n",
       "짱구         1\n",
       "저지방우유      1\n",
       "초코콘        1\n",
       "깻잎         1\n",
       "마늘         1\n",
       "딸기_대       1\n",
       "배아이스크림     1\n",
       "양파         1\n",
       "포도컵푸딩      1\n",
       "무          1\n",
       "소보루빵       1\n",
       "딸기아이스크림    1\n",
       "뿌셔뿌셔       1\n",
       "딸기_소       1\n",
       "감귤컵푸딩      1\n",
       "사과_소       1\n",
       "초코우유       1\n",
       "파          1\n",
       "애호박        1\n",
       "우유200      1\n",
       "부추         1\n",
       "Name: ProductName, dtype: int64"
      ]
     },
     "execution_count": 18,
     "metadata": {},
     "output_type": "execute_result"
    }
   ],
   "source": [
    "# 범주형 데이터 이름 분석\n",
    "products['ProductName'].value_counts()\n"
   ]
  },
  {
   "cell_type": "code",
   "execution_count": 19,
   "metadata": {
    "id": "50EpPpSJGNVV"
   },
   "outputs": [
    {
     "data": {
      "text/plain": [
       "채소     23\n",
       "유제품    14\n",
       "간식     11\n",
       "반찬류     8\n",
       "과일      6\n",
       "Name: Category, dtype: int64"
      ]
     },
     "execution_count": 19,
     "metadata": {},
     "output_type": "execute_result"
    }
   ],
   "source": [
    "# 범주형 데이터 대분류 분석\n",
    "products['Category'].value_counts()\n"
   ]
  },
  {
   "cell_type": "code",
   "execution_count": 20,
   "metadata": {
    "id": "WxG2uaoRGNVW"
   },
   "outputs": [
    {
     "data": {
      "text/plain": [
       "뿌리채소     9\n",
       "잎채소      8\n",
       "아이스크림    7\n",
       "두부       6\n",
       "과자       6\n",
       "우유       5\n",
       "열매채소     4\n",
       "과채       4\n",
       "사탕류      3\n",
       "요거트      2\n",
       "과수       2\n",
       "버섯       2\n",
       "나물류      2\n",
       "빵        2\n",
       "Name: SubCategory, dtype: int64"
      ]
     },
     "execution_count": 20,
     "metadata": {},
     "output_type": "execute_result"
    }
   ],
   "source": [
    "# 범주형 데이터 소분류 분석\n",
    "products['SubCategory'].value_counts()\n"
   ]
  },
  {
   "cell_type": "markdown",
   "metadata": {
    "id": "Ek_BgBX7gBM1"
   },
   "source": [
    "**3) 주문 정보(orders)**\n",
    "\n",
    "- orders 데이터프레임을 충분히 탐색합니다.\n",
    "- 간단한 집계를 수행해 보는 것도 좋은 방법입니다."
   ]
  },
  {
   "cell_type": "code",
   "execution_count": 21,
   "metadata": {
    "id": "6550xr-LgBM1"
   },
   "outputs": [
    {
     "data": {
      "text/html": [
       "<div>\n",
       "<style scoped>\n",
       "    .dataframe tbody tr th:only-of-type {\n",
       "        vertical-align: middle;\n",
       "    }\n",
       "\n",
       "    .dataframe tbody tr th {\n",
       "        vertical-align: top;\n",
       "    }\n",
       "\n",
       "    .dataframe thead th {\n",
       "        text-align: right;\n",
       "    }\n",
       "</style>\n",
       "<table border=\"1\" class=\"dataframe\">\n",
       "  <thead>\n",
       "    <tr style=\"text-align: right;\">\n",
       "      <th></th>\n",
       "      <th>OrderID</th>\n",
       "      <th>Seq</th>\n",
       "      <th>OrderDate</th>\n",
       "      <th>ProductID</th>\n",
       "      <th>Qty</th>\n",
       "      <th>Amt</th>\n",
       "      <th>CustomerID</th>\n",
       "    </tr>\n",
       "  </thead>\n",
       "  <tbody>\n",
       "    <tr>\n",
       "      <th>0</th>\n",
       "      <td>1</td>\n",
       "      <td>1</td>\n",
       "      <td>2016-01-02</td>\n",
       "      <td>p1030071</td>\n",
       "      <td>2</td>\n",
       "      <td>7900</td>\n",
       "      <td>c107853</td>\n",
       "    </tr>\n",
       "    <tr>\n",
       "      <th>1</th>\n",
       "      <td>2</td>\n",
       "      <td>1</td>\n",
       "      <td>2016-01-02</td>\n",
       "      <td>p1012761</td>\n",
       "      <td>1</td>\n",
       "      <td>1700</td>\n",
       "      <td>c110521</td>\n",
       "    </tr>\n",
       "    <tr>\n",
       "      <th>2</th>\n",
       "      <td>2</td>\n",
       "      <td>2</td>\n",
       "      <td>2016-01-02</td>\n",
       "      <td>p1012581</td>\n",
       "      <td>1</td>\n",
       "      <td>1000</td>\n",
       "      <td>c110521</td>\n",
       "    </tr>\n",
       "    <tr>\n",
       "      <th>3</th>\n",
       "      <td>2</td>\n",
       "      <td>3</td>\n",
       "      <td>2016-01-02</td>\n",
       "      <td>p1175481</td>\n",
       "      <td>1</td>\n",
       "      <td>1300</td>\n",
       "      <td>c110521</td>\n",
       "    </tr>\n",
       "    <tr>\n",
       "      <th>4</th>\n",
       "      <td>2</td>\n",
       "      <td>4</td>\n",
       "      <td>2016-01-02</td>\n",
       "      <td>p1178011</td>\n",
       "      <td>1</td>\n",
       "      <td>8800</td>\n",
       "      <td>c110521</td>\n",
       "    </tr>\n",
       "    <tr>\n",
       "      <th>5</th>\n",
       "      <td>3</td>\n",
       "      <td>1</td>\n",
       "      <td>2016-01-02</td>\n",
       "      <td>p1012751</td>\n",
       "      <td>2</td>\n",
       "      <td>2700</td>\n",
       "      <td>c143548</td>\n",
       "    </tr>\n",
       "    <tr>\n",
       "      <th>6</th>\n",
       "      <td>4</td>\n",
       "      <td>1</td>\n",
       "      <td>2016-01-02</td>\n",
       "      <td>p1097821</td>\n",
       "      <td>1</td>\n",
       "      <td>1000</td>\n",
       "      <td>c256672</td>\n",
       "    </tr>\n",
       "    <tr>\n",
       "      <th>7</th>\n",
       "      <td>4</td>\n",
       "      <td>2</td>\n",
       "      <td>2016-01-02</td>\n",
       "      <td>p1178011</td>\n",
       "      <td>1</td>\n",
       "      <td>8800</td>\n",
       "      <td>c256672</td>\n",
       "    </tr>\n",
       "    <tr>\n",
       "      <th>8</th>\n",
       "      <td>5</td>\n",
       "      <td>1</td>\n",
       "      <td>2016-01-02</td>\n",
       "      <td>p1178011</td>\n",
       "      <td>1</td>\n",
       "      <td>8800</td>\n",
       "      <td>c260294</td>\n",
       "    </tr>\n",
       "    <tr>\n",
       "      <th>9</th>\n",
       "      <td>5</td>\n",
       "      <td>2</td>\n",
       "      <td>2016-01-02</td>\n",
       "      <td>p1194801</td>\n",
       "      <td>1</td>\n",
       "      <td>8200</td>\n",
       "      <td>c260294</td>\n",
       "    </tr>\n",
       "  </tbody>\n",
       "</table>\n",
       "</div>"
      ],
      "text/plain": [
       "   OrderID  Seq   OrderDate ProductID  Qty   Amt CustomerID\n",
       "0        1    1  2016-01-02  p1030071    2  7900    c107853\n",
       "1        2    1  2016-01-02  p1012761    1  1700    c110521\n",
       "2        2    2  2016-01-02  p1012581    1  1000    c110521\n",
       "3        2    3  2016-01-02  p1175481    1  1300    c110521\n",
       "4        2    4  2016-01-02  p1178011    1  8800    c110521\n",
       "5        3    1  2016-01-02  p1012751    2  2700    c143548\n",
       "6        4    1  2016-01-02  p1097821    1  1000    c256672\n",
       "7        4    2  2016-01-02  p1178011    1  8800    c256672\n",
       "8        5    1  2016-01-02  p1178011    1  8800    c260294\n",
       "9        5    2  2016-01-02  p1194801    1  8200    c260294"
      ]
     },
     "execution_count": 21,
     "metadata": {},
     "output_type": "execute_result"
    }
   ],
   "source": [
    "# 상위 10개 데이터\n",
    "orders.head(10)\n"
   ]
  },
  {
   "cell_type": "code",
   "execution_count": 22,
   "metadata": {
    "id": "Az3Ms14YgBM1"
   },
   "outputs": [
    {
     "data": {
      "text/html": [
       "<div>\n",
       "<style scoped>\n",
       "    .dataframe tbody tr th:only-of-type {\n",
       "        vertical-align: middle;\n",
       "    }\n",
       "\n",
       "    .dataframe tbody tr th {\n",
       "        vertical-align: top;\n",
       "    }\n",
       "\n",
       "    .dataframe thead th {\n",
       "        text-align: right;\n",
       "    }\n",
       "</style>\n",
       "<table border=\"1\" class=\"dataframe\">\n",
       "  <thead>\n",
       "    <tr style=\"text-align: right;\">\n",
       "      <th></th>\n",
       "      <th>OrderID</th>\n",
       "      <th>Seq</th>\n",
       "      <th>OrderDate</th>\n",
       "      <th>ProductID</th>\n",
       "      <th>Qty</th>\n",
       "      <th>Amt</th>\n",
       "      <th>CustomerID</th>\n",
       "    </tr>\n",
       "  </thead>\n",
       "  <tbody>\n",
       "    <tr>\n",
       "      <th>68829</th>\n",
       "      <td>74</td>\n",
       "      <td>2</td>\n",
       "      <td>2017-03-31</td>\n",
       "      <td>p1175481</td>\n",
       "      <td>1</td>\n",
       "      <td>1300</td>\n",
       "      <td>c221180</td>\n",
       "    </tr>\n",
       "    <tr>\n",
       "      <th>68830</th>\n",
       "      <td>74</td>\n",
       "      <td>3</td>\n",
       "      <td>2017-03-31</td>\n",
       "      <td>p1201601</td>\n",
       "      <td>1</td>\n",
       "      <td>2100</td>\n",
       "      <td>c221180</td>\n",
       "    </tr>\n",
       "    <tr>\n",
       "      <th>68831</th>\n",
       "      <td>75</td>\n",
       "      <td>1</td>\n",
       "      <td>2017-03-31</td>\n",
       "      <td>p1097821</td>\n",
       "      <td>1</td>\n",
       "      <td>1000</td>\n",
       "      <td>c255098</td>\n",
       "    </tr>\n",
       "    <tr>\n",
       "      <th>68832</th>\n",
       "      <td>75</td>\n",
       "      <td>2</td>\n",
       "      <td>2017-03-31</td>\n",
       "      <td>p1119071</td>\n",
       "      <td>1</td>\n",
       "      <td>1091</td>\n",
       "      <td>c255098</td>\n",
       "    </tr>\n",
       "    <tr>\n",
       "      <th>68833</th>\n",
       "      <td>75</td>\n",
       "      <td>3</td>\n",
       "      <td>2017-03-31</td>\n",
       "      <td>p1201601</td>\n",
       "      <td>1</td>\n",
       "      <td>2100</td>\n",
       "      <td>c255098</td>\n",
       "    </tr>\n",
       "    <tr>\n",
       "      <th>68834</th>\n",
       "      <td>76</td>\n",
       "      <td>1</td>\n",
       "      <td>2017-03-31</td>\n",
       "      <td>p1201601</td>\n",
       "      <td>1</td>\n",
       "      <td>2100</td>\n",
       "      <td>c302834</td>\n",
       "    </tr>\n",
       "    <tr>\n",
       "      <th>68835</th>\n",
       "      <td>77</td>\n",
       "      <td>1</td>\n",
       "      <td>2017-03-31</td>\n",
       "      <td>p1002841</td>\n",
       "      <td>1</td>\n",
       "      <td>10700</td>\n",
       "      <td>c343734</td>\n",
       "    </tr>\n",
       "    <tr>\n",
       "      <th>68836</th>\n",
       "      <td>78</td>\n",
       "      <td>1</td>\n",
       "      <td>2017-03-31</td>\n",
       "      <td>p1012761</td>\n",
       "      <td>1</td>\n",
       "      <td>1900</td>\n",
       "      <td>c354639</td>\n",
       "    </tr>\n",
       "    <tr>\n",
       "      <th>68837</th>\n",
       "      <td>79</td>\n",
       "      <td>1</td>\n",
       "      <td>2017-03-31</td>\n",
       "      <td>p1005891</td>\n",
       "      <td>1</td>\n",
       "      <td>1950</td>\n",
       "      <td>c394131</td>\n",
       "    </tr>\n",
       "    <tr>\n",
       "      <th>68838</th>\n",
       "      <td>79</td>\n",
       "      <td>2</td>\n",
       "      <td>2017-03-31</td>\n",
       "      <td>p1179241</td>\n",
       "      <td>1</td>\n",
       "      <td>2200</td>\n",
       "      <td>c394131</td>\n",
       "    </tr>\n",
       "  </tbody>\n",
       "</table>\n",
       "</div>"
      ],
      "text/plain": [
       "       OrderID  Seq   OrderDate ProductID  Qty    Amt CustomerID\n",
       "68829       74    2  2017-03-31  p1175481    1   1300    c221180\n",
       "68830       74    3  2017-03-31  p1201601    1   2100    c221180\n",
       "68831       75    1  2017-03-31  p1097821    1   1000    c255098\n",
       "68832       75    2  2017-03-31  p1119071    1   1091    c255098\n",
       "68833       75    3  2017-03-31  p1201601    1   2100    c255098\n",
       "68834       76    1  2017-03-31  p1201601    1   2100    c302834\n",
       "68835       77    1  2017-03-31  p1002841    1  10700    c343734\n",
       "68836       78    1  2017-03-31  p1012761    1   1900    c354639\n",
       "68837       79    1  2017-03-31  p1005891    1   1950    c394131\n",
       "68838       79    2  2017-03-31  p1179241    1   2200    c394131"
      ]
     },
     "execution_count": 22,
     "metadata": {},
     "output_type": "execute_result"
    }
   ],
   "source": [
    "# 하위 10개 데이터\n",
    "orders.tail(10)\n"
   ]
  },
  {
   "cell_type": "code",
   "execution_count": 23,
   "metadata": {
    "id": "jaTP8tS2tJOT"
   },
   "outputs": [
    {
     "name": "stdout",
     "output_type": "stream",
     "text": [
      "<class 'pandas.core.frame.DataFrame'>\n",
      "RangeIndex: 68839 entries, 0 to 68838\n",
      "Data columns (total 7 columns):\n",
      " #   Column      Non-Null Count  Dtype \n",
      "---  ------      --------------  ----- \n",
      " 0   OrderID     68839 non-null  int64 \n",
      " 1   Seq         68839 non-null  int64 \n",
      " 2   OrderDate   68839 non-null  object\n",
      " 3   ProductID   68839 non-null  object\n",
      " 4   Qty         68839 non-null  int64 \n",
      " 5   Amt         68839 non-null  int64 \n",
      " 6   CustomerID  68839 non-null  object\n",
      "dtypes: int64(4), object(3)\n",
      "memory usage: 3.7+ MB\n"
     ]
    }
   ],
   "source": [
    "# 열정보 확인\n",
    "orders.info()\n"
   ]
  },
  {
   "cell_type": "code",
   "execution_count": 24,
   "metadata": {
    "id": "Gb4qRTALgBM2"
   },
   "outputs": [
    {
     "data": {
      "text/plain": [
       "OrderID       0\n",
       "Seq           0\n",
       "OrderDate     0\n",
       "ProductID     0\n",
       "Qty           0\n",
       "Amt           0\n",
       "CustomerID    0\n",
       "dtype: int64"
      ]
     },
     "execution_count": 24,
     "metadata": {},
     "output_type": "execute_result"
    }
   ],
   "source": [
    "# 결측치 확인\n",
    "orders.isna().sum()\n"
   ]
  },
  {
   "cell_type": "code",
   "execution_count": 70,
   "metadata": {
    "id": "9HLuVi0UgBM2"
   },
   "outputs": [
    {
     "data": {
      "text/plain": [
       "OrderID  Seq  OrderDate   ProductID  Qty  Amt    CustomerID\n",
       "1        1    2016-01-02  p1030071   2    7900   c107853       1\n",
       "49       2    2017-02-22  p1002841   2    26200  c274126       1\n",
       "              2017-01-16  p1179241   1    2050   c092647       1\n",
       "              2017-01-18  p1013251   1    3200   c177887       1\n",
       "              2017-01-20  p1097821   4    3636   c038272       1\n",
       "                                                              ..\n",
       "25       1    2016-03-13  p1005771   1    1850   c168775       1\n",
       "              2016-03-14  p1052661   2    2910   c324337       1\n",
       "              2016-03-15  p1178011   1    8800   c140393       1\n",
       "              2016-03-16  p1194801   1    6800   c347991       1\n",
       "122      1    2016-02-06  p1133371   1    1000   c366727       1\n",
       "Length: 68839, dtype: int64"
      ]
     },
     "execution_count": 70,
     "metadata": {},
     "output_type": "execute_result"
    }
   ],
   "source": [
    "# 범주형 데이터 고객정보 확인\n",
    "orders.value_counts()\n"
   ]
  },
  {
   "cell_type": "markdown",
   "metadata": {
    "id": "Ssb_UpOagBM2"
   },
   "source": [
    "## 3.데이터 전처리\n",
    "\n",
    "전처리 과정에서 다음과 같은 처리를 할 수 있습니다.\n",
    "\n",
    "- 결측치 처리\n",
    "- 값 변경\n",
    "- 열 추가\n",
    "- 불필요한 열 제거\n",
    "- 열 이름 변경\n",
    "- 데이터 통합(연결 또는 조인)\n",
    "- 가변수화 등"
   ]
  },
  {
   "cell_type": "markdown",
   "metadata": {
    "id": "XDI0-X06gBM3"
   },
   "source": [
    "**1) 데이터 통합**\n",
    "\n",
    "- 각 데이터프레임의 모든 열을 통합 할 것이 아니면 \n",
    "    - 필요한 열만 추출해 별도 데이터프레임을 선언한 후 통합하거나\n",
    "    - 또는 모두 통합 후 불필요한 열을 제거하는 방법을 사용합니다."
   ]
  },
  {
   "cell_type": "code",
   "execution_count": 8,
   "metadata": {
    "id": "NW7N_xeVgBM4"
   },
   "outputs": [],
   "source": [
    "# orders, products, customers 데이터 연결하여 sales 데이터프레임 생성\n",
    "sales = pd.merge(orders, products, on='ProductID', how='inner')\n",
    "sales = pd.merge(sales, customers, on='CustomerID', how='inner')\n"
   ]
  },
  {
   "cell_type": "markdown",
   "metadata": {
    "id": "RvrfT0pRgBM4"
   },
   "source": [
    "**2) 결과 확인**"
   ]
  },
  {
   "cell_type": "code",
   "execution_count": 26,
   "metadata": {
    "id": "j-24yh-wgBM4"
   },
   "outputs": [
    {
     "data": {
      "text/html": [
       "<div>\n",
       "<style scoped>\n",
       "    .dataframe tbody tr th:only-of-type {\n",
       "        vertical-align: middle;\n",
       "    }\n",
       "\n",
       "    .dataframe tbody tr th {\n",
       "        vertical-align: top;\n",
       "    }\n",
       "\n",
       "    .dataframe thead th {\n",
       "        text-align: right;\n",
       "    }\n",
       "</style>\n",
       "<table border=\"1\" class=\"dataframe\">\n",
       "  <thead>\n",
       "    <tr style=\"text-align: right;\">\n",
       "      <th></th>\n",
       "      <th>OrderID</th>\n",
       "      <th>Seq</th>\n",
       "      <th>OrderDate</th>\n",
       "      <th>ProductID</th>\n",
       "      <th>Qty</th>\n",
       "      <th>Amt</th>\n",
       "      <th>CustomerID</th>\n",
       "      <th>ProductName</th>\n",
       "      <th>Category</th>\n",
       "      <th>SubCategory</th>\n",
       "      <th>CategoryOrd</th>\n",
       "      <th>RegisterDate</th>\n",
       "      <th>Address</th>\n",
       "      <th>Gender</th>\n",
       "      <th>BirthYear</th>\n",
       "      <th>Addr1</th>\n",
       "      <th>Addr2</th>\n",
       "    </tr>\n",
       "  </thead>\n",
       "  <tbody>\n",
       "    <tr>\n",
       "      <th>0</th>\n",
       "      <td>1</td>\n",
       "      <td>1</td>\n",
       "      <td>2016-01-02</td>\n",
       "      <td>p1030071</td>\n",
       "      <td>2</td>\n",
       "      <td>7900</td>\n",
       "      <td>c107853</td>\n",
       "      <td>토마토</td>\n",
       "      <td>과일</td>\n",
       "      <td>과채</td>\n",
       "      <td>2</td>\n",
       "      <td>2008-07-11</td>\n",
       "      <td>경기도 안성시 비룡2길</td>\n",
       "      <td>M</td>\n",
       "      <td>1961</td>\n",
       "      <td>경기도</td>\n",
       "      <td>안성시</td>\n",
       "    </tr>\n",
       "    <tr>\n",
       "      <th>1</th>\n",
       "      <td>55</td>\n",
       "      <td>1</td>\n",
       "      <td>2016-07-26</td>\n",
       "      <td>p1012581</td>\n",
       "      <td>1</td>\n",
       "      <td>1050</td>\n",
       "      <td>c107853</td>\n",
       "      <td>깻잎</td>\n",
       "      <td>채소</td>\n",
       "      <td>잎채소</td>\n",
       "      <td>5</td>\n",
       "      <td>2008-07-11</td>\n",
       "      <td>경기도 안성시 비룡2길</td>\n",
       "      <td>M</td>\n",
       "      <td>1961</td>\n",
       "      <td>경기도</td>\n",
       "      <td>안성시</td>\n",
       "    </tr>\n",
       "    <tr>\n",
       "      <th>2</th>\n",
       "      <td>44</td>\n",
       "      <td>8</td>\n",
       "      <td>2016-09-19</td>\n",
       "      <td>p1012581</td>\n",
       "      <td>1</td>\n",
       "      <td>1050</td>\n",
       "      <td>c107853</td>\n",
       "      <td>깻잎</td>\n",
       "      <td>채소</td>\n",
       "      <td>잎채소</td>\n",
       "      <td>5</td>\n",
       "      <td>2008-07-11</td>\n",
       "      <td>경기도 안성시 비룡2길</td>\n",
       "      <td>M</td>\n",
       "      <td>1961</td>\n",
       "      <td>경기도</td>\n",
       "      <td>안성시</td>\n",
       "    </tr>\n",
       "    <tr>\n",
       "      <th>3</th>\n",
       "      <td>36</td>\n",
       "      <td>2</td>\n",
       "      <td>2016-01-29</td>\n",
       "      <td>p1175481</td>\n",
       "      <td>1</td>\n",
       "      <td>1200</td>\n",
       "      <td>c107853</td>\n",
       "      <td>콩나물</td>\n",
       "      <td>반찬류</td>\n",
       "      <td>나물류</td>\n",
       "      <td>1</td>\n",
       "      <td>2008-07-11</td>\n",
       "      <td>경기도 안성시 비룡2길</td>\n",
       "      <td>M</td>\n",
       "      <td>1961</td>\n",
       "      <td>경기도</td>\n",
       "      <td>안성시</td>\n",
       "    </tr>\n",
       "    <tr>\n",
       "      <th>4</th>\n",
       "      <td>54</td>\n",
       "      <td>1</td>\n",
       "      <td>2016-03-15</td>\n",
       "      <td>p1175481</td>\n",
       "      <td>1</td>\n",
       "      <td>1300</td>\n",
       "      <td>c107853</td>\n",
       "      <td>콩나물</td>\n",
       "      <td>반찬류</td>\n",
       "      <td>나물류</td>\n",
       "      <td>1</td>\n",
       "      <td>2008-07-11</td>\n",
       "      <td>경기도 안성시 비룡2길</td>\n",
       "      <td>M</td>\n",
       "      <td>1961</td>\n",
       "      <td>경기도</td>\n",
       "      <td>안성시</td>\n",
       "    </tr>\n",
       "  </tbody>\n",
       "</table>\n",
       "</div>"
      ],
      "text/plain": [
       "   OrderID  Seq   OrderDate ProductID  Qty   Amt CustomerID ProductName  \\\n",
       "0        1    1  2016-01-02  p1030071    2  7900    c107853         토마토   \n",
       "1       55    1  2016-07-26  p1012581    1  1050    c107853          깻잎   \n",
       "2       44    8  2016-09-19  p1012581    1  1050    c107853          깻잎   \n",
       "3       36    2  2016-01-29  p1175481    1  1200    c107853         콩나물   \n",
       "4       54    1  2016-03-15  p1175481    1  1300    c107853         콩나물   \n",
       "\n",
       "  Category SubCategory  CategoryOrd RegisterDate       Address Gender  \\\n",
       "0       과일          과채            2   2008-07-11  경기도 안성시 비룡2길      M   \n",
       "1       채소         잎채소            5   2008-07-11  경기도 안성시 비룡2길      M   \n",
       "2       채소         잎채소            5   2008-07-11  경기도 안성시 비룡2길      M   \n",
       "3      반찬류         나물류            1   2008-07-11  경기도 안성시 비룡2길      M   \n",
       "4      반찬류         나물류            1   2008-07-11  경기도 안성시 비룡2길      M   \n",
       "\n",
       "   BirthYear Addr1 Addr2  \n",
       "0       1961   경기도   안성시  \n",
       "1       1961   경기도   안성시  \n",
       "2       1961   경기도   안성시  \n",
       "3       1961   경기도   안성시  \n",
       "4       1961   경기도   안성시  "
      ]
     },
     "execution_count": 26,
     "metadata": {},
     "output_type": "execute_result"
    }
   ],
   "source": [
    "sales.head()\n",
    "\n"
   ]
  },
  {
   "cell_type": "code",
   "execution_count": 27,
   "metadata": {},
   "outputs": [
    {
     "name": "stdout",
     "output_type": "stream",
     "text": [
      "<class 'pandas.core.frame.DataFrame'>\n",
      "Int64Index: 68839 entries, 0 to 68838\n",
      "Data columns (total 17 columns):\n",
      " #   Column        Non-Null Count  Dtype \n",
      "---  ------        --------------  ----- \n",
      " 0   OrderID       68839 non-null  int64 \n",
      " 1   Seq           68839 non-null  int64 \n",
      " 2   OrderDate     68839 non-null  object\n",
      " 3   ProductID     68839 non-null  object\n",
      " 4   Qty           68839 non-null  int64 \n",
      " 5   Amt           68839 non-null  int64 \n",
      " 6   CustomerID    68839 non-null  object\n",
      " 7   ProductName   68839 non-null  object\n",
      " 8   Category      68839 non-null  object\n",
      " 9   SubCategory   68839 non-null  object\n",
      " 10  CategoryOrd   68839 non-null  int64 \n",
      " 11  RegisterDate  68839 non-null  object\n",
      " 12  Address       68839 non-null  object\n",
      " 13  Gender        68839 non-null  object\n",
      " 14  BirthYear     68839 non-null  int64 \n",
      " 15  Addr1         68839 non-null  object\n",
      " 16  Addr2         68839 non-null  object\n",
      "dtypes: int64(6), object(11)\n",
      "memory usage: 9.5+ MB\n"
     ]
    }
   ],
   "source": [
    "sales.info()"
   ]
  },
  {
   "cell_type": "markdown",
   "metadata": {
    "id": "Ll_SMqdOgBM5"
   },
   "source": [
    "**3) 열 추가**\n",
    "\n",
    "- 분석을 위해 필요한 열을 추가합니다.\n",
    "- 예를 들어 다음과 같은 열들이 필요하다고 판단할 수 있습니다.\n",
    "    - OrderYear: 주문연도, 주문연도별 분석이 용이하게 하기 위함\n",
    "    - OrderMonth: 주문월, 주문년월 분석이 용이하게 하기 위함\n",
    "    - Age: 연령별 분석을 하기 위함(2017 - 출생년도) 등등"
   ]
  },
  {
   "cell_type": "code",
   "execution_count": 9,
   "metadata": {
    "id": "ICHfbKB2gBM5",
    "scrolled": true
   },
   "outputs": [],
   "source": [
    "# Age : 나이별 분석을 위해\n",
    "# OrderYear, OrderMonth : 년, 월 별 분석을 용이하게 하기위해\n",
    "# 가격에 대한 분석을 위해\n",
    "sales['Age'] = 2017 - sales['BirthYear']\n",
    "sales['OrderYear'] = pd.to_datetime(sales['OrderDate']).dt.year\n",
    "sales['OrderMonth'] = pd.to_datetime(sales['OrderDate']).dt.month\n",
    "sales['Price'] = sales['Amt']/sales['Qty']"
   ]
  },
  {
   "cell_type": "markdown",
   "metadata": {
    "id": "DBX8rt-PgBM5"
   },
   "source": [
    "**4) 불필요한 열 제거**\n",
    "\n",
    "- 분석에 필요가 없다고 생각되는 열은 제거합니다.\n",
    "- 새로운 열을 추가하면 기존 열이 필요하지 않을 수 있습니다.\n",
    "- 예를 들어 다음 열들이 필요하지 않다고 판단할 수 있습니다.\n",
    "    - OrderDate: 새로 추가한 OrderYear, OrderMonth 열 사용\n",
    "    - ProductID: ProductName 열 사용\n",
    "    - SubCategory: 분석 대상에서 제외 등등"
   ]
  },
  {
   "cell_type": "code",
   "execution_count": 10,
   "metadata": {
    "id": "OiIofiMIgBM5"
   },
   "outputs": [
    {
     "data": {
      "text/html": [
       "<div>\n",
       "<style scoped>\n",
       "    .dataframe tbody tr th:only-of-type {\n",
       "        vertical-align: middle;\n",
       "    }\n",
       "\n",
       "    .dataframe tbody tr th {\n",
       "        vertical-align: top;\n",
       "    }\n",
       "\n",
       "    .dataframe thead th {\n",
       "        text-align: right;\n",
       "    }\n",
       "</style>\n",
       "<table border=\"1\" class=\"dataframe\">\n",
       "  <thead>\n",
       "    <tr style=\"text-align: right;\">\n",
       "      <th></th>\n",
       "      <th>OrderID</th>\n",
       "      <th>Seq</th>\n",
       "      <th>Qty</th>\n",
       "      <th>Amt</th>\n",
       "      <th>CustomerID</th>\n",
       "      <th>ProductName</th>\n",
       "      <th>Category</th>\n",
       "      <th>SubCategory</th>\n",
       "      <th>RegisterDate</th>\n",
       "      <th>Gender</th>\n",
       "      <th>Addr1</th>\n",
       "      <th>Addr2</th>\n",
       "      <th>Age</th>\n",
       "      <th>OrderYear</th>\n",
       "      <th>OrderMonth</th>\n",
       "      <th>Price</th>\n",
       "    </tr>\n",
       "  </thead>\n",
       "  <tbody>\n",
       "    <tr>\n",
       "      <th>0</th>\n",
       "      <td>1</td>\n",
       "      <td>1</td>\n",
       "      <td>2</td>\n",
       "      <td>7900</td>\n",
       "      <td>c107853</td>\n",
       "      <td>토마토</td>\n",
       "      <td>과일</td>\n",
       "      <td>과채</td>\n",
       "      <td>2008-07-11</td>\n",
       "      <td>M</td>\n",
       "      <td>경기도</td>\n",
       "      <td>안성시</td>\n",
       "      <td>56</td>\n",
       "      <td>2016</td>\n",
       "      <td>1</td>\n",
       "      <td>3950.0</td>\n",
       "    </tr>\n",
       "    <tr>\n",
       "      <th>1</th>\n",
       "      <td>55</td>\n",
       "      <td>1</td>\n",
       "      <td>1</td>\n",
       "      <td>1050</td>\n",
       "      <td>c107853</td>\n",
       "      <td>깻잎</td>\n",
       "      <td>채소</td>\n",
       "      <td>잎채소</td>\n",
       "      <td>2008-07-11</td>\n",
       "      <td>M</td>\n",
       "      <td>경기도</td>\n",
       "      <td>안성시</td>\n",
       "      <td>56</td>\n",
       "      <td>2016</td>\n",
       "      <td>7</td>\n",
       "      <td>1050.0</td>\n",
       "    </tr>\n",
       "    <tr>\n",
       "      <th>2</th>\n",
       "      <td>44</td>\n",
       "      <td>8</td>\n",
       "      <td>1</td>\n",
       "      <td>1050</td>\n",
       "      <td>c107853</td>\n",
       "      <td>깻잎</td>\n",
       "      <td>채소</td>\n",
       "      <td>잎채소</td>\n",
       "      <td>2008-07-11</td>\n",
       "      <td>M</td>\n",
       "      <td>경기도</td>\n",
       "      <td>안성시</td>\n",
       "      <td>56</td>\n",
       "      <td>2016</td>\n",
       "      <td>9</td>\n",
       "      <td>1050.0</td>\n",
       "    </tr>\n",
       "    <tr>\n",
       "      <th>3</th>\n",
       "      <td>36</td>\n",
       "      <td>2</td>\n",
       "      <td>1</td>\n",
       "      <td>1200</td>\n",
       "      <td>c107853</td>\n",
       "      <td>콩나물</td>\n",
       "      <td>반찬류</td>\n",
       "      <td>나물류</td>\n",
       "      <td>2008-07-11</td>\n",
       "      <td>M</td>\n",
       "      <td>경기도</td>\n",
       "      <td>안성시</td>\n",
       "      <td>56</td>\n",
       "      <td>2016</td>\n",
       "      <td>1</td>\n",
       "      <td>1200.0</td>\n",
       "    </tr>\n",
       "    <tr>\n",
       "      <th>4</th>\n",
       "      <td>54</td>\n",
       "      <td>1</td>\n",
       "      <td>1</td>\n",
       "      <td>1300</td>\n",
       "      <td>c107853</td>\n",
       "      <td>콩나물</td>\n",
       "      <td>반찬류</td>\n",
       "      <td>나물류</td>\n",
       "      <td>2008-07-11</td>\n",
       "      <td>M</td>\n",
       "      <td>경기도</td>\n",
       "      <td>안성시</td>\n",
       "      <td>56</td>\n",
       "      <td>2016</td>\n",
       "      <td>3</td>\n",
       "      <td>1300.0</td>\n",
       "    </tr>\n",
       "  </tbody>\n",
       "</table>\n",
       "</div>"
      ],
      "text/plain": [
       "   OrderID  Seq  Qty   Amt CustomerID ProductName Category SubCategory  \\\n",
       "0        1    1    2  7900    c107853         토마토       과일          과채   \n",
       "1       55    1    1  1050    c107853          깻잎       채소         잎채소   \n",
       "2       44    8    1  1050    c107853          깻잎       채소         잎채소   \n",
       "3       36    2    1  1200    c107853         콩나물      반찬류         나물류   \n",
       "4       54    1    1  1300    c107853         콩나물      반찬류         나물류   \n",
       "\n",
       "  RegisterDate Gender Addr1 Addr2  Age  OrderYear  OrderMonth   Price  \n",
       "0   2008-07-11      M   경기도   안성시   56       2016           1  3950.0  \n",
       "1   2008-07-11      M   경기도   안성시   56       2016           7  1050.0  \n",
       "2   2008-07-11      M   경기도   안성시   56       2016           9  1050.0  \n",
       "3   2008-07-11      M   경기도   안성시   56       2016           1  1200.0  \n",
       "4   2008-07-11      M   경기도   안성시   56       2016           3  1300.0  "
      ]
     },
     "execution_count": 10,
     "metadata": {},
     "output_type": "execute_result"
    }
   ],
   "source": [
    "# CategoryOrd 제거\n",
    "# Address제거 : Add1,Add2 사용\n",
    "# BirthYear제거 : Age 사용\n",
    "# OrderDate제거 : Orderyear,OrderMonth 사용\n",
    "sales.drop(['CategoryOrd', 'Address', 'BirthYear', 'ProductID', 'OrderDate'], axis=1, inplace=True)\n",
    "sales.head()"
   ]
  },
  {
   "cell_type": "code",
   "execution_count": 11,
   "metadata": {},
   "outputs": [],
   "source": [
    "# SubCategory 제거 : Category 사용\n",
    "sales.drop('SubCategory', axis=1, inplace=True)"
   ]
  },
  {
   "cell_type": "markdown",
   "metadata": {
    "id": "m6GXYXOTgBM6"
   },
   "source": [
    "## 4.데이터 분석\n",
    "\n",
    "- 현재 판매 현황을 분석해 향후 판매 전략 수립에 중요한 정보로 활용할 것입니다.\n",
    "- 데이터를 집계하고 간단히 시각화하여 판매 현황을 분석합니다.\n",
    "- 연속형 값은 선 그래프, 범주형 값은 막대 그래프로 시각화함이 일반적입니다."
   ]
  },
  {
   "cell_type": "markdown",
   "metadata": {
    "id": "xnAS4-iJgBM6"
   },
   "source": [
    "**1) 남녀별 판매 현황**\n",
    "\n",
    "- 남녀별 판매 현황을 막대 그래프로 시각화해 확인합니다."
   ]
  },
  {
   "cell_type": "code",
   "execution_count": 55,
   "metadata": {
    "id": "WEvcSWHSgBM6"
   },
   "outputs": [
    {
     "data": {
      "image/png": "[encoded data removed]",
      "text/plain": [
       "<Figure size 432x288 with 1 Axes>"
      ]
     },
     "metadata": {
      "image/png": {
       "height": 264,
       "width": 398
      },
      "needs_background": "light"
     },
     "output_type": "display_data"
    }
   ],
   "source": [
    "# 성별별 평균 판매액(데이터의 대부분이 여자)\n",
    "tmp = sales.groupby(by='Gender', as_index=False)[['Amt']].count()\n",
    "plt.title('데이터의 남녀 분포')\n",
    "plt.bar(tmp['Gender'],tmp['Amt'])\n",
    "plt.ylabel('(명)')\n",
    "plt.show()"
   ]
  },
  {
   "cell_type": "code",
   "execution_count": 32,
   "metadata": {},
   "outputs": [
    {
     "data": {
      "image/png": "[encoded data removed]",
      "text/plain": [
       "<Figure size 432x288 with 1 Axes>"
      ]
     },
     "metadata": {
      "image/png": {
       "height": 264,
       "width": 383
      },
      "needs_background": "light"
     },
     "output_type": "display_data"
    }
   ],
   "source": [
    "# 성별에 따른 평균 판매수량(데이터의 대부분이 여자)\n",
    "tmp = sales.groupby(by='Gender', as_index=False)[['Qty']].mean()\n",
    "plt.title('성별에 따른 평균 판매수량')\n",
    "plt.bar(tmp['Gender'],tmp['Qty'])\n",
    "plt.ylabel('(개)')\n",
    "plt.show()"
   ]
  },
  {
   "cell_type": "markdown",
   "metadata": {
    "id": "cN83XzDHgBM7"
   },
   "source": [
    "**2) 지역별 판매 현황**\n",
    "\n",
    "- 지역별 판매 현황을 막대 그래프로 시각화해 확인합니다."
   ]
  },
  {
   "cell_type": "code",
   "execution_count": 33,
   "metadata": {
    "id": "bvPb1xzogBM7",
    "scrolled": true
   },
   "outputs": [
    {
     "data": {
      "image/png": "[encoded data removed]",
      "text/plain": [
       "<Figure size 1080x360 with 1 Axes>"
      ]
     },
     "metadata": {
      "image/png": {
       "height": 319,
       "width": 894
      },
      "needs_background": "light"
     },
     "output_type": "display_data"
    }
   ],
   "source": [
    "# 특별시, 도에 따른 평균 판매액\n",
    "tmp = sales.groupby(by='Addr1', as_index=False)[['Amt']].mean()\n",
    "tmp = tmp.sort_values(by='Amt', ascending=False)\n",
    "plt.figure(figsize=(15,5))\n",
    "plt.title('특별시,도에 따른 평균 판매액')\n",
    "plt.bar(tmp['Addr1'],tmp['Amt'])\n",
    "plt.ylabel('(원)')\n",
    "plt.show()"
   ]
  },
  {
   "cell_type": "code",
   "execution_count": 34,
   "metadata": {},
   "outputs": [
    {
     "data": {
      "image/png": "[encoded data removed]",
      "text/plain": [
       "<Figure size 1080x360 with 1 Axes>"
      ]
     },
     "metadata": {
      "image/png": {
       "height": 319,
       "width": 905
      },
      "needs_background": "light"
     },
     "output_type": "display_data"
    }
   ],
   "source": [
    "# 특별시, 도에 따른 판매액\n",
    "tmp = sales.groupby(by='Addr1', as_index=False)[['Amt']].sum()\n",
    "tmp = tmp.sort_values(by='Amt', ascending=False)\n",
    "plt.figure(figsize=(15,5))\n",
    "plt.title('특별시,도에 따른 판매액')\n",
    "plt.ticklabel_format(axis='y', style='plain')\n",
    "plt.bar(tmp['Addr1'],tmp['Amt']/1000)\n",
    "plt.ylabel('(천원)')\n",
    "plt.show()"
   ]
  },
  {
   "cell_type": "code",
   "execution_count": 35,
   "metadata": {},
   "outputs": [
    {
     "data": {
      "image/png": "[encoded data removed]",
      "text/plain": [
       "<Figure size 1080x360 with 1 Axes>"
      ]
     },
     "metadata": {
      "image/png": {
       "height": 319,
       "width": 900
      },
      "needs_background": "light"
     },
     "output_type": "display_data"
    }
   ],
   "source": [
    "# 특별시, 도에 따른 판매수량\n",
    "tmp = sales.groupby(by='Addr1', as_index=False)[['Qty']].sum()\n",
    "tmp = tmp.sort_values(by='Qty', ascending=False)\n",
    "plt.figure(figsize=(15,5))\n",
    "plt.title('특별시,도에 따른 판매수량')\n",
    "plt.ticklabel_format(axis='y', style='plain')\n",
    "plt.bar(tmp['Addr1'],tmp['Qty'])\n",
    "plt.ylabel('(개)')\n",
    "plt.show()"
   ]
  },
  {
   "cell_type": "code",
   "execution_count": 36,
   "metadata": {},
   "outputs": [
    {
     "data": {
      "image/png": "[encoded data removed]",
      "text/plain": [
       "<Figure size 1080x360 with 1 Axes>"
      ]
     },
     "metadata": {
      "image/png": {
       "height": 319,
       "width": 886
      },
      "needs_background": "light"
     },
     "output_type": "display_data"
    }
   ],
   "source": [
    "# 특별시, 도에 따른 평균판매수량\n",
    "tmp = sales.groupby(by='Addr1', as_index=False)[['Qty']].mean()\n",
    "tmp = tmp.sort_values(by='Qty', ascending=False)\n",
    "plt.figure(figsize=(15,5))\n",
    "plt.title('특별시,도에 따른 평균판매수량')\n",
    "plt.ticklabel_format(axis='y', style='plain')\n",
    "plt.bar(tmp['Addr1'],tmp['Qty'])\n",
    "plt.ylabel('(개)')\n",
    "plt.show()"
   ]
  },
  {
   "cell_type": "code",
   "execution_count": 37,
   "metadata": {},
   "outputs": [
    {
     "data": {
      "image/png": "[encoded data removed]",
      "text/plain": [
       "<Figure size 1080x360 with 1 Axes>"
      ]
     },
     "metadata": {
      "image/png": {
       "height": 320,
       "width": 894
      },
      "needs_background": "light"
     },
     "output_type": "display_data"
    }
   ],
   "source": [
    "# 시, 구에 따른 평균 판매액 Top10\n",
    "tmp = sales.groupby(by='Addr2', as_index=False)[['Amt']].mean()\n",
    "tmp = tmp.sort_values(by='Amt', ascending=False).head(10)\n",
    "plt.figure(figsize=(15,5))\n",
    "plt.title('시,구에 따른 평균 판매액 Top10')\n",
    "plt.ticklabel_format(axis='y', style='plain')\n",
    "plt.bar(tmp['Addr2'],tmp['Amt'])\n",
    "plt.ylabel('(원)')\n",
    "plt.show()"
   ]
  },
  {
   "cell_type": "code",
   "execution_count": 38,
   "metadata": {},
   "outputs": [
    {
     "data": {
      "image/png": "[encoded data removed]",
      "text/plain": [
       "<Figure size 1080x360 with 1 Axes>"
      ]
     },
     "metadata": {
      "image/png": {
       "height": 319,
       "width": 894
      },
      "needs_background": "light"
     },
     "output_type": "display_data"
    }
   ],
   "source": [
    "#시 구에 따른 평균 판매액 하위 10\n",
    "tmp = sales.groupby(by='Addr2', as_index=False)[['Amt']].mean()\n",
    "tmp = tmp.sort_values(by='Amt', ascending=False).tail(10)\n",
    "plt.figure(figsize=(15,5))\n",
    "plt.title('시,구에 따른 평균 판매액 하위10')\n",
    "plt.ticklabel_format(axis='y', style='plain')\n",
    "plt.bar(tmp['Addr2'],tmp['Amt'])\n",
    "plt.ylabel('(원)')\n",
    "plt.show()"
   ]
  },
  {
   "cell_type": "code",
   "execution_count": 39,
   "metadata": {},
   "outputs": [
    {
     "data": {
      "image/png": "[encoded data removed]",
      "text/plain": [
       "<Figure size 1080x360 with 1 Axes>"
      ]
     },
     "metadata": {
      "image/png": {
       "height": 319,
       "width": 900
      },
      "needs_background": "light"
     },
     "output_type": "display_data"
    }
   ],
   "source": [
    "# 시, 군에 따른 누적 판매액 TOP10\n",
    "tmp = sales.groupby(by='Addr2', as_index=False)[['Amt']].sum()\n",
    "tmp = tmp.sort_values(by='Amt', ascending=False).head(10)\n",
    "plt.figure(figsize=(15,5))\n",
    "plt.title('시,구에 따른 판매액 TOP10')\n",
    "plt.ticklabel_format(axis='y', style='plain')\n",
    "plt.bar(tmp['Addr2'],tmp['Amt']/1000)\n",
    "plt.ylabel('(천원)')\n",
    "plt.show()"
   ]
  },
  {
   "cell_type": "code",
   "execution_count": 40,
   "metadata": {},
   "outputs": [
    {
     "data": {
      "image/png": "[encoded data removed]",
      "text/plain": [
       "<Figure size 1080x360 with 1 Axes>"
      ]
     },
     "metadata": {
      "image/png": {
       "height": 319,
       "width": 883
      },
      "needs_background": "light"
     },
     "output_type": "display_data"
    }
   ],
   "source": [
    "# 시, 군에 따른 누적 구매액 하위 10\n",
    "tmp = sales.groupby(by='Addr2', as_index=False)[['Amt']].sum()\n",
    "tmp = tmp.sort_values(by='Amt', ascending=False).tail(10)\n",
    "plt.figure(figsize=(15,5))\n",
    "plt.title('시,구에 따른 구매액 하위 10')\n",
    "plt.ticklabel_format(axis='y', style='plain')\n",
    "plt.bar(tmp['Addr2'],tmp['Amt']/1000)\n",
    "plt.ylabel('(천원)')\n",
    "plt.show()"
   ]
  },
  {
   "cell_type": "code",
   "execution_count": 48,
   "metadata": {},
   "outputs": [
    {
     "data": {
      "image/png": "[encoded data removed]",
      "text/plain": [
       "<Figure size 1440x360 with 1 Axes>"
      ]
     },
     "metadata": {
      "image/png": {
       "height": 319,
       "width": 1173
      },
      "needs_background": "light"
     },
     "output_type": "display_data"
    }
   ],
   "source": [
    "# 시 군에 따른 판매수량\n",
    "tmp = sales.groupby(by='Addr2', as_index=False)[['Qty']].sum()\n",
    "tmp = tmp.sort_values(by='Qty', ascending=False).head(10)\n",
    "plt.figure(figsize=(20,5))\n",
    "plt.title('시,군에 따른 판매수량 TOP10')\n",
    "plt.ticklabel_format(axis='y', style='plain')\n",
    "plt.bar(tmp['Addr2'],tmp['Qty'])\n",
    "plt.ylabel('(개)')\n",
    "plt.show()"
   ]
  },
  {
   "cell_type": "code",
   "execution_count": 36,
   "metadata": {},
   "outputs": [
    {
     "data": {
      "image/png": "[encoded data removed]",
      "text/plain": [
       "<Figure size 1080x360 with 1 Axes>"
      ]
     },
     "metadata": {
      "image/png": {
       "height": 320,
       "width": 886
      },
      "needs_background": "light"
     },
     "output_type": "display_data"
    }
   ],
   "source": [
    "# 시 군에 따른 평균판매수량\n",
    "tmp = sales.groupby(by='Addr2', as_index=False)[['Qty']].mean()\n",
    "tmp = tmp.sort_values(by='Qty', ascending=False).head(10)\n",
    "plt.figure(figsize=(15,5))\n",
    "plt.title('시,군에 따른 평균 판매수량 Top10')\n",
    "plt.ticklabel_format(axis='y', style='plain')\n",
    "plt.bar(tmp['Addr2'],tmp['Qty'])\n",
    "plt.ylabel('(개)')\n",
    "plt.show()"
   ]
  },
  {
   "cell_type": "markdown",
   "metadata": {
    "id": "tOUH5zU8zf9k"
   },
   "source": [
    "**3) 분류별 판매 현황**"
   ]
  },
  {
   "cell_type": "code",
   "execution_count": 43,
   "metadata": {
    "id": "mjefn46bzjWW"
   },
   "outputs": [
    {
     "data": {
      "image/png": "[encoded data removed]",
      "text/plain": [
       "<Figure size 432x288 with 1 Axes>"
      ]
     },
     "metadata": {
      "image/png": {
       "height": 264,
       "width": 398
      },
      "needs_background": "light"
     },
     "output_type": "display_data"
    }
   ],
   "source": [
    "# 분류에 따른 판매 수량\n",
    "tmp = sales.groupby(by='Category', as_index=False)[['Qty']].sum()\n",
    "plt.title('분류에 따른 판매 수량')\n",
    "plt.bar(tmp['Category'],tmp['Qty'])\n",
    "plt.ylabel('(개)')\n",
    "plt.show()\n"
   ]
  },
  {
   "cell_type": "code",
   "execution_count": 44,
   "metadata": {},
   "outputs": [
    {
     "data": {
      "image/png": "[encoded data removed]",
      "text/plain": [
       "<Figure size 432x288 with 1 Axes>"
      ]
     },
     "metadata": {
      "image/png": {
       "height": 264,
       "width": 383
      },
      "needs_background": "light"
     },
     "output_type": "display_data"
    }
   ],
   "source": [
    "# 분류에 따른 평균 판매 수량\n",
    "tmp = sales.groupby(by='Category', as_index=False)[['Qty']].mean()\n",
    "plt.title('분류에 따른 평균 판매 수량')\n",
    "plt.bar(tmp['Category'],tmp['Qty'])\n",
    "plt.ylabel('(개)')\n",
    "plt.show()"
   ]
  },
  {
   "cell_type": "code",
   "execution_count": 45,
   "metadata": {},
   "outputs": [
    {
     "data": {
      "image/png": "[encoded data removed]",
      "text/plain": [
       "<Figure size 432x288 with 1 Axes>"
      ]
     },
     "metadata": {
      "image/png": {
       "height": 264,
       "width": 398
      },
      "needs_background": "light"
     },
     "output_type": "display_data"
    }
   ],
   "source": [
    "# 분류에 따른 판매액\n",
    "tmp = sales.groupby(by='Category', as_index=False)[['Amt']].sum()\n",
    "plt.title('분류에 따른 판매액')\n",
    "plt.bar(tmp['Category'],tmp['Amt']/1000)\n",
    "plt.ylabel('(천원)')\n",
    "plt.ticklabel_format(axis='y', style='plain')\n",
    "plt.show()\n"
   ]
  },
  {
   "cell_type": "code",
   "execution_count": 46,
   "metadata": {},
   "outputs": [
    {
     "data": {
      "image/png": "[encoded data removed]",
      "text/plain": [
       "<Figure size 432x288 with 1 Axes>"
      ]
     },
     "metadata": {
      "image/png": {
       "height": 264,
       "width": 392
      },
      "needs_background": "light"
     },
     "output_type": "display_data"
    }
   ],
   "source": [
    "# 분류에 따른 평균판매액\n",
    "tmp = sales.groupby(by='Category', as_index=False)[['Amt']].mean()\n",
    "plt.title('분류에 따른 평균판매액')\n",
    "plt.bar(tmp['Category'],tmp['Amt'])\n",
    "plt.ylabel('(원)')\n",
    "plt.ticklabel_format(axis='y', style='plain')\n",
    "plt.show()"
   ]
  },
  {
   "cell_type": "markdown",
   "metadata": {
    "id": "RXHtLPhzzj-d"
   },
   "source": [
    "**4) 주문년도별 판매현황**"
   ]
  },
  {
   "cell_type": "code",
   "execution_count": 47,
   "metadata": {
    "id": "WaqWFfhazj-e"
   },
   "outputs": [
    {
     "data": {
      "image/png": "[encoded data removed]",
      "text/plain": [
       "<Figure size 144x360 with 1 Axes>"
      ]
     },
     "metadata": {
      "image/png": {
       "height": 319,
       "width": 188
      },
      "needs_background": "light"
     },
     "output_type": "display_data"
    }
   ],
   "source": [
    "# 주문년도에 따른 판매액 (2017년은 3월까지의 데이터)\n",
    "tmp = sales.groupby(by='OrderYear', as_index=False)[['Amt']].sum()\n",
    "plt.figure(figsize=(2,5))\n",
    "plt.title('주문년도에 따른 판매액')\n",
    "plt.bar(tmp['OrderYear'],tmp['Amt']/1000)\n",
    "plt.ylabel('(천원)')\n",
    "plt.ticklabel_format(axis='y', style='plain')\n",
    "plt.show()\n",
    "\n"
   ]
  },
  {
   "cell_type": "code",
   "execution_count": 48,
   "metadata": {},
   "outputs": [
    {
     "data": {
      "image/png": "[encoded data removed]",
      "text/plain": [
       "<Figure size 144x360 with 1 Axes>"
      ]
     },
     "metadata": {
      "image/png": {
       "height": 319,
       "width": 192
      },
      "needs_background": "light"
     },
     "output_type": "display_data"
    }
   ],
   "source": [
    "#주문 년도에 따른 평균 판매액\n",
    "tmp = sales.groupby(by='OrderYear', as_index=False)[['Amt']].mean()\n",
    "plt.figure(figsize=(2,5))\n",
    "plt.title('주문년도에 따른 평균 판매액')\n",
    "plt.bar(tmp['OrderYear'],tmp['Amt'])\n",
    "plt.ylabel('(원)')\n",
    "plt.ticklabel_format(axis='y', style='plain')\n",
    "plt.show()\n"
   ]
  },
  {
   "cell_type": "code",
   "execution_count": 49,
   "metadata": {},
   "outputs": [
    {
     "data": {
      "image/png": "[encoded data removed]",
      "text/plain": [
       "<Figure size 144x360 with 1 Axes>"
      ]
     },
     "metadata": {
      "image/png": {
       "height": 319,
       "width": 189
      },
      "needs_background": "light"
     },
     "output_type": "display_data"
    }
   ],
   "source": [
    "# 주문년도에 따른 판매 수량\n",
    "tmp = sales.groupby(by='OrderYear', as_index=False)[['Qty']].sum()\n",
    "plt.figure(figsize=(2,5))\n",
    "plt.title('주문년도에 따른 판매수량')\n",
    "plt.bar(tmp['OrderYear'],tmp['Qty'])\n",
    "plt.ylabel('(개)')\n",
    "plt.ticklabel_format(axis='y', style='plain')\n",
    "plt.show()"
   ]
  },
  {
   "cell_type": "code",
   "execution_count": 50,
   "metadata": {},
   "outputs": [
    {
     "data": {
      "image/png": "[encoded data removed]",
      "text/plain": [
       "<Figure size 144x360 with 1 Axes>"
      ]
     },
     "metadata": {
      "image/png": {
       "height": 319,
       "width": 189
      },
      "needs_background": "light"
     },
     "output_type": "display_data"
    }
   ],
   "source": [
    "# 주문 년도에 따른 평균 판매 수량\n",
    "tmp = sales.groupby(by='OrderYear', as_index=False)[['Qty']].mean()\n",
    "plt.figure(figsize=(2,5))\n",
    "plt.title('주문년도에 따른 평균 판매수량')\n",
    "plt.bar(tmp['OrderYear'],tmp['Qty'])\n",
    "plt.ylabel('(개)')\n",
    "plt.ticklabel_format(axis='y', style='plain')\n",
    "plt.show()\n"
   ]
  },
  {
   "cell_type": "markdown",
   "metadata": {
    "id": "whE4SZXmzkQR"
   },
   "source": [
    "**5) 2016년도 월별 판매현황**"
   ]
  },
  {
   "cell_type": "code",
   "execution_count": 51,
   "metadata": {
    "collapsed": true,
    "id": "PWk4bHvFzkQU"
   },
   "outputs": [
    {
     "data": {
      "image/png": "[encoded data removed]",
      "text/plain": [
       "<Figure size 720x360 with 1 Axes>"
      ]
     },
     "metadata": {
      "image/png": {
       "height": 319,
       "width": 607
      },
      "needs_background": "light"
     },
     "output_type": "display_data"
    }
   ],
   "source": [
    "# 2016년 월별 평균 판매수량\n",
    "tmp = sales[sales['OrderYear']==2016].groupby(by='OrderMonth', as_index=False)[['Qty']].mean()\n",
    "plt.figure(figsize=(10,5))\n",
    "plt.title('2016년 월별 평균 판매수량')\n",
    "plt.bar(tmp['OrderMonth'],tmp['Qty'])\n",
    "plt.ylabel('(개)')\n",
    "plt.ticklabel_format(axis='y', style='plain')\n",
    "plt.show()\n",
    "\n",
    "\n"
   ]
  },
  {
   "cell_type": "code",
   "execution_count": 52,
   "metadata": {},
   "outputs": [
    {
     "data": {
      "image/png": "[encoded data removed]",
      "text/plain": [
       "<Figure size 720x360 with 1 Axes>"
      ]
     },
     "metadata": {
      "image/png": {
       "height": 319,
       "width": 615
      },
      "needs_background": "light"
     },
     "output_type": "display_data"
    }
   ],
   "source": [
    "# 2016년 월별 판매수량\n",
    "tmp = sales[sales['OrderYear']==2016].groupby(by='OrderMonth', as_index=False)[['Qty']].sum()\n",
    "plt.figure(figsize=(10,5))\n",
    "plt.title('2016년 월별 판매수량')\n",
    "plt.bar(tmp['OrderMonth'],tmp['Qty'])\n",
    "plt.ylabel('(개)')\n",
    "plt.ticklabel_format(axis='y', style='plain')\n",
    "plt.show()"
   ]
  },
  {
   "cell_type": "code",
   "execution_count": 53,
   "metadata": {},
   "outputs": [
    {
     "data": {
      "image/png": "[encoded data removed]",
      "text/plain": [
       "<Figure size 720x360 with 1 Axes>"
      ]
     },
     "metadata": {
      "image/png": {
       "height": 319,
       "width": 615
      },
      "needs_background": "light"
     },
     "output_type": "display_data"
    }
   ],
   "source": [
    "# 2016년 월별 평균 판매액\n",
    "tmp = sales[sales['OrderYear']==2016].groupby(by='OrderMonth', as_index=False)[['Amt']].mean()\n",
    "plt.figure(figsize=(10,5))\n",
    "plt.title('2016년 월별 평균 판매액')\n",
    "plt.bar(tmp['OrderMonth'],tmp['Amt'])\n",
    "plt.ylabel('(원)')\n",
    "plt.ticklabel_format(axis='y', style='plain')\n",
    "plt.show()"
   ]
  },
  {
   "cell_type": "code",
   "execution_count": 54,
   "metadata": {},
   "outputs": [
    {
     "data": {
      "image/png": "[encoded data removed]",
      "text/plain": [
       "<Figure size 720x360 with 1 Axes>"
      ]
     },
     "metadata": {
      "image/png": {
       "height": 319,
       "width": 621
      },
      "needs_background": "light"
     },
     "output_type": "display_data"
    }
   ],
   "source": [
    "# 2016년 월별 판매액\n",
    "tmp = sales[sales['OrderYear']==2016].groupby(by='OrderMonth', as_index=False)[['Amt']].sum()\n",
    "plt.figure(figsize=(10,5))\n",
    "plt.title('2016년 월별 판매액')\n",
    "plt.bar(tmp['OrderMonth'],tmp['Amt']/1000)\n",
    "plt.ylabel('(천원)')\n",
    "plt.ticklabel_format(axis='y', style='plain')\n",
    "plt.show()"
   ]
  },
  {
   "cell_type": "code",
   "execution_count": 49,
   "metadata": {},
   "outputs": [
    {
     "data": {
      "image/png": "[encoded data removed]",
      "text/plain": [
       "<Figure size 1080x360 with 1 Axes>"
      ]
     },
     "metadata": {
      "image/png": {
       "height": 319,
       "width": 905
      },
      "needs_background": "light"
     },
     "output_type": "display_data"
    }
   ],
   "source": [
    "tmp = sales.groupby(by='Age1', as_index=False)[['Amt']].sum()\n",
    "plt.figure(figsize=(15,5))\n",
    "plt.title('나이에 따른 판매액')\n",
    "plt.bar(tmp['Age1'],tmp['Amt']/1000)\n",
    "plt.ticklabel_format(axis='y', style='plain')\n",
    "plt.ylabel('(천원)')\n",
    "plt.show()"
   ]
  },
  {
   "cell_type": "code",
   "execution_count": 32,
   "metadata": {},
   "outputs": [
    {
     "data": {
      "image/png": "[encoded data removed]",
      "text/plain": [
       "<Figure size 1080x360 with 1 Axes>"
      ]
     },
     "metadata": {
      "image/png": {
       "height": 319,
       "width": 894
      },
      "needs_background": "light"
     },
     "output_type": "display_data"
    }
   ],
   "source": [
    "tmp = sales.groupby(by='Age1', as_index=False)[['Amt']].mean()\n",
    "plt.figure(figsize=(15,5))\n",
    "plt.title('나이에 따른 평균 판매액')\n",
    "plt.bar(tmp['Age1'],tmp['Amt'])\n",
    "plt.ticklabel_format(axis='y', style='plain')\n",
    "plt.ylabel('(원)')\n",
    "plt.show()"
   ]
  },
  {
   "cell_type": "code",
   "execution_count": 33,
   "metadata": {},
   "outputs": [
    {
     "data": {
      "image/png": "[encoded data removed]",
      "text/plain": [
       "<Figure size 1080x360 with 1 Axes>"
      ]
     },
     "metadata": {
      "image/png": {
       "height": 319,
       "width": 900
      },
      "needs_background": "light"
     },
     "output_type": "display_data"
    }
   ],
   "source": [
    "tmp = sales.groupby(by='Age1', as_index=False)[['Qty']].sum()\n",
    "plt.figure(figsize=(15,5))\n",
    "plt.title('나이에 따른 판매 수량')\n",
    "plt.bar(tmp['Age1'],tmp['Qty'])\n",
    "plt.ticklabel_format(axis='y', style='plain')\n",
    "plt.ylabel('(개)')\n",
    "plt.show()"
   ]
  },
  {
   "cell_type": "code",
   "execution_count": 52,
   "metadata": {},
   "outputs": [
    {
     "data": {
      "image/png": "[encoded data removed]",
      "text/plain": [
       "<Figure size 1080x360 with 1 Axes>"
      ]
     },
     "metadata": {
      "image/png": {
       "height": 319,
       "width": 894
      },
      "needs_background": "light"
     },
     "output_type": "display_data"
    }
   ],
   "source": [
    "tmp = sales.groupby(by='Age1', as_index=False)[['Amt','Qty']].sum()\n",
    "plt.figure(figsize=(15,5))\n",
    "plt.title('나이에 따른 평균 구매 비율')\n",
    "plt.bar(tmp['Age1'],tmp['Amt']/tmp['Qty'])\n",
    "plt.ticklabel_format(axis='y', style='plain')\n",
    "plt.ylabel('(원)')\n",
    "plt.show()"
   ]
  },
  {
   "cell_type": "code",
   "execution_count": 27,
   "metadata": {},
   "outputs": [
    {
     "data": {
      "text/html": [
       "<div>\n",
       "<style scoped>\n",
       "    .dataframe tbody tr th:only-of-type {\n",
       "        vertical-align: middle;\n",
       "    }\n",
       "\n",
       "    .dataframe tbody tr th {\n",
       "        vertical-align: top;\n",
       "    }\n",
       "\n",
       "    .dataframe thead th {\n",
       "        text-align: right;\n",
       "    }\n",
       "</style>\n",
       "<table border=\"1\" class=\"dataframe\">\n",
       "  <thead>\n",
       "    <tr style=\"text-align: right;\">\n",
       "      <th></th>\n",
       "      <th>OrderID</th>\n",
       "      <th>Seq</th>\n",
       "      <th>Qty</th>\n",
       "      <th>Amt</th>\n",
       "      <th>CustomerID</th>\n",
       "      <th>ProductName</th>\n",
       "      <th>Category</th>\n",
       "      <th>RegisterDate</th>\n",
       "      <th>Gender</th>\n",
       "      <th>Addr1</th>\n",
       "      <th>Addr2</th>\n",
       "      <th>Age</th>\n",
       "      <th>OrderYear</th>\n",
       "      <th>OrderMonth</th>\n",
       "      <th>Price</th>\n",
       "      <th>Age1</th>\n",
       "    </tr>\n",
       "  </thead>\n",
       "  <tbody>\n",
       "    <tr>\n",
       "      <th>0</th>\n",
       "      <td>1</td>\n",
       "      <td>1</td>\n",
       "      <td>2</td>\n",
       "      <td>7900</td>\n",
       "      <td>c107853</td>\n",
       "      <td>토마토</td>\n",
       "      <td>과일</td>\n",
       "      <td>2008-07-11</td>\n",
       "      <td>M</td>\n",
       "      <td>경기도</td>\n",
       "      <td>안성시</td>\n",
       "      <td>56</td>\n",
       "      <td>2016</td>\n",
       "      <td>1</td>\n",
       "      <td>3950.0</td>\n",
       "      <td>50대</td>\n",
       "    </tr>\n",
       "    <tr>\n",
       "      <th>1</th>\n",
       "      <td>55</td>\n",
       "      <td>1</td>\n",
       "      <td>1</td>\n",
       "      <td>1050</td>\n",
       "      <td>c107853</td>\n",
       "      <td>깻잎</td>\n",
       "      <td>채소</td>\n",
       "      <td>2008-07-11</td>\n",
       "      <td>M</td>\n",
       "      <td>경기도</td>\n",
       "      <td>안성시</td>\n",
       "      <td>56</td>\n",
       "      <td>2016</td>\n",
       "      <td>7</td>\n",
       "      <td>1050.0</td>\n",
       "      <td>50대</td>\n",
       "    </tr>\n",
       "    <tr>\n",
       "      <th>2</th>\n",
       "      <td>44</td>\n",
       "      <td>8</td>\n",
       "      <td>1</td>\n",
       "      <td>1050</td>\n",
       "      <td>c107853</td>\n",
       "      <td>깻잎</td>\n",
       "      <td>채소</td>\n",
       "      <td>2008-07-11</td>\n",
       "      <td>M</td>\n",
       "      <td>경기도</td>\n",
       "      <td>안성시</td>\n",
       "      <td>56</td>\n",
       "      <td>2016</td>\n",
       "      <td>9</td>\n",
       "      <td>1050.0</td>\n",
       "      <td>50대</td>\n",
       "    </tr>\n",
       "    <tr>\n",
       "      <th>3</th>\n",
       "      <td>36</td>\n",
       "      <td>2</td>\n",
       "      <td>1</td>\n",
       "      <td>1200</td>\n",
       "      <td>c107853</td>\n",
       "      <td>콩나물</td>\n",
       "      <td>반찬류</td>\n",
       "      <td>2008-07-11</td>\n",
       "      <td>M</td>\n",
       "      <td>경기도</td>\n",
       "      <td>안성시</td>\n",
       "      <td>56</td>\n",
       "      <td>2016</td>\n",
       "      <td>1</td>\n",
       "      <td>1200.0</td>\n",
       "      <td>50대</td>\n",
       "    </tr>\n",
       "    <tr>\n",
       "      <th>4</th>\n",
       "      <td>54</td>\n",
       "      <td>1</td>\n",
       "      <td>1</td>\n",
       "      <td>1300</td>\n",
       "      <td>c107853</td>\n",
       "      <td>콩나물</td>\n",
       "      <td>반찬류</td>\n",
       "      <td>2008-07-11</td>\n",
       "      <td>M</td>\n",
       "      <td>경기도</td>\n",
       "      <td>안성시</td>\n",
       "      <td>56</td>\n",
       "      <td>2016</td>\n",
       "      <td>3</td>\n",
       "      <td>1300.0</td>\n",
       "      <td>50대</td>\n",
       "    </tr>\n",
       "  </tbody>\n",
       "</table>\n",
       "</div>"
      ],
      "text/plain": [
       "   OrderID  Seq  Qty   Amt CustomerID ProductName Category RegisterDate  \\\n",
       "0        1    1    2  7900    c107853         토마토       과일   2008-07-11   \n",
       "1       55    1    1  1050    c107853          깻잎       채소   2008-07-11   \n",
       "2       44    8    1  1050    c107853          깻잎       채소   2008-07-11   \n",
       "3       36    2    1  1200    c107853         콩나물      반찬류   2008-07-11   \n",
       "4       54    1    1  1300    c107853         콩나물      반찬류   2008-07-11   \n",
       "\n",
       "  Gender Addr1 Addr2  Age  OrderYear  OrderMonth   Price Age1  \n",
       "0      M   경기도   안성시   56       2016           1  3950.0  50대  \n",
       "1      M   경기도   안성시   56       2016           7  1050.0  50대  \n",
       "2      M   경기도   안성시   56       2016           9  1050.0  50대  \n",
       "3      M   경기도   안성시   56       2016           1  1200.0  50대  \n",
       "4      M   경기도   안성시   56       2016           3  1300.0  50대  "
      ]
     },
     "execution_count": 27,
     "metadata": {},
     "output_type": "execute_result"
    }
   ],
   "source": [
    "bin = [-np.inf, 20, 30, 40, 50, 60, 70, 80,  np.inf]\n",
    "label = ['10대', '20대', '30대', '40대', '50대', '60대', '70대', '80대']\n",
    "sales['Age1'] = pd.cut(sales['Age'], bins=bin, labels=label)\n",
    "sales.head()"
   ]
  },
  {
   "cell_type": "markdown",
   "metadata": {
    "id": "ajTIZ9gNgBM7"
   },
   "source": [
    "## 5.고객 분류\n",
    "\n",
    "* 고객을 등급을 나눠 판매 현황을 분석하고 이에 따른 판매 전략을 수립하려합니다.\n",
    "- 우선 고객을 일정 기준에 따라 분류하고 등급을 지정해야 합니다.\n",
    "- 다음과 같은 순서로 처리하면 될 것입니다.\n",
    "    - 고객별 주문 수량 합, 판매 금액 합을 갖는 데이터프레임 선언\n",
    "    - 고객 분류 기준과 이 기준에 따른 등급 이름 정의\n",
    "    - 고객 등급을 갖는 새로운 Level 열 추가"
   ]
  },
  {
   "cell_type": "markdown",
   "metadata": {
    "id": "oYwVs7u2gBM7"
   },
   "source": [
    "**1) 고객별 집계**\n",
    "\n",
    "* 고객별 주문 수량 합, 판매 금액 합을 갖는 cst 데이터프레임을 선언합니다."
   ]
  },
  {
   "cell_type": "code",
   "execution_count": 55,
   "metadata": {
    "id": "JHF506hggBM8"
   },
   "outputs": [
    {
     "data": {
      "text/html": [
       "<div>\n",
       "<style scoped>\n",
       "    .dataframe tbody tr th:only-of-type {\n",
       "        vertical-align: middle;\n",
       "    }\n",
       "\n",
       "    .dataframe tbody tr th {\n",
       "        vertical-align: top;\n",
       "    }\n",
       "\n",
       "    .dataframe thead th {\n",
       "        text-align: right;\n",
       "    }\n",
       "</style>\n",
       "<table border=\"1\" class=\"dataframe\">\n",
       "  <thead>\n",
       "    <tr style=\"text-align: right;\">\n",
       "      <th></th>\n",
       "      <th>CustomerID</th>\n",
       "      <th>Qty</th>\n",
       "      <th>Amt</th>\n",
       "    </tr>\n",
       "  </thead>\n",
       "  <tbody>\n",
       "    <tr>\n",
       "      <th>0</th>\n",
       "      <td>c017487</td>\n",
       "      <td>127</td>\n",
       "      <td>296447</td>\n",
       "    </tr>\n",
       "    <tr>\n",
       "      <th>1</th>\n",
       "      <td>c017503</td>\n",
       "      <td>42</td>\n",
       "      <td>160444</td>\n",
       "    </tr>\n",
       "    <tr>\n",
       "      <th>2</th>\n",
       "      <td>c017517</td>\n",
       "      <td>192</td>\n",
       "      <td>317590</td>\n",
       "    </tr>\n",
       "    <tr>\n",
       "      <th>3</th>\n",
       "      <td>c017522</td>\n",
       "      <td>64</td>\n",
       "      <td>219849</td>\n",
       "    </tr>\n",
       "    <tr>\n",
       "      <th>4</th>\n",
       "      <td>c017526</td>\n",
       "      <td>26</td>\n",
       "      <td>48881</td>\n",
       "    </tr>\n",
       "  </tbody>\n",
       "</table>\n",
       "</div>"
      ],
      "text/plain": [
       "  CustomerID  Qty     Amt\n",
       "0    c017487  127  296447\n",
       "1    c017503   42  160444\n",
       "2    c017517  192  317590\n",
       "3    c017522   64  219849\n",
       "4    c017526   26   48881"
      ]
     },
     "execution_count": 55,
     "metadata": {},
     "output_type": "execute_result"
    }
   ],
   "source": [
    "cst = sales.groupby(by='CustomerID', as_index=False)[['Qty','Amt']].sum()\n",
    "cst.head()\n"
   ]
  },
  {
   "cell_type": "markdown",
   "metadata": {
    "id": "Se7JGfL4gBM8"
   },
   "source": [
    "**2) 고객 분류 기준 찾기**\n",
    "\n",
    "- 고객 등급 분류 기준을 찾기 위해 관련 데이터를 확인합니다."
   ]
  },
  {
   "cell_type": "code",
   "execution_count": 56,
   "metadata": {
    "id": "OjoihrbtgBM8"
   },
   "outputs": [
    {
     "name": "stdout",
     "output_type": "stream",
     "text": [
      "<class 'pandas.core.frame.DataFrame'>\n",
      "Int64Index: 2237 entries, 0 to 2236\n",
      "Data columns (total 3 columns):\n",
      " #   Column      Non-Null Count  Dtype \n",
      "---  ------      --------------  ----- \n",
      " 0   CustomerID  2237 non-null   object\n",
      " 1   Qty         2237 non-null   int64 \n",
      " 2   Amt         2237 non-null   int64 \n",
      "dtypes: int64(2), object(1)\n",
      "memory usage: 69.9+ KB\n"
     ]
    },
    {
     "data": {
      "text/html": [
       "<div>\n",
       "<style scoped>\n",
       "    .dataframe tbody tr th:only-of-type {\n",
       "        vertical-align: middle;\n",
       "    }\n",
       "\n",
       "    .dataframe tbody tr th {\n",
       "        vertical-align: top;\n",
       "    }\n",
       "\n",
       "    .dataframe thead th {\n",
       "        text-align: right;\n",
       "    }\n",
       "</style>\n",
       "<table border=\"1\" class=\"dataframe\">\n",
       "  <thead>\n",
       "    <tr style=\"text-align: right;\">\n",
       "      <th></th>\n",
       "      <th>Qty</th>\n",
       "      <th>Amt</th>\n",
       "    </tr>\n",
       "  </thead>\n",
       "  <tbody>\n",
       "    <tr>\n",
       "      <th>count</th>\n",
       "      <td>2237.000000</td>\n",
       "      <td>2.237000e+03</td>\n",
       "    </tr>\n",
       "    <tr>\n",
       "      <th>mean</th>\n",
       "      <td>38.988824</td>\n",
       "      <td>8.761226e+04</td>\n",
       "    </tr>\n",
       "    <tr>\n",
       "      <th>std</th>\n",
       "      <td>63.216430</td>\n",
       "      <td>1.401784e+05</td>\n",
       "    </tr>\n",
       "    <tr>\n",
       "      <th>min</th>\n",
       "      <td>1.000000</td>\n",
       "      <td>2.730000e+02</td>\n",
       "    </tr>\n",
       "    <tr>\n",
       "      <th>25%</th>\n",
       "      <td>4.000000</td>\n",
       "      <td>8.450000e+03</td>\n",
       "    </tr>\n",
       "    <tr>\n",
       "      <th>50%</th>\n",
       "      <td>13.000000</td>\n",
       "      <td>3.015000e+04</td>\n",
       "    </tr>\n",
       "    <tr>\n",
       "      <th>75%</th>\n",
       "      <td>47.000000</td>\n",
       "      <td>1.026730e+05</td>\n",
       "    </tr>\n",
       "    <tr>\n",
       "      <th>max</th>\n",
       "      <td>1008.000000</td>\n",
       "      <td>1.245250e+06</td>\n",
       "    </tr>\n",
       "  </tbody>\n",
       "</table>\n",
       "</div>"
      ],
      "text/plain": [
       "               Qty           Amt\n",
       "count  2237.000000  2.237000e+03\n",
       "mean     38.988824  8.761226e+04\n",
       "std      63.216430  1.401784e+05\n",
       "min       1.000000  2.730000e+02\n",
       "25%       4.000000  8.450000e+03\n",
       "50%      13.000000  3.015000e+04\n",
       "75%      47.000000  1.026730e+05\n",
       "max    1008.000000  1.245250e+06"
      ]
     },
     "execution_count": 56,
     "metadata": {},
     "output_type": "execute_result"
    }
   ],
   "source": [
    "cst.info()\n",
    "cst.value_counts()\n",
    "cst.describe()"
   ]
  },
  {
   "cell_type": "code",
   "execution_count": 57,
   "metadata": {},
   "outputs": [
    {
     "data": {
      "text/html": [
       "<div>\n",
       "<style scoped>\n",
       "    .dataframe tbody tr th:only-of-type {\n",
       "        vertical-align: middle;\n",
       "    }\n",
       "\n",
       "    .dataframe tbody tr th {\n",
       "        vertical-align: top;\n",
       "    }\n",
       "\n",
       "    .dataframe thead th {\n",
       "        text-align: right;\n",
       "    }\n",
       "</style>\n",
       "<table border=\"1\" class=\"dataframe\">\n",
       "  <thead>\n",
       "    <tr style=\"text-align: right;\">\n",
       "      <th></th>\n",
       "      <th>CustomerID</th>\n",
       "      <th>Qty</th>\n",
       "      <th>Amt</th>\n",
       "    </tr>\n",
       "  </thead>\n",
       "  <tbody>\n",
       "    <tr>\n",
       "      <th>975</th>\n",
       "      <td>c206248</td>\n",
       "      <td>613</td>\n",
       "      <td>1245250</td>\n",
       "    </tr>\n",
       "    <tr>\n",
       "      <th>494</th>\n",
       "      <td>c110521</td>\n",
       "      <td>356</td>\n",
       "      <td>1111062</td>\n",
       "    </tr>\n",
       "    <tr>\n",
       "      <th>1172</th>\n",
       "      <td>c236759</td>\n",
       "      <td>431</td>\n",
       "      <td>1084895</td>\n",
       "    </tr>\n",
       "    <tr>\n",
       "      <th>331</th>\n",
       "      <td>c085186</td>\n",
       "      <td>348</td>\n",
       "      <td>1080608</td>\n",
       "    </tr>\n",
       "    <tr>\n",
       "      <th>120</th>\n",
       "      <td>c043687</td>\n",
       "      <td>1008</td>\n",
       "      <td>1043129</td>\n",
       "    </tr>\n",
       "    <tr>\n",
       "      <th>438</th>\n",
       "      <td>c100815</td>\n",
       "      <td>405</td>\n",
       "      <td>1007521</td>\n",
       "    </tr>\n",
       "    <tr>\n",
       "      <th>1249</th>\n",
       "      <td>c261935</td>\n",
       "      <td>294</td>\n",
       "      <td>931219</td>\n",
       "    </tr>\n",
       "    <tr>\n",
       "      <th>122</th>\n",
       "      <td>c044231</td>\n",
       "      <td>319</td>\n",
       "      <td>903302</td>\n",
       "    </tr>\n",
       "    <tr>\n",
       "      <th>1771</th>\n",
       "      <td>c342774</td>\n",
       "      <td>522</td>\n",
       "      <td>881301</td>\n",
       "    </tr>\n",
       "    <tr>\n",
       "      <th>1452</th>\n",
       "      <td>c300788</td>\n",
       "      <td>269</td>\n",
       "      <td>845622</td>\n",
       "    </tr>\n",
       "  </tbody>\n",
       "</table>\n",
       "</div>"
      ],
      "text/plain": [
       "     CustomerID   Qty      Amt\n",
       "975     c206248   613  1245250\n",
       "494     c110521   356  1111062\n",
       "1172    c236759   431  1084895\n",
       "331     c085186   348  1080608\n",
       "120     c043687  1008  1043129\n",
       "438     c100815   405  1007521\n",
       "1249    c261935   294   931219\n",
       "122     c044231   319   903302\n",
       "1771    c342774   522   881301\n",
       "1452    c300788   269   845622"
      ]
     },
     "execution_count": 57,
     "metadata": {},
     "output_type": "execute_result"
    }
   ],
   "source": [
    "cst = cst.sort_values(by='Amt', ascending=False)\n",
    "cst.head(10)"
   ]
  },
  {
   "cell_type": "code",
   "execution_count": 58,
   "metadata": {},
   "outputs": [
    {
     "data": {
      "text/plain": [
       "87612.2597228431"
      ]
     },
     "execution_count": 58,
     "metadata": {},
     "output_type": "execute_result"
    }
   ],
   "source": [
    "cst['Amt'].mean()"
   ]
  },
  {
   "cell_type": "markdown",
   "metadata": {
    "id": "OqXtZMluFrHv"
   },
   "source": [
    "**3) 고객 분류 기준 정리**\n",
    "\n",
    "- 고객 등급 분류 기준과 그 기준에 따른 등급 이름을 정리합니다.\n",
    "- 예를 들면 다음과 같은 기준과 등급 이름을 정의할 수 있을 것입니다.\n",
    "    - ~ 30,000: Family\n",
    "    - 30,000 ~ 100,000: Bronze\n",
    "    - 100,000 ~ 300,000: Silver\n",
    "    - 300,000 ~ : Gold\n",
    "    - 600,000 ~ : Platinum\n",
    "- 분류 기준과 등급 이름\n",
    "    -  주문건수 ~10 - member\n",
    "    -  주문건수 10~50 - family\n",
    "    -  주문건수 50~200 - VIP\n",
    "    -  주문건수 200~500 - VVIP\n",
    "    -  주문건수 500~ -MVP"
   ]
  },
  {
   "cell_type": "markdown",
   "metadata": {
    "id": "aav9vJSTgBM8"
   },
   "source": [
    "**4) 고객 등급 반영**\n",
    "\n",
    "- 각자 정의한 기준에 따라 고객 등급을 Level 열로 저장합니다."
   ]
  },
  {
   "cell_type": "code",
   "execution_count": 62,
   "metadata": {
    "id": "QgxDdl-EgBM8"
   },
   "outputs": [
    {
     "data": {
      "text/html": [
       "<div>\n",
       "<style scoped>\n",
       "    .dataframe tbody tr th:only-of-type {\n",
       "        vertical-align: middle;\n",
       "    }\n",
       "\n",
       "    .dataframe tbody tr th {\n",
       "        vertical-align: top;\n",
       "    }\n",
       "\n",
       "    .dataframe thead th {\n",
       "        text-align: right;\n",
       "    }\n",
       "</style>\n",
       "<table border=\"1\" class=\"dataframe\">\n",
       "  <thead>\n",
       "    <tr style=\"text-align: right;\">\n",
       "      <th></th>\n",
       "      <th>CustomerID</th>\n",
       "      <th>Qty</th>\n",
       "      <th>Amt</th>\n",
       "      <th>Level</th>\n",
       "    </tr>\n",
       "  </thead>\n",
       "  <tbody>\n",
       "    <tr>\n",
       "      <th>975</th>\n",
       "      <td>c206248</td>\n",
       "      <td>613</td>\n",
       "      <td>1245250</td>\n",
       "      <td>MVP</td>\n",
       "    </tr>\n",
       "    <tr>\n",
       "      <th>494</th>\n",
       "      <td>c110521</td>\n",
       "      <td>356</td>\n",
       "      <td>1111062</td>\n",
       "      <td>VVIP</td>\n",
       "    </tr>\n",
       "    <tr>\n",
       "      <th>1172</th>\n",
       "      <td>c236759</td>\n",
       "      <td>431</td>\n",
       "      <td>1084895</td>\n",
       "      <td>VVIP</td>\n",
       "    </tr>\n",
       "    <tr>\n",
       "      <th>331</th>\n",
       "      <td>c085186</td>\n",
       "      <td>348</td>\n",
       "      <td>1080608</td>\n",
       "      <td>VVIP</td>\n",
       "    </tr>\n",
       "    <tr>\n",
       "      <th>120</th>\n",
       "      <td>c043687</td>\n",
       "      <td>1008</td>\n",
       "      <td>1043129</td>\n",
       "      <td>MVP</td>\n",
       "    </tr>\n",
       "  </tbody>\n",
       "</table>\n",
       "</div>"
      ],
      "text/plain": [
       "     CustomerID   Qty      Amt Level\n",
       "975     c206248   613  1245250   MVP\n",
       "494     c110521   356  1111062  VVIP\n",
       "1172    c236759   431  1084895  VVIP\n",
       "331     c085186   348  1080608  VVIP\n",
       "120     c043687  1008  1043129   MVP"
      ]
     },
     "execution_count": 62,
     "metadata": {},
     "output_type": "execute_result"
    }
   ],
   "source": [
    "bin = [-np.inf, 10, 50, 200, 500, np.inf]\n",
    "label = ['member', 'family', 'VIP', 'VVIP', 'MVP']\n",
    "cst['Level'] = pd.cut(cst['Qty'], bins=bin, labels=label)\n",
    "cst.head()"
   ]
  },
  {
   "cell_type": "markdown",
   "metadata": {
    "id": "krCEvndzGUiq"
   },
   "source": [
    "- 등급별 고객 수를 확인해 등급이 적절히 나뉘었는지 검증합니다.\n",
    "- 검증 결과가 적절하지 않다면 위 기준을 변경해 등급을 다시 나눕니다."
   ]
  },
  {
   "cell_type": "code",
   "execution_count": 63,
   "metadata": {
    "id": "6G2TSGW1gBM8"
   },
   "outputs": [
    {
     "data": {
      "text/html": [
       "<div>\n",
       "<style scoped>\n",
       "    .dataframe tbody tr th:only-of-type {\n",
       "        vertical-align: middle;\n",
       "    }\n",
       "\n",
       "    .dataframe tbody tr th {\n",
       "        vertical-align: top;\n",
       "    }\n",
       "\n",
       "    .dataframe thead th {\n",
       "        text-align: right;\n",
       "    }\n",
       "</style>\n",
       "<table border=\"1\" class=\"dataframe\">\n",
       "  <thead>\n",
       "    <tr style=\"text-align: right;\">\n",
       "      <th></th>\n",
       "      <th>Level</th>\n",
       "      <th>Qty</th>\n",
       "      <th>Amt</th>\n",
       "    </tr>\n",
       "  </thead>\n",
       "  <tbody>\n",
       "    <tr>\n",
       "      <th>0</th>\n",
       "      <td>member</td>\n",
       "      <td>3896</td>\n",
       "      <td>9704489</td>\n",
       "    </tr>\n",
       "    <tr>\n",
       "      <th>1</th>\n",
       "      <td>family</td>\n",
       "      <td>17785</td>\n",
       "      <td>39749963</td>\n",
       "    </tr>\n",
       "    <tr>\n",
       "      <th>2</th>\n",
       "      <td>VIP</td>\n",
       "      <td>46027</td>\n",
       "      <td>104164480</td>\n",
       "    </tr>\n",
       "    <tr>\n",
       "      <th>3</th>\n",
       "      <td>VVIP</td>\n",
       "      <td>17367</td>\n",
       "      <td>39200013</td>\n",
       "    </tr>\n",
       "    <tr>\n",
       "      <th>4</th>\n",
       "      <td>MVP</td>\n",
       "      <td>2143</td>\n",
       "      <td>3169680</td>\n",
       "    </tr>\n",
       "  </tbody>\n",
       "</table>\n",
       "</div>"
      ],
      "text/plain": [
       "    Level    Qty        Amt\n",
       "0  member   3896    9704489\n",
       "1  family  17785   39749963\n",
       "2     VIP  46027  104164480\n",
       "3    VVIP  17367   39200013\n",
       "4     MVP   2143    3169680"
      ]
     },
     "execution_count": 63,
     "metadata": {},
     "output_type": "execute_result"
    }
   ],
   "source": [
    "cst1 = cst.groupby(by='Level', as_index=False)[['Qty','Amt']].sum()\n",
    "cst1.head()"
   ]
  },
  {
   "cell_type": "markdown",
   "metadata": {
    "id": "xRweF7aygBM9"
   },
   "source": [
    "## 6.등급별 고객 분석\n",
    "\n",
    "- 고객 등급을 기준으로 다양한 분석을 진행합니다.\n",
    "- 등급 별 분석은 판매 전략을 새롭게 수립하는 데 중요한 자료가 될 것입니다.\n",
    "- 분석 과정에서 판매 전략에 대한 부분을 고민해 보시기 바랍니다."
   ]
  },
  {
   "cell_type": "markdown",
   "metadata": {
    "id": "FhuIC1EigBM9"
   },
   "source": [
    "**1) 등급별 판매 수량**\n",
    "\n",
    "- 고객 등급별 판매 수량을 막대 그래프로 시각화해 확인합니다."
   ]
  },
  {
   "cell_type": "code",
   "execution_count": 65,
   "metadata": {
    "id": "fQMK4rnLgBM9"
   },
   "outputs": [
    {
     "data": {
      "image/png": "[encoded data removed]",
      "text/plain": [
       "<Figure size 432x360 with 1 Axes>"
      ]
     },
     "metadata": {
      "image/png": {
       "height": 319,
       "width": 398
      },
      "needs_background": "light"
     },
     "output_type": "display_data"
    }
   ],
   "source": [
    "#고객 등급에 따른 판매수량\n",
    "cst1 = cst.groupby(by='Level', as_index=False)[['Qty']].sum()\n",
    "plt.figure(figsize=(6,5))\n",
    "plt.title('고객등급에 따른 판매수량')\n",
    "plt.bar(cst1['Level'],cst1['Qty'])\n",
    "plt.ylabel('(개)')\n",
    "plt.ticklabel_format(axis='y', style='plain')\n",
    "plt.show()\n"
   ]
  },
  {
   "cell_type": "code",
   "execution_count": 66,
   "metadata": {},
   "outputs": [
    {
     "data": {
      "image/png": "[encoded data removed]",
      "text/plain": [
       "<Figure size 432x360 with 1 Axes>"
      ]
     },
     "metadata": {
      "image/png": {
       "height": 319,
       "width": 387
      },
      "needs_background": "light"
     },
     "output_type": "display_data"
    }
   ],
   "source": [
    "#고객 등급에 따른 평균 판매수량\n",
    "cst1 = cst.groupby(by='Level', as_index=False)[['Qty']].mean()\n",
    "plt.figure(figsize=(6,5))\n",
    "plt.title('고객등급에 따른 평균 판매수량')\n",
    "plt.bar(cst1['Level'],cst1['Qty'])\n",
    "plt.ylabel('(개)')\n",
    "plt.ticklabel_format(axis='y', style='plain')\n",
    "plt.show()"
   ]
  },
  {
   "cell_type": "markdown",
   "metadata": {
    "id": "hOZBoX2KgBM9"
   },
   "source": [
    "**2) 등급별 판매 금액**\n",
    "\n",
    "- 고객 등급별 판매 금액을 막대 그래프로 시각화해 확인합니다. "
   ]
  },
  {
   "cell_type": "code",
   "execution_count": 72,
   "metadata": {
    "id": "pSovttlfgBM-",
    "scrolled": false
   },
   "outputs": [
    {
     "data": {
      "image/png": "[encoded data removed]",
      "text/plain": [
       "<Figure size 432x360 with 1 Axes>"
      ]
     },
     "metadata": {
      "image/png": {
       "height": 319,
       "width": 403
      },
      "needs_background": "light"
     },
     "output_type": "display_data"
    }
   ],
   "source": [
    "#고객 등급에 따른 판매액\n",
    "cst1 = cst.groupby(by='Level', as_index=False)[['Amt']].sum()\n",
    "plt.figure(figsize=(6,5))\n",
    "plt.title('고객등급에 따른 판매액')\n",
    "plt.bar(cst1['Level'],cst1['Amt']/1000)\n",
    "plt.ylabel('(천원)')\n",
    "plt.ticklabel_format(axis='y', style='plain')\n",
    "plt.show()\n",
    "\n"
   ]
  },
  {
   "cell_type": "code",
   "execution_count": 68,
   "metadata": {},
   "outputs": [
    {
     "data": {
      "image/png": "[encoded data removed]",
      "text/plain": [
       "<Figure size 432x360 with 1 Axes>"
      ]
     },
     "metadata": {
      "image/png": {
       "height": 319,
       "width": 392
      },
      "needs_background": "light"
     },
     "output_type": "display_data"
    }
   ],
   "source": [
    "#고객 등급에 따른 평균 판매액\n",
    "cst1 = cst.groupby(by='Level', as_index=False)[['Amt']].mean()\n",
    "plt.figure(figsize=(6,5))\n",
    "plt.title('고객등급에 따른 평균 판매액')\n",
    "plt.bar(cst1['Level'],cst1['Amt']/1000)\n",
    "plt.ylabel('(천원)')\n",
    "plt.ticklabel_format(axis='y', style='plain')\n",
    "plt.show()"
   ]
  },
  {
   "cell_type": "markdown",
   "metadata": {
    "id": "yoSBcxGigBM-"
   },
   "source": [
    "## 7.정리\n",
    "\n",
    "- 분석을 통해 확인한 내용을 정리합니다."
   ]
  },
  {
   "cell_type": "markdown",
   "metadata": {
    "id": "dVvspGWngBM-"
   },
   "source": [
    "**1) 의견**\n",
    "\n",
    "\n",
    "\n",
    "\n"
   ]
  },
  {
   "cell_type": "markdown",
   "metadata": {
    "id": "127KsaRJgBM-"
   },
   "source": [
    "- 평균적인 판매량과 판매금액을 비교하였을때 남자에게 보다 더 많이 팔린다.\n",
    "- 경기도,서울,인천에서 가장 많이 판매되었으며 수도권에서 소매물품에 대한 수요가 굉장히 높다.\n",
    "- 경상북도는 한번 주문시에 많은 수량의 물품을 구매하는 경향이 있다.\n",
    "- 경기도 안성, 부천, 용인, 고양, 성남이 판매액 상위 5등으로 구성되어 있는것으로 보아 경기도가 대부분의 매출을 차지한다.\n",
    "- 채소가 가장 많이 판매되었으며 과일이 가장 적게 판매되었으나 과일의 평균 판매액이 가장 높아 단가가 굉장히 높은것을 알 수 있다.\n",
    "- 2017년의 평균 판매금액을 분석하였을때 현황이 이대로 유지된다면 16년도 보다 높은 매출을 올릴것으로 예상된다.\n",
    "- 2016년 4,5,6월에 판매량이 가장 높으나 판매액은 다소 떨어지는것으로 볼때 프로모션이나 이벤트가 진행된것으로 보인다.\n",
    "- 2016년 3월에 매출이 가장높게 나타났으며 판매량도 높아 이 시기에 진행되었던 프로모션을 17년도에 적용하는것이 좋아보인다.\n",
    "- 주문횟수에 따라 고객등급을 선정하였고 Family등급과 VIP등급, VVIP등급이 매출의 상당부분을 차지한다."
   ]
  },
  {
   "cell_type": "markdown",
   "metadata": {
    "id": "FYaHYxzZgBM-"
   },
   "source": [
    "**2) 기타**"
   ]
  }
 ],
 "metadata": {
  "colab": {
   "collapsed_sections": [],
   "name": "X04 - [레벨업] 소매점 판매 현황.ipynb",
   "provenance": []
  },
  "kernelspec": {
   "display_name": "Python 3",
   "language": "python",
   "name": "python3"
  },
  "language_info": {
   "codemirror_mode": {
    "name": "ipython",
    "version": 3
   },
   "file_extension": ".py",
   "mimetype": "text/x-python",
   "name": "python",
   "nbconvert_exporter": "python",
   "pygments_lexer": "ipython3",
   "version": "3.8.8"
  }
 },
 "nbformat": 4,
 "nbformat_minor": 1
}
