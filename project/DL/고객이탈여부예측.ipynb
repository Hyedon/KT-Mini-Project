{
 "cells": [
  {
   "cell_type": "markdown",
   "metadata": {
    "id": "5mCUrZ5seRFB"
   },
   "source": [
    "# 직원 이직 여부 예측\n",
    "![](https://github.com/Jangrae/img/blob/master/employee.png?raw=true)\n",
    "\n",
    "## 데이터 정보\n",
    "- Attrition: 이직여부 (1-Yes 0-No)\t\n",
    "- Age: 나이\t\n",
    "- BusinessTravel: 출장 빈도\n",
    "- Department: 현재 부서\t\n",
    "- DistanceFromHome: 집과 직장 사이의 거리 (마일)\t\n",
    "- Education: 교육수준 (1-Below College 2-College 3-Bachelor 4- Master 5-Doctor)\n",
    "- EducationField: 전공\t\n",
    "- EmployeeNumber: 사번\t\n",
    "- EnvironmentSatisfaction: 근무환경에 대한 만족도 (1-Low 2-Good 3-Excellent 4-Outstanding)\n",
    "- Gender: 성별\t\n",
    "- JobInvolvement: 직무 적극성, 참여도 (1-Low 2-Medium 3-High 4-Very High)\n",
    "- JobRole: 직무\t\n",
    "- JobSatisfaction: 직무 만족도 (1-Low 2-Medium 3-High 4-Very High)\n",
    "- MaritalStatus: 결혼상태\t\n",
    "- MonthlyIncome: 월급\t\n",
    "- NumCompaniesWorked: 현재까지 근무한 회사 수\t\n",
    "- OverTime: 야근 여부\t\n",
    "- PercentSalaryHike: 전년대비 급여 인상율 (%)\t\n",
    "- RelationshipSatisfaction: 동료와의 관계 만족도 (1-Low 2-Medium 3-High 4-Very High)\n",
    "- StockOptionLevel: 스톡옵션 수준 (0 ~ 3)\t\n",
    "- TotalWorkingYears: 총 근무 연수\t\n",
    "- TrainingTimesLastYear: 전년 교육훈련 횟수\t\n",
    "- WorkLifeBalance: 워라밸, 일과 삶의 균형도 (1-Bad 2-Good 3-Better 4-Best)\n",
    "- YearsAtCompany: 현 직장 근무 연수\t\n",
    "- YearsInCurrentRole: 현 직무 연수\t\n",
    "- YearsWithCurrManager: 현 팀장과 근무한 연수"
   ]
  },
  {
   "cell_type": "markdown",
   "metadata": {
    "id": "3Ij5l9O9e_KO"
   },
   "source": [
    "## 데이터셋 불러오기"
   ]
  },
  {
   "cell_type": "code",
   "execution_count": 1,
   "metadata": {
    "id": "eq2ArI8peRBh"
   },
   "outputs": [],
   "source": [
    "import numpy as np\n",
    "import pandas as pd\n",
    "import matplotlib.pyplot as plt\n",
    "import seaborn as sns"
   ]
  },
  {
   "cell_type": "code",
   "execution_count": 2,
   "metadata": {
    "id": "Rg3T7vmTfJFi"
   },
   "outputs": [],
   "source": [
    "path = 'https://raw.githubusercontent.com/Jangrae/csv/master/Attrition_NA.CSV'\n",
    "\n",
    "data = pd.read_csv(path)"
   ]
  },
  {
   "cell_type": "markdown",
   "metadata": {
    "id": "7JgnHZVKeQ-i"
   },
   "source": [
    "## 데이터 전처리\n",
    "\n",
    "* 주석을 상세하게 작성해주세요\n",
    "\n",
    "<details><summary>Hint</summary>\n",
    "\n",
    "- x, y 구분 필요\n",
    "- train, test 구분 필요\n",
    "- 데이터 타입 전처리 필요\n",
    "- 데이터 인코딩 필요\n",
    "- null값 확인 필요"
   ]
  },
  {
   "cell_type": "code",
   "execution_count": 3,
   "metadata": {
    "id": "0cSTupAlIM-I"
   },
   "outputs": [
    {
     "name": "stdout",
     "output_type": "stream",
     "text": [
      "<class 'pandas.core.frame.DataFrame'>\n",
      "RangeIndex: 1250 entries, 0 to 1249\n",
      "Data columns (total 26 columns):\n",
      " #   Column                    Non-Null Count  Dtype  \n",
      "---  ------                    --------------  -----  \n",
      " 0   Attrition                 1250 non-null   object \n",
      " 1   Age                       1250 non-null   int64  \n",
      " 2   BusinessTravel            1250 non-null   object \n",
      " 3   Department                1250 non-null   object \n",
      " 4   DistanceFromHome          1196 non-null   float64\n",
      " 5   Education                 1250 non-null   int64  \n",
      " 6   EducationField            1250 non-null   object \n",
      " 7   EmployeeNumber            1250 non-null   int64  \n",
      " 8   EnvironmentSatisfaction   1250 non-null   int64  \n",
      " 9   Gender                    1250 non-null   object \n",
      " 10  JobInvolvement            1250 non-null   int64  \n",
      " 11  JobRole                   1250 non-null   object \n",
      " 12  JobSatisfaction           1250 non-null   int64  \n",
      " 13  MaritalStatus             1250 non-null   object \n",
      " 14  MonthlyIncome             1250 non-null   int64  \n",
      " 15  NumCompaniesWorked        1229 non-null   float64\n",
      " 16  OverTime                  1250 non-null   object \n",
      " 17  PercentSalaryHike         1250 non-null   int64  \n",
      " 18  RelationshipSatisfaction  1250 non-null   int64  \n",
      " 19  StockOptionLevel          1250 non-null   int64  \n",
      " 20  TotalWorkingYears         1250 non-null   int64  \n",
      " 21  TrainingTimesLastYear     1250 non-null   int64  \n",
      " 22  WorkLifeBalance           1250 non-null   int64  \n",
      " 23  YearsAtCompany            1250 non-null   int64  \n",
      " 24  YearsInCurrentRole        1250 non-null   int64  \n",
      " 25  YearsWithCurrManager      1250 non-null   int64  \n",
      "dtypes: float64(2), int64(16), object(8)\n",
      "memory usage: 254.0+ KB\n"
     ]
    }
   ],
   "source": [
    "data.info()"
   ]
  },
  {
   "cell_type": "code",
   "execution_count": 4,
   "metadata": {
    "id": "DDWeaDyRINBc"
   },
   "outputs": [
    {
     "data": {
      "text/html": [
       "<div>\n",
       "<style scoped>\n",
       "    .dataframe tbody tr th:only-of-type {\n",
       "        vertical-align: middle;\n",
       "    }\n",
       "\n",
       "    .dataframe tbody tr th {\n",
       "        vertical-align: top;\n",
       "    }\n",
       "\n",
       "    .dataframe thead th {\n",
       "        text-align: right;\n",
       "    }\n",
       "</style>\n",
       "<table border=\"1\" class=\"dataframe\">\n",
       "  <thead>\n",
       "    <tr style=\"text-align: right;\">\n",
       "      <th></th>\n",
       "      <th>Attrition</th>\n",
       "      <th>Age</th>\n",
       "      <th>BusinessTravel</th>\n",
       "      <th>Department</th>\n",
       "      <th>DistanceFromHome</th>\n",
       "      <th>Education</th>\n",
       "      <th>EducationField</th>\n",
       "      <th>EmployeeNumber</th>\n",
       "      <th>EnvironmentSatisfaction</th>\n",
       "      <th>Gender</th>\n",
       "      <th>...</th>\n",
       "      <th>OverTime</th>\n",
       "      <th>PercentSalaryHike</th>\n",
       "      <th>RelationshipSatisfaction</th>\n",
       "      <th>StockOptionLevel</th>\n",
       "      <th>TotalWorkingYears</th>\n",
       "      <th>TrainingTimesLastYear</th>\n",
       "      <th>WorkLifeBalance</th>\n",
       "      <th>YearsAtCompany</th>\n",
       "      <th>YearsInCurrentRole</th>\n",
       "      <th>YearsWithCurrManager</th>\n",
       "    </tr>\n",
       "  </thead>\n",
       "  <tbody>\n",
       "    <tr>\n",
       "      <th>0</th>\n",
       "      <td>No</td>\n",
       "      <td>33</td>\n",
       "      <td>Travel_Rarely</td>\n",
       "      <td>Research &amp; Development</td>\n",
       "      <td>7.0</td>\n",
       "      <td>3</td>\n",
       "      <td>Medical</td>\n",
       "      <td>817</td>\n",
       "      <td>3</td>\n",
       "      <td>Male</td>\n",
       "      <td>...</td>\n",
       "      <td>No</td>\n",
       "      <td>11</td>\n",
       "      <td>4</td>\n",
       "      <td>0</td>\n",
       "      <td>14</td>\n",
       "      <td>3</td>\n",
       "      <td>4</td>\n",
       "      <td>13</td>\n",
       "      <td>9</td>\n",
       "      <td>7</td>\n",
       "    </tr>\n",
       "    <tr>\n",
       "      <th>1</th>\n",
       "      <td>No</td>\n",
       "      <td>35</td>\n",
       "      <td>Travel_Frequently</td>\n",
       "      <td>Research &amp; Development</td>\n",
       "      <td>18.0</td>\n",
       "      <td>2</td>\n",
       "      <td>Life Sciences</td>\n",
       "      <td>1412</td>\n",
       "      <td>3</td>\n",
       "      <td>Male</td>\n",
       "      <td>...</td>\n",
       "      <td>No</td>\n",
       "      <td>11</td>\n",
       "      <td>3</td>\n",
       "      <td>0</td>\n",
       "      <td>10</td>\n",
       "      <td>2</td>\n",
       "      <td>3</td>\n",
       "      <td>2</td>\n",
       "      <td>2</td>\n",
       "      <td>2</td>\n",
       "    </tr>\n",
       "    <tr>\n",
       "      <th>2</th>\n",
       "      <td>No</td>\n",
       "      <td>42</td>\n",
       "      <td>Travel_Rarely</td>\n",
       "      <td>Research &amp; Development</td>\n",
       "      <td>6.0</td>\n",
       "      <td>3</td>\n",
       "      <td>Medical</td>\n",
       "      <td>1911</td>\n",
       "      <td>3</td>\n",
       "      <td>Male</td>\n",
       "      <td>...</td>\n",
       "      <td>No</td>\n",
       "      <td>13</td>\n",
       "      <td>2</td>\n",
       "      <td>1</td>\n",
       "      <td>18</td>\n",
       "      <td>3</td>\n",
       "      <td>4</td>\n",
       "      <td>13</td>\n",
       "      <td>7</td>\n",
       "      <td>7</td>\n",
       "    </tr>\n",
       "    <tr>\n",
       "      <th>3</th>\n",
       "      <td>No</td>\n",
       "      <td>46</td>\n",
       "      <td>Travel_Rarely</td>\n",
       "      <td>Sales</td>\n",
       "      <td>2.0</td>\n",
       "      <td>3</td>\n",
       "      <td>Marketing</td>\n",
       "      <td>1204</td>\n",
       "      <td>3</td>\n",
       "      <td>Female</td>\n",
       "      <td>...</td>\n",
       "      <td>No</td>\n",
       "      <td>23</td>\n",
       "      <td>1</td>\n",
       "      <td>0</td>\n",
       "      <td>28</td>\n",
       "      <td>2</td>\n",
       "      <td>3</td>\n",
       "      <td>26</td>\n",
       "      <td>15</td>\n",
       "      <td>9</td>\n",
       "    </tr>\n",
       "    <tr>\n",
       "      <th>4</th>\n",
       "      <td>No</td>\n",
       "      <td>39</td>\n",
       "      <td>Travel_Frequently</td>\n",
       "      <td>Sales</td>\n",
       "      <td>NaN</td>\n",
       "      <td>3</td>\n",
       "      <td>Life Sciences</td>\n",
       "      <td>1812</td>\n",
       "      <td>3</td>\n",
       "      <td>Male</td>\n",
       "      <td>...</td>\n",
       "      <td>No</td>\n",
       "      <td>18</td>\n",
       "      <td>4</td>\n",
       "      <td>1</td>\n",
       "      <td>7</td>\n",
       "      <td>6</td>\n",
       "      <td>3</td>\n",
       "      <td>2</td>\n",
       "      <td>1</td>\n",
       "      <td>2</td>\n",
       "    </tr>\n",
       "  </tbody>\n",
       "</table>\n",
       "<p>5 rows × 26 columns</p>\n",
       "</div>"
      ],
      "text/plain": [
       "  Attrition  Age     BusinessTravel              Department  DistanceFromHome  \\\n",
       "0        No   33      Travel_Rarely  Research & Development               7.0   \n",
       "1        No   35  Travel_Frequently  Research & Development              18.0   \n",
       "2        No   42      Travel_Rarely  Research & Development               6.0   \n",
       "3        No   46      Travel_Rarely                   Sales               2.0   \n",
       "4        No   39  Travel_Frequently                   Sales               NaN   \n",
       "\n",
       "   Education EducationField  EmployeeNumber  EnvironmentSatisfaction  Gender  \\\n",
       "0          3        Medical             817                        3    Male   \n",
       "1          2  Life Sciences            1412                        3    Male   \n",
       "2          3        Medical            1911                        3    Male   \n",
       "3          3      Marketing            1204                        3  Female   \n",
       "4          3  Life Sciences            1812                        3    Male   \n",
       "\n",
       "   ...  OverTime PercentSalaryHike  RelationshipSatisfaction StockOptionLevel  \\\n",
       "0  ...        No                11                         4                0   \n",
       "1  ...        No                11                         3                0   \n",
       "2  ...        No                13                         2                1   \n",
       "3  ...        No                23                         1                0   \n",
       "4  ...        No                18                         4                1   \n",
       "\n",
       "   TotalWorkingYears  TrainingTimesLastYear WorkLifeBalance  YearsAtCompany  \\\n",
       "0                 14                      3               4              13   \n",
       "1                 10                      2               3               2   \n",
       "2                 18                      3               4              13   \n",
       "3                 28                      2               3              26   \n",
       "4                  7                      6               3               2   \n",
       "\n",
       "   YearsInCurrentRole  YearsWithCurrManager  \n",
       "0                   9                     7  \n",
       "1                   2                     2  \n",
       "2                   7                     7  \n",
       "3                  15                     9  \n",
       "4                   1                     2  \n",
       "\n",
       "[5 rows x 26 columns]"
      ]
     },
     "execution_count": 4,
     "metadata": {},
     "output_type": "execute_result"
    }
   ],
   "source": [
    "data.head()"
   ]
  },
  {
   "cell_type": "code",
   "execution_count": 5,
   "metadata": {
    "id": "dduwsFXAINEP"
   },
   "outputs": [
    {
     "data": {
      "text/plain": [
       "No     1050\n",
       "Yes     200\n",
       "Name: Attrition, dtype: int64"
      ]
     },
     "execution_count": 5,
     "metadata": {},
     "output_type": "execute_result"
    }
   ],
   "source": [
    "data['Attrition'].value_counts()"
   ]
  },
  {
   "cell_type": "code",
   "execution_count": 6,
   "metadata": {
    "id": "ywIdIjqsINHX"
   },
   "outputs": [],
   "source": [
    "# 직원이직여부(타켓변수) 데이터 변환\n",
    "data['Attrition'] = data['Attrition'].map({\"No\":0, \"Yes\":1})"
   ]
  },
  {
   "cell_type": "code",
   "execution_count": 7,
   "metadata": {
    "scrolled": false
   },
   "outputs": [
    {
     "data": {
      "text/plain": [
       "0    1050\n",
       "1     200\n",
       "Name: Attrition, dtype: int64"
      ]
     },
     "execution_count": 7,
     "metadata": {},
     "output_type": "execute_result"
    }
   ],
   "source": [
    "data['Attrition'].value_counts()"
   ]
  },
  {
   "cell_type": "code",
   "execution_count": 8,
   "metadata": {},
   "outputs": [
    {
     "data": {
      "text/plain": [
       "Male      760\n",
       "Female    490\n",
       "Name: Gender, dtype: int64"
      ]
     },
     "execution_count": 8,
     "metadata": {},
     "output_type": "execute_result"
    }
   ],
   "source": [
    "# 성별데이터 확인\n",
    "# 대부분의 직원이 남자로 이루어져 있으므로 남자 1 여자 0으로 변경\n",
    "data['Gender'].value_counts()"
   ]
  },
  {
   "cell_type": "code",
   "execution_count": 9,
   "metadata": {},
   "outputs": [],
   "source": [
    "data['Gender'] = data['Gender'].map({\"Female\":0, \"Male\":1})"
   ]
  },
  {
   "cell_type": "code",
   "execution_count": 10,
   "metadata": {
    "scrolled": true
   },
   "outputs": [
    {
     "data": {
      "text/plain": [
       "Travel_Rarely        892\n",
       "Travel_Frequently    230\n",
       "Non-Travel           128\n",
       "Name: BusinessTravel, dtype: int64"
      ]
     },
     "execution_count": 10,
     "metadata": {},
     "output_type": "execute_result"
    }
   ],
   "source": [
    "# 출장빈도수가 없음, 적게, 빈번하게로 나타나기 때문에 이직여부에 영향이 적은 데이터를 0으로 설정\n",
    "# 없음 :0, 적게:1 빈번하게:2로 변환\n",
    "data['BusinessTravel'].value_counts()"
   ]
  },
  {
   "cell_type": "code",
   "execution_count": 11,
   "metadata": {},
   "outputs": [],
   "source": [
    "# 출장빈도 데이터 변환\n",
    "data['BusinessTravel'] = data['BusinessTravel'].map({\"Non-Travel\":0, \"Travel_Rarely\":1, 'Travel_Frequently':2})"
   ]
  },
  {
   "cell_type": "code",
   "execution_count": 12,
   "metadata": {},
   "outputs": [
    {
     "data": {
      "text/plain": [
       "1    892\n",
       "2    230\n",
       "0    128\n",
       "Name: BusinessTravel, dtype: int64"
      ]
     },
     "execution_count": 12,
     "metadata": {},
     "output_type": "execute_result"
    }
   ],
   "source": [
    "data['BusinessTravel'].value_counts()"
   ]
  },
  {
   "cell_type": "code",
   "execution_count": 13,
   "metadata": {},
   "outputs": [
    {
     "data": {
      "text/plain": [
       "No     896\n",
       "Yes    354\n",
       "Name: OverTime, dtype: int64"
      ]
     },
     "execution_count": 13,
     "metadata": {},
     "output_type": "execute_result"
    }
   ],
   "source": [
    "# 야근여부 또한 있다 아니다로 분류하고 이직에 영향이 적은 변수를 0로 설정.\n",
    "# 없음:0 있음:1\n",
    "data['OverTime'].value_counts()"
   ]
  },
  {
   "cell_type": "code",
   "execution_count": 14,
   "metadata": {},
   "outputs": [],
   "source": [
    "# 데이터 변환\n",
    "data['OverTime'] = data['OverTime'].map({\"No\":0, \"Yes\":1})"
   ]
  },
  {
   "cell_type": "code",
   "execution_count": 15,
   "metadata": {
    "scrolled": false
   },
   "outputs": [
    {
     "data": {
      "text/plain": [
       "0    896\n",
       "1    354\n",
       "Name: OverTime, dtype: int64"
      ]
     },
     "execution_count": 15,
     "metadata": {},
     "output_type": "execute_result"
    }
   ],
   "source": [
    "data['OverTime'].value_counts()"
   ]
  },
  {
   "cell_type": "code",
   "execution_count": 16,
   "metadata": {},
   "outputs": [
    {
     "data": {
      "text/plain": [
       "Sales Executive              283\n",
       "Research Scientist           246\n",
       "Laboratory Technician        227\n",
       "Manufacturing Director       123\n",
       "Healthcare Representative    110\n",
       "Manager                       87\n",
       "Research Director             66\n",
       "Sales Representative          65\n",
       "Human Resources               43\n",
       "Name: JobRole, dtype: int64"
      ]
     },
     "execution_count": 16,
     "metadata": {},
     "output_type": "execute_result"
    }
   ],
   "source": [
    "# 이직여부와의 관련성이 있는지 모른다.\n",
    "# 빈도수가 적은 것을 기준으로 0~8로 치환\n",
    "data['JobRole'].value_counts()"
   ]
  },
  {
   "cell_type": "code",
   "execution_count": 17,
   "metadata": {},
   "outputs": [],
   "source": [
    "data['JobRole'] = data['JobRole'].map({\"Human Resources\":0, \"Sales Representative\":1, 'Research Director':2,\n",
    "                                      'Manager':3, \"Healthcare Representative\":4, \"Manufacturing Director\":5,\n",
    "                                      'Laboratory Technician':6, 'Research Scientist':7, 'Sales Executive':8})"
   ]
  },
  {
   "cell_type": "code",
   "execution_count": 18,
   "metadata": {},
   "outputs": [
    {
     "data": {
      "text/plain": [
       "8    283\n",
       "7    246\n",
       "6    227\n",
       "5    123\n",
       "4    110\n",
       "3     87\n",
       "2     66\n",
       "1     65\n",
       "0     43\n",
       "Name: JobRole, dtype: int64"
      ]
     },
     "execution_count": 18,
     "metadata": {},
     "output_type": "execute_result"
    }
   ],
   "source": [
    "data['JobRole'].value_counts()"
   ]
  },
  {
   "cell_type": "code",
   "execution_count": 19,
   "metadata": {},
   "outputs": [
    {
     "data": {
      "text/plain": [
       "Research & Development    819\n",
       "Sales                     379\n",
       "Human Resources            52\n",
       "Name: Department, dtype: int64"
      ]
     },
     "execution_count": 19,
     "metadata": {},
     "output_type": "execute_result"
    }
   ],
   "source": [
    "# 이직여부와의 관련성이 있는지 모른다.\n",
    "# 부서별 빈도수를 기준으로 적은것을 0으로 설정\n",
    "data['Department'].value_counts()"
   ]
  },
  {
   "cell_type": "code",
   "execution_count": 20,
   "metadata": {},
   "outputs": [],
   "source": [
    "# Human Resources:0 , Sales:1, Research&Development:2\n",
    "data['Department'] = data['Department'].map({\"Human Resources\":0, \"Sales\":1, 'Research & Development':2})"
   ]
  },
  {
   "cell_type": "code",
   "execution_count": 21,
   "metadata": {
    "scrolled": true
   },
   "outputs": [
    {
     "data": {
      "text/plain": [
       "2    819\n",
       "1    379\n",
       "0     52\n",
       "Name: Department, dtype: int64"
      ]
     },
     "execution_count": 21,
     "metadata": {},
     "output_type": "execute_result"
    }
   ],
   "source": [
    "data['Department'].value_counts()"
   ]
  },
  {
   "cell_type": "code",
   "execution_count": 22,
   "metadata": {},
   "outputs": [
    {
     "data": {
      "text/plain": [
       "Married     570\n",
       "Single      404\n",
       "Divorced    276\n",
       "Name: MaritalStatus, dtype: int64"
      ]
     },
     "execution_count": 22,
     "metadata": {},
     "output_type": "execute_result"
    }
   ],
   "source": [
    "# 이직여부와의 관련성이 있는지 모른다.\n",
    "# 이혼여부 빈도수를 기준으로 적은것을 0으로 설정\n",
    "data['MaritalStatus'].value_counts()"
   ]
  },
  {
   "cell_type": "code",
   "execution_count": 23,
   "metadata": {},
   "outputs": [],
   "source": [
    "data['MaritalStatus'] = data['MaritalStatus'].map({\"Divorced\":0, \"Single\":1, 'Married':2})"
   ]
  },
  {
   "cell_type": "code",
   "execution_count": 24,
   "metadata": {
    "id": "YHtmiLfqINfQ",
    "scrolled": false
   },
   "outputs": [
    {
     "data": {
      "text/plain": [
       "Attrition                    0\n",
       "Age                          0\n",
       "BusinessTravel               0\n",
       "Department                   0\n",
       "DistanceFromHome            54\n",
       "Education                    0\n",
       "EducationField               0\n",
       "EmployeeNumber               0\n",
       "EnvironmentSatisfaction      0\n",
       "Gender                       0\n",
       "JobInvolvement               0\n",
       "JobRole                      0\n",
       "JobSatisfaction              0\n",
       "MaritalStatus                0\n",
       "MonthlyIncome                0\n",
       "NumCompaniesWorked          21\n",
       "OverTime                     0\n",
       "PercentSalaryHike            0\n",
       "RelationshipSatisfaction     0\n",
       "StockOptionLevel             0\n",
       "TotalWorkingYears            0\n",
       "TrainingTimesLastYear        0\n",
       "WorkLifeBalance              0\n",
       "YearsAtCompany               0\n",
       "YearsInCurrentRole           0\n",
       "YearsWithCurrManager         0\n",
       "dtype: int64"
      ]
     },
     "execution_count": 24,
     "metadata": {},
     "output_type": "execute_result"
    }
   ],
   "source": [
    "# 결측치 확인\n",
    "data.isna().sum()"
   ]
  },
  {
   "cell_type": "code",
   "execution_count": 25,
   "metadata": {},
   "outputs": [
    {
     "name": "stdout",
     "output_type": "stream",
     "text": [
      "최빈값 : 0    2.0\n",
      "dtype: float64\n"
     ]
    }
   ],
   "source": [
    "print('최빈값 :',data['DistanceFromHome'].mode())"
   ]
  },
  {
   "cell_type": "code",
   "execution_count": 26,
   "metadata": {
    "scrolled": false
   },
   "outputs": [
    {
     "data": {
      "text/plain": [
       "count    1196.000000\n",
       "mean        9.258361\n",
       "std         8.166016\n",
       "min         1.000000\n",
       "25%         2.000000\n",
       "50%         7.000000\n",
       "75%        14.000000\n",
       "max        29.000000\n",
       "Name: DistanceFromHome, dtype: float64"
      ]
     },
     "execution_count": 26,
     "metadata": {},
     "output_type": "execute_result"
    }
   ],
   "source": [
    "# 집과의 거리 데이터의 최소값 1 최빈값 2\n",
    "# 답변이 없는 결측치는 회사 숙소 이용 가능성이 있다.\n",
    "# 결측치를 숙소이용 데이터로 가정하고 0으로 변환\n",
    "data['DistanceFromHome'].describe()"
   ]
  },
  {
   "cell_type": "code",
   "execution_count": 27,
   "metadata": {},
   "outputs": [
    {
     "data": {
      "text/plain": [
       "count    1229.000000\n",
       "mean        2.678600\n",
       "std         2.473647\n",
       "min         0.000000\n",
       "25%         1.000000\n",
       "50%         2.000000\n",
       "75%         4.000000\n",
       "max         9.000000\n",
       "Name: NumCompaniesWorked, dtype: float64"
      ]
     },
     "execution_count": 27,
     "metadata": {},
     "output_type": "execute_result"
    }
   ],
   "source": [
    "# 데이터의 75%가 4년 미만에 분포\n",
    "# 평균이 데이터를 대표하지 못함\n",
    "# 최빈값으로 치환\n",
    "data['NumCompaniesWorked'].describe()"
   ]
  },
  {
   "cell_type": "code",
   "execution_count": 28,
   "metadata": {},
   "outputs": [
    {
     "data": {
      "text/plain": [
       "Attrition                   0\n",
       "Age                         0\n",
       "BusinessTravel              0\n",
       "Department                  0\n",
       "DistanceFromHome            0\n",
       "Education                   0\n",
       "EducationField              0\n",
       "EmployeeNumber              0\n",
       "EnvironmentSatisfaction     0\n",
       "Gender                      0\n",
       "JobInvolvement              0\n",
       "JobRole                     0\n",
       "JobSatisfaction             0\n",
       "MaritalStatus               0\n",
       "MonthlyIncome               0\n",
       "NumCompaniesWorked          0\n",
       "OverTime                    0\n",
       "PercentSalaryHike           0\n",
       "RelationshipSatisfaction    0\n",
       "StockOptionLevel            0\n",
       "TotalWorkingYears           0\n",
       "TrainingTimesLastYear       0\n",
       "WorkLifeBalance             0\n",
       "YearsAtCompany              0\n",
       "YearsInCurrentRole          0\n",
       "YearsWithCurrManager        0\n",
       "dtype: int64"
      ]
     },
     "execution_count": 28,
     "metadata": {},
     "output_type": "execute_result"
    }
   ],
   "source": [
    "# 결측치 채우기\n",
    "data['DistanceFromHome'].fillna(0, inplace=True)\n",
    "data['NumCompaniesWorked'].fillna(data['NumCompaniesWorked'].value_counts().idxmax(), inplace=True)\n",
    "data.isna().sum()"
   ]
  },
  {
   "cell_type": "code",
   "execution_count": 29,
   "metadata": {
    "scrolled": true
   },
   "outputs": [
    {
     "data": {
      "text/html": [
       "<div>\n",
       "<style scoped>\n",
       "    .dataframe tbody tr th:only-of-type {\n",
       "        vertical-align: middle;\n",
       "    }\n",
       "\n",
       "    .dataframe tbody tr th {\n",
       "        vertical-align: top;\n",
       "    }\n",
       "\n",
       "    .dataframe thead th {\n",
       "        text-align: right;\n",
       "    }\n",
       "</style>\n",
       "<table border=\"1\" class=\"dataframe\">\n",
       "  <thead>\n",
       "    <tr style=\"text-align: right;\">\n",
       "      <th></th>\n",
       "      <th>Attrition</th>\n",
       "      <th>Age</th>\n",
       "      <th>BusinessTravel</th>\n",
       "      <th>Department</th>\n",
       "      <th>DistanceFromHome</th>\n",
       "      <th>Education</th>\n",
       "      <th>EnvironmentSatisfaction</th>\n",
       "      <th>Gender</th>\n",
       "      <th>JobInvolvement</th>\n",
       "      <th>JobRole</th>\n",
       "      <th>...</th>\n",
       "      <th>OverTime</th>\n",
       "      <th>PercentSalaryHike</th>\n",
       "      <th>RelationshipSatisfaction</th>\n",
       "      <th>StockOptionLevel</th>\n",
       "      <th>TotalWorkingYears</th>\n",
       "      <th>TrainingTimesLastYear</th>\n",
       "      <th>WorkLifeBalance</th>\n",
       "      <th>YearsAtCompany</th>\n",
       "      <th>YearsInCurrentRole</th>\n",
       "      <th>YearsWithCurrManager</th>\n",
       "    </tr>\n",
       "  </thead>\n",
       "  <tbody>\n",
       "    <tr>\n",
       "      <th>0</th>\n",
       "      <td>0</td>\n",
       "      <td>33</td>\n",
       "      <td>1</td>\n",
       "      <td>2</td>\n",
       "      <td>7.0</td>\n",
       "      <td>3</td>\n",
       "      <td>3</td>\n",
       "      <td>1</td>\n",
       "      <td>3</td>\n",
       "      <td>2</td>\n",
       "      <td>...</td>\n",
       "      <td>0</td>\n",
       "      <td>11</td>\n",
       "      <td>4</td>\n",
       "      <td>0</td>\n",
       "      <td>14</td>\n",
       "      <td>3</td>\n",
       "      <td>4</td>\n",
       "      <td>13</td>\n",
       "      <td>9</td>\n",
       "      <td>7</td>\n",
       "    </tr>\n",
       "    <tr>\n",
       "      <th>1</th>\n",
       "      <td>0</td>\n",
       "      <td>35</td>\n",
       "      <td>2</td>\n",
       "      <td>2</td>\n",
       "      <td>18.0</td>\n",
       "      <td>2</td>\n",
       "      <td>3</td>\n",
       "      <td>1</td>\n",
       "      <td>3</td>\n",
       "      <td>5</td>\n",
       "      <td>...</td>\n",
       "      <td>0</td>\n",
       "      <td>11</td>\n",
       "      <td>3</td>\n",
       "      <td>0</td>\n",
       "      <td>10</td>\n",
       "      <td>2</td>\n",
       "      <td>3</td>\n",
       "      <td>2</td>\n",
       "      <td>2</td>\n",
       "      <td>2</td>\n",
       "    </tr>\n",
       "    <tr>\n",
       "      <th>2</th>\n",
       "      <td>0</td>\n",
       "      <td>42</td>\n",
       "      <td>1</td>\n",
       "      <td>2</td>\n",
       "      <td>6.0</td>\n",
       "      <td>3</td>\n",
       "      <td>3</td>\n",
       "      <td>1</td>\n",
       "      <td>3</td>\n",
       "      <td>2</td>\n",
       "      <td>...</td>\n",
       "      <td>0</td>\n",
       "      <td>13</td>\n",
       "      <td>2</td>\n",
       "      <td>1</td>\n",
       "      <td>18</td>\n",
       "      <td>3</td>\n",
       "      <td>4</td>\n",
       "      <td>13</td>\n",
       "      <td>7</td>\n",
       "      <td>7</td>\n",
       "    </tr>\n",
       "    <tr>\n",
       "      <th>3</th>\n",
       "      <td>0</td>\n",
       "      <td>46</td>\n",
       "      <td>1</td>\n",
       "      <td>1</td>\n",
       "      <td>2.0</td>\n",
       "      <td>3</td>\n",
       "      <td>3</td>\n",
       "      <td>0</td>\n",
       "      <td>3</td>\n",
       "      <td>3</td>\n",
       "      <td>...</td>\n",
       "      <td>0</td>\n",
       "      <td>23</td>\n",
       "      <td>1</td>\n",
       "      <td>0</td>\n",
       "      <td>28</td>\n",
       "      <td>2</td>\n",
       "      <td>3</td>\n",
       "      <td>26</td>\n",
       "      <td>15</td>\n",
       "      <td>9</td>\n",
       "    </tr>\n",
       "    <tr>\n",
       "      <th>4</th>\n",
       "      <td>0</td>\n",
       "      <td>39</td>\n",
       "      <td>2</td>\n",
       "      <td>1</td>\n",
       "      <td>0.0</td>\n",
       "      <td>3</td>\n",
       "      <td>3</td>\n",
       "      <td>1</td>\n",
       "      <td>3</td>\n",
       "      <td>8</td>\n",
       "      <td>...</td>\n",
       "      <td>0</td>\n",
       "      <td>18</td>\n",
       "      <td>4</td>\n",
       "      <td>1</td>\n",
       "      <td>7</td>\n",
       "      <td>6</td>\n",
       "      <td>3</td>\n",
       "      <td>2</td>\n",
       "      <td>1</td>\n",
       "      <td>2</td>\n",
       "    </tr>\n",
       "  </tbody>\n",
       "</table>\n",
       "<p>5 rows × 24 columns</p>\n",
       "</div>"
      ],
      "text/plain": [
       "   Attrition  Age  BusinessTravel  Department  DistanceFromHome  Education  \\\n",
       "0          0   33               1           2               7.0          3   \n",
       "1          0   35               2           2              18.0          2   \n",
       "2          0   42               1           2               6.0          3   \n",
       "3          0   46               1           1               2.0          3   \n",
       "4          0   39               2           1               0.0          3   \n",
       "\n",
       "   EnvironmentSatisfaction  Gender  JobInvolvement  JobRole  ...  OverTime  \\\n",
       "0                        3       1               3        2  ...         0   \n",
       "1                        3       1               3        5  ...         0   \n",
       "2                        3       1               3        2  ...         0   \n",
       "3                        3       0               3        3  ...         0   \n",
       "4                        3       1               3        8  ...         0   \n",
       "\n",
       "   PercentSalaryHike  RelationshipSatisfaction  StockOptionLevel  \\\n",
       "0                 11                         4                 0   \n",
       "1                 11                         3                 0   \n",
       "2                 13                         2                 1   \n",
       "3                 23                         1                 0   \n",
       "4                 18                         4                 1   \n",
       "\n",
       "   TotalWorkingYears  TrainingTimesLastYear  WorkLifeBalance  YearsAtCompany  \\\n",
       "0                 14                      3                4              13   \n",
       "1                 10                      2                3               2   \n",
       "2                 18                      3                4              13   \n",
       "3                 28                      2                3              26   \n",
       "4                  7                      6                3               2   \n",
       "\n",
       "   YearsInCurrentRole  YearsWithCurrManager  \n",
       "0                   9                     7  \n",
       "1                   2                     2  \n",
       "2                   7                     7  \n",
       "3                  15                     9  \n",
       "4                   1                     2  \n",
       "\n",
       "[5 rows x 24 columns]"
      ]
     },
     "execution_count": 29,
     "metadata": {},
     "output_type": "execute_result"
    }
   ],
   "source": [
    "# 대학시절 전공은 현재 일하고 있는 직무로 대체할 수 있고, 사번은 이직여부와 관련이 적다고 생각하여 제거\n",
    "data.drop(['EmployeeNumber', 'EducationField'], axis=1, inplace=True)\n",
    "data.head()"
   ]
  },
  {
   "cell_type": "code",
   "execution_count": 30,
   "metadata": {},
   "outputs": [],
   "source": [
    "# target 확인\n",
    "target = 'Attrition'\n",
    "\n",
    "# 데이터 분리\n",
    "x = data.drop(target, axis=1)\n",
    "y = data[target]"
   ]
  },
  {
   "cell_type": "code",
   "execution_count": 31,
   "metadata": {},
   "outputs": [
    {
     "name": "stdout",
     "output_type": "stream",
     "text": [
      "<class 'pandas.core.frame.DataFrame'>\n",
      "RangeIndex: 1250 entries, 0 to 1249\n",
      "Data columns (total 23 columns):\n",
      " #   Column                    Non-Null Count  Dtype  \n",
      "---  ------                    --------------  -----  \n",
      " 0   Age                       1250 non-null   int64  \n",
      " 1   BusinessTravel            1250 non-null   int64  \n",
      " 2   Department                1250 non-null   int64  \n",
      " 3   DistanceFromHome          1250 non-null   float64\n",
      " 4   Education                 1250 non-null   int64  \n",
      " 5   EnvironmentSatisfaction   1250 non-null   int64  \n",
      " 6   Gender                    1250 non-null   int64  \n",
      " 7   JobInvolvement            1250 non-null   int64  \n",
      " 8   JobRole                   1250 non-null   int64  \n",
      " 9   JobSatisfaction           1250 non-null   int64  \n",
      " 10  MaritalStatus             1250 non-null   int64  \n",
      " 11  MonthlyIncome             1250 non-null   int64  \n",
      " 12  NumCompaniesWorked        1250 non-null   float64\n",
      " 13  OverTime                  1250 non-null   int64  \n",
      " 14  PercentSalaryHike         1250 non-null   int64  \n",
      " 15  RelationshipSatisfaction  1250 non-null   int64  \n",
      " 16  StockOptionLevel          1250 non-null   int64  \n",
      " 17  TotalWorkingYears         1250 non-null   int64  \n",
      " 18  TrainingTimesLastYear     1250 non-null   int64  \n",
      " 19  WorkLifeBalance           1250 non-null   int64  \n",
      " 20  YearsAtCompany            1250 non-null   int64  \n",
      " 21  YearsInCurrentRole        1250 non-null   int64  \n",
      " 22  YearsWithCurrManager      1250 non-null   int64  \n",
      "dtypes: float64(2), int64(21)\n",
      "memory usage: 224.7 KB\n"
     ]
    }
   ],
   "source": [
    "x.info()"
   ]
  },
  {
   "cell_type": "code",
   "execution_count": 32,
   "metadata": {},
   "outputs": [],
   "source": [
    "# train, test 분리\n",
    "from sklearn.model_selection import train_test_split\n",
    "x_train, x_test, y_train, y_test = train_test_split(x, y, test_size=0.2, random_state=2022)"
   ]
  },
  {
   "cell_type": "markdown",
   "metadata": {
    "id": "N4iFUU_hv3G5"
   },
   "source": [
    "## 모델링\n",
    "\n",
    "1. 전처리에서 제외한 feature를 제외한, 다른 feature는 반드시 모두 사용하셔야 합니다.\n",
    "2. locally connected layer를 최소 4개 이상 만드세요.\n",
    "3. 모델 구조 시각화까지 해주면 좋습니다.\n",
    "4. 학습 횟수는 최대 25번까지만.\n",
    "---\n",
    "### **locally하게 연결한 구성 의도를 반드시 상세하게 남겨주세요 (상황 가정을 해서라도!)** \n",
    "### **주석 역시 상세하게 남겨주세요**"
   ]
  },
  {
   "cell_type": "markdown",
   "metadata": {
    "id": "TMl51PRuv6sw"
   },
   "source": [
    "### Locally connected layer를 구성하기 위한 feature 설정"
   ]
  },
  {
   "cell_type": "code",
   "execution_count": 33,
   "metadata": {
    "id": "DIlkOj3RIUDr"
   },
   "outputs": [],
   "source": [
    "# 직무, 개인정보, 보상, 경력, 만족도로 구분\n",
    "\n",
    "# 직무(JobRole, Department, Education, JobInvolvement, BusinessTravel, OverTime, TrainingTimesLastYear)\n",
    "# 지금 수행하고 있는 직무와 업무 환경으로 구성\n",
    "role_tr = x_train[['JobRole', 'Department', 'Education', 'JobInvolvement', 'BusinessTravel', 'OverTime', 'TrainingTimesLastYear']]\n",
    "role_te = x_test[['JobRole', 'Department', 'Education', 'JobInvolvement', 'BusinessTravel', 'OverTime', 'TrainingTimesLastYear']]\n",
    "\n",
    "# 개인정보(Age, DistanceFromHome, Gender, MaritalStatus)\n",
    "# 현재 개인의 상황으로 구성\n",
    "per_tr = x_train[['Age', 'DistanceFromHome', 'Gender', 'MaritalStatus']]\n",
    "per_te = x_test[['Age', 'DistanceFromHome', 'Gender', 'MaritalStatus']]\n",
    "# 보상(MonthlyIncome, PercentSalaryHike, StockOptionLevel)\n",
    "# 현재 회사에서 받고있는 대우 및 보상으로 구성\n",
    "reward_tr = x_train[['MonthlyIncome', 'PercentSalaryHike', 'StockOptionLevel']]\n",
    "reward_te = x_test[['MonthlyIncome', 'PercentSalaryHike', 'StockOptionLevel']]\n",
    "\n",
    "# 경력(YearsAtCompany, YearsInCurrentRole, YearsWithCurrManager, TotalWorkingYears, NumCompaniesWorked)\n",
    "# 근무한 경력과 기간으로 구성\n",
    "car_tr = x_train[['YearsAtCompany', 'YearsInCurrentRole', 'YearsWithCurrManager', 'TotalWorkingYears', 'NumCompaniesWorked']]\n",
    "car_te = x_test[['YearsAtCompany', 'YearsInCurrentRole', 'YearsWithCurrManager', 'TotalWorkingYears', 'NumCompaniesWorked']]\n",
    "\n",
    "# 만족도(EnvironmentSatisfaction, JobSatisfaction, RelationshipSatisfaction, WorkLifeBalance)\n",
    "# 현재 상황에 대한 만족도로 구성\n",
    "sat_tr = x_train[['EnvironmentSatisfaction', 'JobSatisfaction', 'RelationshipSatisfaction', 'WorkLifeBalance']]\n",
    "sat_test = x_test[['EnvironmentSatisfaction', 'JobSatisfaction', 'RelationshipSatisfaction', 'WorkLifeBalance']]"
   ]
  },
  {
   "cell_type": "code",
   "execution_count": 34,
   "metadata": {
    "id": "XLmykWRhIUWP",
    "scrolled": false
   },
   "outputs": [
    {
     "data": {
      "text/plain": [
       "((1000, 7), (1000, 4), (1000, 3), (1000, 5), (1000, 4))"
      ]
     },
     "execution_count": 34,
     "metadata": {},
     "output_type": "execute_result"
    }
   ],
   "source": [
    "role_tr.shape, per_tr.shape, reward_tr.shape, car_tr.shape, sat_tr.shape"
   ]
  },
  {
   "cell_type": "markdown",
   "metadata": {
    "id": "II2DSumywT4b"
   },
   "source": [
    "### 모델 코드 작성"
   ]
  },
  {
   "cell_type": "code",
   "execution_count": 35,
   "metadata": {
    "id": "_sQ3EMVuIZyk"
   },
   "outputs": [],
   "source": [
    "import tensorflow as tf\n",
    "from tensorflow import keras\n",
    "from tensorflow.keras.layers import Input, Dense, Add, Concatenate\n",
    "from tensorflow.keras.backend import clear_session"
   ]
  },
  {
   "cell_type": "code",
   "execution_count": 36,
   "metadata": {
    "id": "WC6AZQlgIZkx"
   },
   "outputs": [
    {
     "name": "stdout",
     "output_type": "stream",
     "text": [
      "Model: \"model\"\n",
      "__________________________________________________________________________________________________\n",
      " Layer (type)                   Output Shape         Param #     Connected to                     \n",
      "==================================================================================================\n",
      " input_1 (InputLayer)           [(None, 7)]          0           []                               \n",
      "                                                                                                  \n",
      " input_2 (InputLayer)           [(None, 4)]          0           []                               \n",
      "                                                                                                  \n",
      " input_3 (InputLayer)           [(None, 3)]          0           []                               \n",
      "                                                                                                  \n",
      " input_4 (InputLayer)           [(None, 5)]          0           []                               \n",
      "                                                                                                  \n",
      " input_5 (InputLayer)           [(None, 4)]          0           []                               \n",
      "                                                                                                  \n",
      " dense (Dense)                  (None, 128)          1024        ['input_1[0][0]']                \n",
      "                                                                                                  \n",
      " dense_1 (Dense)                (None, 128)          640         ['input_2[0][0]']                \n",
      "                                                                                                  \n",
      " dense_2 (Dense)                (None, 128)          512         ['input_3[0][0]']                \n",
      "                                                                                                  \n",
      " dense_3 (Dense)                (None, 128)          768         ['input_4[0][0]']                \n",
      "                                                                                                  \n",
      " dense_4 (Dense)                (None, 128)          640         ['input_5[0][0]']                \n",
      "                                                                                                  \n",
      " add (Add)                      (None, 128)          0           ['dense[0][0]',                  \n",
      "                                                                  'dense_1[0][0]',                \n",
      "                                                                  'dense_2[0][0]',                \n",
      "                                                                  'dense_3[0][0]',                \n",
      "                                                                  'dense_4[0][0]']                \n",
      "                                                                                                  \n",
      " dense_5 (Dense)                (None, 512)          66048       ['add[0][0]']                    \n",
      "                                                                                                  \n",
      " dense_6 (Dense)                (None, 1)            513         ['dense_5[0][0]']                \n",
      "                                                                                                  \n",
      "==================================================================================================\n",
      "Total params: 70,145\n",
      "Trainable params: 70,145\n",
      "Non-trainable params: 0\n",
      "__________________________________________________________________________________________________\n"
     ]
    }
   ],
   "source": [
    "# 세션 클리어\n",
    "clear_session()\n",
    "# 모델 레이어 엮기\n",
    "il_role = Input(shape=(7,))\n",
    "hl_role = Dense(128, activation='relu')(il_role)\n",
    "\n",
    "il_per = Input(shape=(4,))\n",
    "hl_per = Dense(128, activation='relu')(il_per)\n",
    "\n",
    "il_reward = Input(shape=(3))\n",
    "hl_reward = Dense(128, activation='relu')(il_reward)\n",
    "\n",
    "il_car = Input(shape=(5))\n",
    "hl_car = Dense(128, activation='relu')(il_car)\n",
    "\n",
    "il_sat = Input(shape=(4,))\n",
    "hl_sat = Dense(128, activation='relu')(il_sat)\n",
    "\n",
    "add = Add()([hl_role, hl_per, hl_reward, hl_car, hl_sat])\n",
    "\n",
    "hl = Dense(512, activation='relu')(add)\n",
    "ol = Dense(1, activation='sigmoid')(hl)\n",
    "# 모델 시작과 끝 설정\n",
    "model = keras.Model([il_role, il_per, il_reward, il_car, il_sat], ol)\n",
    "# 모델 컴파일\n",
    "model.compile(loss=keras.losses.binary_crossentropy, metrics=['accuracy'], optimizer='adam')\n",
    "# 모델 요약\n",
    "model.summary()"
   ]
  },
  {
   "cell_type": "markdown",
   "metadata": {
    "id": "MWkg0Oogw5W5"
   },
   "source": [
    "### 모델 구조 시각화"
   ]
  },
  {
   "cell_type": "code",
   "execution_count": 37,
   "metadata": {
    "id": "yVf1ZIhWIbRe"
   },
   "outputs": [],
   "source": [
    "from tensorflow.keras.utils import plot_model"
   ]
  },
  {
   "cell_type": "code",
   "execution_count": 38,
   "metadata": {
    "id": "NE8LlcChIbJw"
   },
   "outputs": [
    {
     "data": {
      "image/png": "[encoded data removed]",
      "text/plain": [
       "<IPython.core.display.Image object>"
      ]
     },
     "execution_count": 38,
     "metadata": {},
     "output_type": "execute_result"
    }
   ],
   "source": [
    "# 모델 시각화\n",
    "plot_model(model, show_shapes=True)"
   ]
  },
  {
   "cell_type": "markdown",
   "metadata": {
    "id": "fLnughPGxKr4"
   },
   "source": [
    "### 모델 학습"
   ]
  },
  {
   "cell_type": "code",
   "execution_count": 39,
   "metadata": {},
   "outputs": [],
   "source": [
    "from tensorflow.keras.callbacks import EarlyStopping"
   ]
  },
  {
   "cell_type": "code",
   "execution_count": 40,
   "metadata": {},
   "outputs": [],
   "source": [
    "# 얼리스탑핑 값 설정\n",
    "es = EarlyStopping(monitor='val_loss', min_delta=0, patience=5, verbose=1, restore_best_weights=True)"
   ]
  },
  {
   "cell_type": "code",
   "execution_count": 41,
   "metadata": {
    "id": "aXPOYO-jIf94"
   },
   "outputs": [
    {
     "name": "stdout",
     "output_type": "stream",
     "text": [
      "Epoch 1/25\n",
      "27/27 [==============================] - 1s 13ms/step - loss: 69.1803 - accuracy: 0.7741 - val_loss: 63.9760 - val_accuracy: 0.8467\n",
      "Epoch 2/25\n",
      "27/27 [==============================] - 0s 4ms/step - loss: 22.2854 - accuracy: 0.7518 - val_loss: 6.8575 - val_accuracy: 0.8467\n",
      "Epoch 3/25\n",
      "27/27 [==============================] - 0s 4ms/step - loss: 31.8325 - accuracy: 0.7788 - val_loss: 63.5959 - val_accuracy: 0.8467\n",
      "Epoch 4/25\n",
      "27/27 [==============================] - 0s 4ms/step - loss: 15.9251 - accuracy: 0.7365 - val_loss: 16.1472 - val_accuracy: 0.8467\n",
      "Epoch 5/25\n",
      "27/27 [==============================] - 0s 4ms/step - loss: 10.7556 - accuracy: 0.7576 - val_loss: 4.0057 - val_accuracy: 0.7400\n",
      "Epoch 6/25\n",
      "27/27 [==============================] - 0s 4ms/step - loss: 15.3299 - accuracy: 0.7576 - val_loss: 35.7237 - val_accuracy: 0.8467\n",
      "Epoch 7/25\n",
      "27/27 [==============================] - 0s 4ms/step - loss: 12.8003 - accuracy: 0.7424 - val_loss: 9.7823 - val_accuracy: 0.8333\n",
      "Epoch 8/25\n",
      "27/27 [==============================] - 0s 4ms/step - loss: 15.2294 - accuracy: 0.7788 - val_loss: 12.7516 - val_accuracy: 0.8467\n",
      "Epoch 9/25\n",
      "27/27 [==============================] - 0s 4ms/step - loss: 17.4957 - accuracy: 0.7129 - val_loss: 28.2450 - val_accuracy: 0.8467\n",
      "Epoch 10/25\n",
      "20/27 [=====================>........] - ETA: 0s - loss: 17.2751 - accuracy: 0.7750Restoring model weights from the end of the best epoch: 5.\n",
      "27/27 [==============================] - 0s 4ms/step - loss: 14.3356 - accuracy: 0.7400 - val_loss: 7.2445 - val_accuracy: 0.7467\n",
      "Epoch 10: early stopping\n"
     ]
    },
    {
     "data": {
      "text/plain": [
       "<keras.callbacks.History at 0x21410c6d1f0>"
      ]
     },
     "execution_count": 41,
     "metadata": {},
     "output_type": "execute_result"
    }
   ],
   "source": [
    "# 모델학습\n",
    "model.fit([role_tr, per_tr, reward_tr, car_tr, sat_tr], y_train, epochs=25, verbose=1, validation_split=0.15, callbacks=es)"
   ]
  },
  {
   "cell_type": "markdown",
   "metadata": {
    "id": "mpmzUPy81EU4"
   },
   "source": [
    "### 모델 예측"
   ]
  },
  {
   "cell_type": "code",
   "execution_count": 42,
   "metadata": {
    "id": "_vqttmIaIhOM"
   },
   "outputs": [],
   "source": [
    "y_pred = model.predict([role_te, per_te, reward_te, car_te, sat_test])"
   ]
  },
  {
   "cell_type": "code",
   "execution_count": 43,
   "metadata": {
    "id": "tyc-c9WqIhKP"
   },
   "outputs": [
    {
     "name": "stdout",
     "output_type": "stream",
     "text": [
      "[[182  25]\n",
      " [ 30  13]]\n",
      "              precision    recall  f1-score   support\n",
      "\n",
      "           0       0.86      0.88      0.87       207\n",
      "           1       0.34      0.30      0.32        43\n",
      "\n",
      "    accuracy                           0.78       250\n",
      "   macro avg       0.60      0.59      0.59       250\n",
      "weighted avg       0.77      0.78      0.77       250\n",
      "\n"
     ]
    }
   ],
   "source": [
    "from sklearn.metrics import confusion_matrix, classification_report\n",
    "for idx, val in enumerate(y_pred):\n",
    "    if val >= 0.5:\n",
    "        y_pred[idx] = 1\n",
    "    else:\n",
    "        y_pred[idx] = 0\n",
    "print(confusion_matrix(y_test, y_pred))\n",
    "print(classification_report(y_test, y_pred))"
   ]
  },
  {
   "cell_type": "code",
   "execution_count": 44,
   "metadata": {
    "scrolled": true
   },
   "outputs": [
    {
     "data": {
      "image/png": "[encoded data removed]",
      "text/plain": [
       "<Figure size 432x288 with 2 Axes>"
      ]
     },
     "metadata": {
      "needs_background": "light"
     },
     "output_type": "display_data"
    }
   ],
   "source": [
    "sns.heatmap(confusion_matrix(y_test, y_pred), annot=True, cmap='Blues', fmt='.2f')\n",
    "plt.show()"
   ]
  },
  {
   "cell_type": "code",
   "execution_count": 45,
   "metadata": {},
   "outputs": [],
   "source": [
    "from sklearn.metrics import precision_score, recall_score, accuracy_score\n",
    "score = {}\n",
    "score['local model'] = [precision_score(y_test, y_pred),\n",
    "                        recall_score(y_test, y_pred),\n",
    "                        accuracy_score(y_test, y_pred)]"
   ]
  },
  {
   "cell_type": "markdown",
   "metadata": {
    "id": "5hu2kSt06YhE"
   },
   "source": [
    "## 평가\n",
    "\n",
    "1. 모델의 정확도를 기재하시오. 0.78\n",
    "2. 이직이라 예측한 것 중 실제로 이직한 비율을 구하시오. 0.34\n",
    "3. 실제 이직 데이터 중 모델이 이직이라 예측한 것의 비율을 구하시오. 0.30\n",
    "4. 남는다고 예측한 것 중 실제로 남아있는 비율을 구하시오. 0.86\n",
    "---\n",
    "### hidden layer 2개를 사용한 multilayer perceptron 구조와 비교하시오."
   ]
  },
  {
   "cell_type": "code",
   "execution_count": 46,
   "metadata": {},
   "outputs": [
    {
     "data": {
      "text/plain": [
       "(1000, 23)"
      ]
     },
     "execution_count": 46,
     "metadata": {},
     "output_type": "execute_result"
    }
   ],
   "source": [
    "x_train.shape"
   ]
  },
  {
   "cell_type": "code",
   "execution_count": 47,
   "metadata": {
    "id": "tE6VNEQ9Ilmg",
    "scrolled": true
   },
   "outputs": [
    {
     "name": "stdout",
     "output_type": "stream",
     "text": [
      "Model: \"model\"\n",
      "_________________________________________________________________\n",
      " Layer (type)                Output Shape              Param #   \n",
      "=================================================================\n",
      " input_1 (InputLayer)        [(None, 23)]              0         \n",
      "                                                                 \n",
      " dense (Dense)               (None, 256)               6144      \n",
      "                                                                 \n",
      " dense_1 (Dense)             (None, 512)               131584    \n",
      "                                                                 \n",
      " dense_2 (Dense)             (None, 1)                 513       \n",
      "                                                                 \n",
      "=================================================================\n",
      "Total params: 138,241\n",
      "Trainable params: 138,241\n",
      "Non-trainable params: 0\n",
      "_________________________________________________________________\n"
     ]
    }
   ],
   "source": [
    "# 세션 클리어\n",
    "clear_session()\n",
    "# 모델 레이어 엮기\n",
    "il = Input(shape=(23,))\n",
    "hl = Dense(256, activation='relu')(il)\n",
    "hl = Dense(512, activation='relu')(hl)\n",
    "ol = Dense(1, activation='sigmoid')(hl)\n",
    "# 모델 시작과 끝 설정\n",
    "model = keras.Model(il, ol)\n",
    "# 모델 컴파일\n",
    "model.compile(loss=keras.losses.binary_crossentropy, metrics=['accuracy'], optimizer='adam')\n",
    "# 모델 요약\n",
    "model.summary()"
   ]
  },
  {
   "cell_type": "code",
   "execution_count": 48,
   "metadata": {},
   "outputs": [
    {
     "data": {
      "image/png": "[encoded data removed]",
      "text/plain": [
       "<IPython.core.display.Image object>"
      ]
     },
     "execution_count": 48,
     "metadata": {},
     "output_type": "execute_result"
    }
   ],
   "source": [
    "plot_model(model, show_shapes=True)"
   ]
  },
  {
   "cell_type": "code",
   "execution_count": 49,
   "metadata": {
    "id": "C8UwTkt0Ilq-"
   },
   "outputs": [
    {
     "name": "stdout",
     "output_type": "stream",
     "text": [
      "Epoch 1/25\n",
      "27/27 [==============================] - 1s 9ms/step - loss: 155.4162 - accuracy: 0.7388 - val_loss: 59.7142 - val_accuracy: 0.8467\n",
      "Epoch 2/25\n",
      "27/27 [==============================] - 0s 4ms/step - loss: 18.2437 - accuracy: 0.7576 - val_loss: 37.5954 - val_accuracy: 0.8467\n",
      "Epoch 3/25\n",
      "27/27 [==============================] - 0s 4ms/step - loss: 41.7609 - accuracy: 0.7365 - val_loss: 70.3772 - val_accuracy: 0.8467\n",
      "Epoch 4/25\n",
      "27/27 [==============================] - 0s 4ms/step - loss: 55.7144 - accuracy: 0.7929 - val_loss: 59.9479 - val_accuracy: 0.8467\n",
      "Epoch 5/25\n",
      "27/27 [==============================] - 0s 5ms/step - loss: 23.8504 - accuracy: 0.7647 - val_loss: 14.4825 - val_accuracy: 0.8467\n",
      "Epoch 6/25\n",
      "27/27 [==============================] - 0s 4ms/step - loss: 20.4424 - accuracy: 0.7776 - val_loss: 13.3069 - val_accuracy: 0.8467\n",
      "Epoch 7/25\n",
      "27/27 [==============================] - 0s 4ms/step - loss: 26.6107 - accuracy: 0.7612 - val_loss: 5.9692 - val_accuracy: 0.8467\n",
      "Epoch 8/25\n",
      "27/27 [==============================] - 0s 4ms/step - loss: 9.1493 - accuracy: 0.7318 - val_loss: 12.4552 - val_accuracy: 0.8467\n",
      "Epoch 9/25\n",
      "27/27 [==============================] - 0s 4ms/step - loss: 16.8746 - accuracy: 0.7588 - val_loss: 31.2972 - val_accuracy: 0.8467\n",
      "Epoch 10/25\n",
      "27/27 [==============================] - 0s 4ms/step - loss: 14.5692 - accuracy: 0.7800 - val_loss: 2.5386 - val_accuracy: 0.4000\n",
      "Epoch 11/25\n",
      "27/27 [==============================] - 0s 4ms/step - loss: 15.2621 - accuracy: 0.7388 - val_loss: 23.2093 - val_accuracy: 0.8467\n",
      "Epoch 12/25\n",
      "27/27 [==============================] - 0s 4ms/step - loss: 7.5791 - accuracy: 0.7353 - val_loss: 25.5608 - val_accuracy: 0.8467\n",
      "Epoch 13/25\n",
      "27/27 [==============================] - 0s 4ms/step - loss: 12.2861 - accuracy: 0.7929 - val_loss: 7.4655 - val_accuracy: 0.8467\n",
      "Epoch 14/25\n",
      "27/27 [==============================] - 0s 4ms/step - loss: 13.4805 - accuracy: 0.7541 - val_loss: 26.7811 - val_accuracy: 0.8467\n",
      "Epoch 15/25\n",
      "22/27 [=======================>......] - ETA: 0s - loss: 13.8555 - accuracy: 0.7543Restoring model weights from the end of the best epoch: 10.\n",
      "27/27 [==============================] - 0s 4ms/step - loss: 11.8342 - accuracy: 0.7482 - val_loss: 4.7633 - val_accuracy: 0.8333\n",
      "Epoch 15: early stopping\n"
     ]
    },
    {
     "data": {
      "text/plain": [
       "<keras.callbacks.History at 0x2141506fd00>"
      ]
     },
     "execution_count": 49,
     "metadata": {},
     "output_type": "execute_result"
    }
   ],
   "source": [
    "model.fit(x_train, y_train, epochs=25, verbose=1, validation_split=0.15, callbacks=es)"
   ]
  },
  {
   "cell_type": "code",
   "execution_count": 50,
   "metadata": {},
   "outputs": [
    {
     "name": "stdout",
     "output_type": "stream",
     "text": [
      "[[ 57 150]\n",
      " [  3  40]]\n",
      "              precision    recall  f1-score   support\n",
      "\n",
      "           0       0.95      0.28      0.43       207\n",
      "           1       0.21      0.93      0.34        43\n",
      "\n",
      "    accuracy                           0.39       250\n",
      "   macro avg       0.58      0.60      0.39       250\n",
      "weighted avg       0.82      0.39      0.41       250\n",
      "\n"
     ]
    }
   ],
   "source": [
    "y_pred = model.predict(x_test)\n",
    "for idx, val in enumerate(y_pred):\n",
    "    if val >= 0.5:\n",
    "        y_pred[idx] = 1\n",
    "    else:\n",
    "        y_pred[idx] = 0\n",
    "print(confusion_matrix(y_test, y_pred))\n",
    "print(classification_report(y_test, y_pred))"
   ]
  },
  {
   "cell_type": "code",
   "execution_count": 51,
   "metadata": {
    "scrolled": true
   },
   "outputs": [
    {
     "data": {
      "image/png": "[encoded data removed]",
      "text/plain": [
       "<Figure size 432x288 with 2 Axes>"
      ]
     },
     "metadata": {
      "needs_background": "light"
     },
     "output_type": "display_data"
    }
   ],
   "source": [
    "sns.heatmap(confusion_matrix(y_test, y_pred), annot=True, cmap='Blues', fmt='.2f')\n",
    "plt.show()"
   ]
  },
  {
   "cell_type": "code",
   "execution_count": 52,
   "metadata": {},
   "outputs": [],
   "source": [
    "score['model2'] = [precision_score(y_test, y_pred),\n",
    "                   recall_score(y_test, y_pred),\n",
    "                   accuracy_score(y_test, y_pred)]"
   ]
  },
  {
   "cell_type": "code",
   "execution_count": 53,
   "metadata": {},
   "outputs": [
    {
     "data": {
      "image/png": "[encoded data removed]",
      "text/plain": [
       "<Figure size 720x360 with 1 Axes>"
      ]
     },
     "metadata": {
      "needs_background": "light"
     },
     "output_type": "display_data"
    }
   ],
   "source": [
    "# 성능 비교\n",
    "tmp = pd.DataFrame.from_dict(score, orient='index', columns=['Precision', 'Recall', 'Accuracy'])\n",
    "tmp.plot(kind='bar')\n",
    "fig = plt.gcf()\n",
    "fig.set_size_inches(10, 5)\n",
    "plt.title('Deep learning Test', size=20, pad=20)\n",
    "plt.xlabel('Model')\n",
    "plt.ylabel('Performance')\n",
    "plt.xticks(rotation = 0)\n",
    "plt.show()"
   ]
  },
  {
   "cell_type": "markdown",
   "metadata": {},
   "source": [
    "* 정확도가 높아 성능은 첫번째 모델이 좋지만 실제 이직을 예측할 확률은 두번째 모델이 높았다.\n",
    "* 실제 이직하는 사람들을 찾아내는 것이 중요하기 때문에 성능은 낮지만 이직 여부 예측에 두번째 모델을 사용하는것이 좋아보인다.\n",
    "* 전체적으로 두 모델 모두 적절한 예측이 어렵기 때문에 새로운 모델이나 튜닝이 필요하다"
   ]
  }
 ],
 "metadata": {
  "colab": {
   "collapsed_sections": [],
   "name": "3_6_직원 이직 여부 예측.ipynb",
   "provenance": [],
   "toc_visible": true
  },
  "kernelspec": {
   "display_name": "Python 3",
   "language": "python",
   "name": "python3"
  },
  "language_info": {
   "codemirror_mode": {
    "name": "ipython",
    "version": 3
   },
   "file_extension": ".py",
   "mimetype": "text/x-python",
   "name": "python",
   "nbconvert_exporter": "python",
   "pygments_lexer": "ipython3",
   "version": "3.8.8"
  }
 },
 "nbformat": 4,
 "nbformat_minor": 1
}
